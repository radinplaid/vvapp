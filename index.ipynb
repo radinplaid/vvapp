{
 "cells": [
  {
   "cell_type": "markdown",
   "metadata": {},
   "source": [
    "# vvapp\n",
    "\n",
    "> A python library simplifying ipyvuetify voila application building."
   ]
  },
  {
   "cell_type": "code",
   "execution_count": null,
   "metadata": {},
   "outputs": [],
   "source": [
    "#hide\n",
    "%load_ext autoreload\n",
    "%autoreload 2\n",
    "from vvapp.inputs import *\n",
    "from IPython.display import Image"
   ]
  },
  {
   "cell_type": "markdown",
   "metadata": {},
   "source": [
    "## Documentation\n",
    "\n",
    "https://radinplaid.github.io/vvapp/"
   ]
  },
  {
   "cell_type": "markdown",
   "metadata": {},
   "source": [
    "## Install"
   ]
  },
  {
   "cell_type": "markdown",
   "metadata": {},
   "source": [
    "`pip install vvapp`"
   ]
  },
  {
   "cell_type": "markdown",
   "metadata": {},
   "source": [
    "## Inputs\n",
    "\n",
    "`vvapp` is meant to be used in Jupyter, so launching jupyter first (`$jupyter notebook`).\n",
    "\n",
    "There are a few key things to keep in mind when getting up and running with `vvapp`:\n",
    "\n",
    "* `v_model`\n",
    "    * The value of `vvapp` inputs is set and accessed via the `v_model` attribute, following the `ipyvuetify` convention\n",
    "* `class_`\n",
    "    * This is where you put `vuetify.js` class properties, like `ma-4` to add margins around the input\n",
    "* `style_`\n",
    "    * This is where you can add CSS to your elements\n",
    "* `hint`\n",
    "    * The `hint` can be a string *or* a callable to provide input validation\n",
    "    * If `hint` is a callable, it must return a string or None; if it returns a string, the input is marked as invalid and the string is displayed\n",
    "        "
   ]
  },
  {
   "cell_type": "code",
   "execution_count": null,
   "metadata": {},
   "outputs": [
    {
     "data": {
      "text/plain": [
       "['password', 'time', 'date', 'number']"
      ]
     },
     "execution_count": null,
     "metadata": {},
     "output_type": "execute_result"
    }
   ],
   "source": [
    "from vvapp.inputs import __all__ as available_input_widgets\n",
    "available_input_widgets"
   ]
  },
  {
   "cell_type": "markdown",
   "metadata": {},
   "source": [
    "### date"
   ]
  },
  {
   "cell_type": "code",
   "execution_count": null,
   "metadata": {},
   "outputs": [
    {
     "data": {
      "application/vnd.jupyter.widget-view+json": {
       "model_id": "c86c336acdf2454d9eb43db1cc0e422e",
       "version_major": 2,
       "version_minor": 0
      },
      "text/plain": [
       "TextField(label='Please enter a date (format: YYYY-mm-dd)', persistent_hint=False, style_='max-width:320px', t…"
      ]
     },
     "metadata": {},
     "output_type": "display_data"
    }
   ],
   "source": [
    "from vvapp.inputs import date\n",
    "date(label='Please enter a date (format: YYYY-mm-dd)',\n",
    "     v_model='2020-04-15',\n",
    "     style_='max-width:320px')"
   ]
  },
  {
   "cell_type": "markdown",
   "metadata": {},
   "source": [
    "\n",
    "<img align=\"left\" alt=\"Date Input\" caption=\"Date Input\" src=\"images/input_date.png\" />\n"
   ]
  },
  {
   "cell_type": "markdown",
   "metadata": {},
   "source": [
    "### time"
   ]
  },
  {
   "cell_type": "code",
   "execution_count": null,
   "metadata": {},
   "outputs": [
    {
     "data": {
      "application/vnd.jupyter.widget-view+json": {
       "model_id": "0d19e8fff32c449bbdc0a9e1523f9f48",
       "version_major": 2,
       "version_minor": 0
      },
      "text/plain": [
       "TextField(label='Please enter a time (format: HH:MM)', persistent_hint=False, style_='max-width:320px', type='…"
      ]
     },
     "metadata": {},
     "output_type": "display_data"
    }
   ],
   "source": [
    "from vvapp.inputs import time\n",
    "time(label='Please enter a time (format: HH:MM)',\n",
    "     v_model='13:34',\n",
    "     style_='max-width:320px')"
   ]
  },
  {
   "cell_type": "markdown",
   "metadata": {},
   "source": [
    "\n",
    "<img align=\"left\" alt=\"Time Input\" caption=\"Time Input\" src=\"images/input_time.png\" />\n"
   ]
  },
  {
   "cell_type": "markdown",
   "metadata": {},
   "source": [
    "### number"
   ]
  },
  {
   "cell_type": "code",
   "execution_count": null,
   "metadata": {},
   "outputs": [
    {
     "data": {
      "application/vnd.jupyter.widget-view+json": {
       "model_id": "c77892ee355440f08faa2ffdd2b1b507",
       "version_major": 2,
       "version_minor": 0
      },
      "text/plain": [
       "TextField(error=False, persistent_hint=True, placeholder='Enter a number', style_='max-width:320px', type='num…"
      ]
     },
     "metadata": {},
     "output_type": "display_data"
    }
   ],
   "source": [
    "from vvapp.inputs import number\n",
    "number(placeholder='Enter a number',\n",
    "     style_='max-width:320px')"
   ]
  },
  {
   "cell_type": "markdown",
   "metadata": {},
   "source": [
    "\n",
    "<img align=\"left\" alt=\"Number Input\" caption=\"Number Input\" src=\"images/input_number.png\" />\n"
   ]
  },
  {
   "cell_type": "markdown",
   "metadata": {},
   "source": [
    "`number` inputs have a default validation function that changes the `error` state of the input to True and prints a sensible hint if the value is less than `min_value` or greater than `max_value`"
   ]
  },
  {
   "cell_type": "code",
   "execution_count": null,
   "metadata": {},
   "outputs": [
    {
     "data": {
      "application/vnd.jupyter.widget-view+json": {
       "model_id": "61397cece7404a3592ad9427e75e8a44",
       "version_major": 2,
       "version_minor": 0
      },
      "text/plain": [
       "TextField(error=True, hint='Input: 123.0 is greater than the maximum supported value 100.', label='Number Inpu…"
      ]
     },
     "metadata": {},
     "output_type": "display_data"
    }
   ],
   "source": [
    "from vvapp.inputs import number\n",
    "number(label='Number Input',\n",
    "       v_model=123,\n",
    "       min_value=0,\n",
    "       max_value=100,\n",
    "     style_='max-width:320px')"
   ]
  },
  {
   "cell_type": "markdown",
   "metadata": {},
   "source": [
    "\n",
    "<img align=\"left\" alt=\"Number Input With Validation\" caption=\"Number Input With Validation\" src=\"images/input_number_validation.png\" />\n"
   ]
  },
  {
   "cell_type": "markdown",
   "metadata": {},
   "source": [
    "### password"
   ]
  },
  {
   "cell_type": "code",
   "execution_count": null,
   "metadata": {},
   "outputs": [
    {
     "data": {
      "application/vnd.jupyter.widget-view+json": {
       "model_id": "139770f053234af09076d343f1b38986",
       "version_major": 2,
       "version_minor": 0
      },
      "text/plain": [
       "TextField(label='Please enter a password', persistent_hint=False, type='password', v_model='correcthorsebatter…"
      ]
     },
     "metadata": {},
     "output_type": "display_data"
    }
   ],
   "source": [
    "from vvapp.inputs import password\n",
    "pw = password(label='Please enter a password',v_model='correcthorsebatterystapler')\n",
    "pw"
   ]
  },
  {
   "cell_type": "markdown",
   "metadata": {},
   "source": [
    "\n",
    "<img align=\"left\" alt=\"Password Input\" caption=\"Password Input\" src=\"images/input_password.png\" />\n"
   ]
  },
  {
   "cell_type": "markdown",
   "metadata": {},
   "source": [
    "The value of of a vvapp widget is set/accessed by the `v_model` attribute, just like in ipyvuetify"
   ]
  },
  {
   "cell_type": "code",
   "execution_count": null,
   "metadata": {},
   "outputs": [
    {
     "data": {
      "text/plain": [
       "'correcthorsebatterystapler'"
      ]
     },
     "execution_count": null,
     "metadata": {},
     "output_type": "execute_result"
    }
   ],
   "source": [
    "pw.v_model"
   ]
  },
  {
   "cell_type": "markdown",
   "metadata": {},
   "source": [
    "Here we demonstrate the use of a function to validate the value of the input.\n",
    "\n",
    "In this example the password must be at least 12 characters, less than 64 characters and include at least one number:"
   ]
  },
  {
   "cell_type": "code",
   "execution_count": null,
   "metadata": {},
   "outputs": [
    {
     "data": {
      "application/vnd.jupyter.widget-view+json": {
       "model_id": "9fd23e0a25d7412d83e77252f192f0e9",
       "version_major": 2,
       "version_minor": 0
      },
      "text/plain": [
       "TextField(error=True, hint='Must contain at least one number!', label='Please enter a password', persistent_hi…"
      ]
     },
     "metadata": {},
     "output_type": "display_data"
    }
   ],
   "source": [
    "import re\n",
    "def validate_pw(widget_value):\n",
    "    if widget_value is None:\n",
    "        return 'Input must not be None'\n",
    "\n",
    "    else:\n",
    "        if len(widget_value) < 12:\n",
    "            return 'Too Short!'\n",
    "\n",
    "        if len(widget_value) > 64:\n",
    "            return 'Too Long!'\n",
    "\n",
    "        if not re.search('[0-9]+',widget_value):\n",
    "            return 'Must contain at least one number!'\n",
    "\n",
    "    return None\n",
    "\n",
    "pw = password(label='Please enter a password',v_model='correcthorsebatterystapler', hint=validate_pw)\n",
    "pw"
   ]
  },
  {
   "cell_type": "markdown",
   "metadata": {},
   "source": [
    "\n",
    "<img align=\"left\" alt=\"Password Input with Validation\" caption=\"Password Input with Validation\" src=\"images/input_password_validation.png\" />\n"
   ]
  },
  {
   "cell_type": "markdown",
   "metadata": {},
   "source": [
    "## Outputs"
   ]
  },
  {
   "cell_type": "markdown",
   "metadata": {},
   "source": [
    "### PandasTable"
   ]
  },
  {
   "cell_type": "code",
   "execution_count": null,
   "metadata": {},
   "outputs": [
    {
     "data": {
      "application/vnd.jupyter.widget-view+json": {
       "model_id": "ee3fc45376e54c44bc3397855023d2a5",
       "version_major": 2,
       "version_minor": 0
      },
      "text/plain": [
       "PandasTable(headers=[{'text': 'index', 'value': 'index', 'align': 'left', 'sortable': True}, {'text': 'a', 'va…"
      ]
     },
     "metadata": {},
     "output_type": "display_data"
    }
   ],
   "source": [
    "import pandas as pd\n",
    "from vvapp.outputs import PandasTable\n",
    "df = pd.DataFrame({'a':[1,2,3],'b':[2,3,4]})\n",
    "PandasTable(data=df,title='My DataFrame')"
   ]
  },
  {
   "cell_type": "markdown",
   "metadata": {},
   "source": [
    "\n",
    "<img align=\"left\" alt=\"Pandas Dataframe Output\" caption=\"Pandas Dataframe Output\" src=\"images/output_pandas_table2.png\" />\n"
   ]
  },
  {
   "cell_type": "markdown",
   "metadata": {},
   "source": [
    "The pandas DataFrame output has a nice warning/error display if the search returns zero results or if are no rows in the PandasDataframe:"
   ]
  },
  {
   "cell_type": "code",
   "execution_count": null,
   "metadata": {},
   "outputs": [
    {
     "data": {
      "application/vnd.jupyter.widget-view+json": {
       "model_id": "60744956120747c2a507ee93947d83cc",
       "version_major": 2,
       "version_minor": 0
      },
      "text/plain": [
       "PandasTable(headers=[{'text': 'index', 'value': 'index', 'align': 'left', 'sortable': True}, {'text': 'a', 'va…"
      ]
     },
     "metadata": {},
     "output_type": "display_data"
    }
   ],
   "source": [
    "import pandas as pd\n",
    "from vvapp.outputs import PandasTable\n",
    "df = pd.DataFrame({'a':[1,2,3],'b':[2,3,4]})\n",
    "PandasTable(data=df,title='My DataFrame')"
   ]
  },
  {
   "cell_type": "markdown",
   "metadata": {},
   "source": [
    "\n",
    "<img align=\"left\" alt=\"Pandas Dataframe Output No Search Results\" caption=\"Pandas Dataframe Output No Search Results\" src=\"images/output_pandas_table_zeroresults.png\" />\n"
   ]
  },
  {
   "cell_type": "code",
   "execution_count": null,
   "metadata": {},
   "outputs": [
    {
     "data": {
      "application/vnd.jupyter.widget-view+json": {
       "model_id": "5d43fb97e11e4082881866ea7d622025",
       "version_major": 2,
       "version_minor": 0
      },
      "text/plain": [
       "PandasTable(headers=[{'text': 'index', 'value': 'index', 'align': 'left', 'sortable': True}], index_col='index…"
      ]
     },
     "metadata": {},
     "output_type": "display_data"
    }
   ],
   "source": [
    "import pandas as pd\n",
    "from vvapp.outputs import PandasTable\n",
    "PandasTable(data=pd.DataFrame(),title='My DataFrame')"
   ]
  },
  {
   "cell_type": "markdown",
   "metadata": {},
   "source": [
    "\n",
    "<img align=\"left\" alt=\"Pandas Dataframe Output No Data\" caption=\"Pandas Dataframe Output No Data\" src=\"images/output_pandas_table_nodata.png\" />\n"
   ]
  },
  {
   "cell_type": "code",
   "execution_count": null,
   "metadata": {},
   "outputs": [],
   "source": []
  }
 ],
 "metadata": {
  "kernelspec": {
   "display_name": "Python (vvapp)",
   "language": "python",
   "name": "vvapp"
  }
 },
 "nbformat": 4,
 "nbformat_minor": 2
}
