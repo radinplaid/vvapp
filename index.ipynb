{
 "cells": [
  {
   "cell_type": "code",
   "execution_count": null,
   "metadata": {},
   "outputs": [],
   "source": [
    "#hide\n",
    "%load_ext autoreload\n",
    "%autoreload 2\n",
    "from vvapp.inputs import *"
   ]
  },
  {
   "cell_type": "markdown",
   "metadata": {},
   "source": [
    "# vvapp\n",
    "\n",
    "> A python library simplifying ipyvuetify voila application building."
   ]
  },
  {
   "cell_type": "markdown",
   "metadata": {},
   "source": [
    "## Install"
   ]
  },
  {
   "cell_type": "markdown",
   "metadata": {},
   "source": [
    "`pip install vvapp`"
   ]
  },
  {
   "cell_type": "markdown",
   "metadata": {},
   "source": [
    "## Inputs\n",
    "\n",
    "`vvapp` is meant to be used in Jupyter, so launching jupyter first (`$jupyter notebook`).\n",
    "\n",
    "There are a few key things to keep in mind when getting up and running with `vvapp`:\n",
    "\n",
    "* `v_model`\n",
    "    * The value of `vvapp` inputs is set and accessed via the `v_model` attribute, following the `ipyvuetify` convention\n",
    "* `class_`\n",
    "    * This is where you put `vuetify.js` class properties, like `ma-4` to add margins around the input\n",
    "* `style_`\n",
    "    * This is where you can add CSS to your elements\n",
    "* `hint`\n",
    "    * The `hint` can be a string *or* a callable to provide input validation\n",
    "    * If `hint` is a callable, it must return a string or None; if it returns a string, the input is marked as invalid and the string is displayed\n",
    "        "
   ]
  },
  {
   "cell_type": "code",
   "execution_count": null,
   "metadata": {},
   "outputs": [
    {
     "data": {
      "text/plain": [
       "['password']"
      ]
     },
     "execution_count": null,
     "metadata": {},
     "output_type": "execute_result"
    }
   ],
   "source": [
    "from vvapp.inputs import __all__ as available_input_widgets\n",
    "available_input_widgets"
   ]
  },
  {
   "cell_type": "markdown",
   "metadata": {},
   "source": [
    "### password"
   ]
  },
  {
   "cell_type": "code",
   "execution_count": null,
   "metadata": {},
   "outputs": [
    {
     "data": {
      "application/vnd.jupyter.widget-view+json": {
       "model_id": "08f0b3cdc2f041c995ff8d245f1242e6",
       "version_major": 2,
       "version_minor": 0
      },
      "text/plain": [
       "TextField(label='Please enter a password', persistent_hint=False, type='password', v_model='correcthorsebatter…"
      ]
     },
     "metadata": {},
     "output_type": "display_data"
    }
   ],
   "source": [
    "from vvapp.inputs import password\n",
    "pw = password(label='Please enter a password',v_model='correcthorsebatterystapler')\n",
    "pw"
   ]
  },
  {
   "cell_type": "markdown",
   "metadata": {},
   "source": [
    "<img style=\"float: left;\" src=\"docs/images/input_password.png\">\n"
   ]
  },
  {
   "cell_type": "markdown",
   "metadata": {},
   "source": [
    "The value of of a vvapp widget is set/accessed by the `v_model` attribute, just like in ipyvuetify"
   ]
  },
  {
   "cell_type": "code",
   "execution_count": null,
   "metadata": {},
   "outputs": [
    {
     "data": {
      "text/plain": [
       "'correcthorsebatterystapler'"
      ]
     },
     "execution_count": null,
     "metadata": {},
     "output_type": "execute_result"
    }
   ],
   "source": [
    "pw.v_model"
   ]
  },
  {
   "cell_type": "markdown",
   "metadata": {},
   "source": [
    "Here we demonstrate the use of a function to validate the value of the input.\n",
    "\n",
    "In this example the password must be at least 12 characters, less than 64 characters and include at least one number:"
   ]
  },
  {
   "cell_type": "code",
   "execution_count": null,
   "metadata": {},
   "outputs": [
    {
     "data": {
      "application/vnd.jupyter.widget-view+json": {
       "model_id": "5ef3bafe7fb0465489a087e354d8ebfd",
       "version_major": 2,
       "version_minor": 0
      },
      "text/plain": [
       "TextField(error=True, hint='Must contain at least one number!', label='Please enter a password', persistent_hi…"
      ]
     },
     "metadata": {},
     "output_type": "display_data"
    }
   ],
   "source": [
    "import re\n",
    "def validate_pw(widget_value):\n",
    "    if widget_value is None:\n",
    "        return 'Input must not be None'\n",
    "\n",
    "    else:\n",
    "        if len(widget_value) < 12:\n",
    "            return 'Too Short!'\n",
    "\n",
    "        if len(widget_value) > 64:\n",
    "            return 'Too Long!'\n",
    "\n",
    "        if not re.search('[0-9]+',widget_value):\n",
    "            return 'Must contain at least one number!'\n",
    "\n",
    "    return None\n",
    "\n",
    "pw = password(label='Please enter a password',v_model='correcthorsebatterystapler', hint=validate_pw)\n",
    "pw"
   ]
  },
  {
   "cell_type": "markdown",
   "metadata": {},
   "source": [
    "<img style=\"float: left;\" src=\"docs/img/input_password_validation.png\">"
   ]
  }
 ],
 "metadata": {
  "kernelspec": {
   "display_name": "Python (vvapp)",
   "language": "python",
   "name": "vvapp"
  }
 },
 "nbformat": 4,
 "nbformat_minor": 2
}
