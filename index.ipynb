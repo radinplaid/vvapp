{
 "cells": [
  {
   "cell_type": "markdown",
   "metadata": {},
   "source": [
    "# vvapp\n",
    "\n",
    "> A python library simplifying ipyvuetify voila application building."
   ]
  },
  {
   "cell_type": "code",
   "execution_count": null,
   "metadata": {},
   "outputs": [],
   "source": [
    "#hide\n",
    "%load_ext autoreload\n",
    "%autoreload 2\n",
    "from vvapp.inputs import *\n",
    "from IPython.display import Image"
   ]
  },
  {
   "cell_type": "markdown",
   "metadata": {},
   "source": [
    "## Documentation\n",
    "\n",
    "https://radinplaid.github.io/vvapp/"
   ]
  },
  {
   "cell_type": "markdown",
   "metadata": {},
   "source": [
    "## Install"
   ]
  },
  {
   "cell_type": "markdown",
   "metadata": {},
   "source": [
    "`pip install vvapp`"
   ]
  },
  {
   "cell_type": "markdown",
   "metadata": {},
   "source": [
    "## Inputs\n",
    "\n",
    "`vvapp` is meant to be used in Jupyter, so launching jupyter first (`$jupyter notebook`).\n",
    "\n",
    "There are a few key things to keep in mind when getting up and running with `vvapp`:\n",
    "\n",
    "* `v_model`\n",
    "    * The value of `vvapp` inputs is set and accessed via the `v_model` attribute, following the `ipyvuetify` convention\n",
    "* `class_`\n",
    "    * This is where you put `vuetify.js` class properties, like `ma-4` to add margins around the input\n",
    "* `style_`\n",
    "    * This is where you can add CSS to your elements\n",
    "* `hint`\n",
    "    * The `hint` can be a string *or* a callable to provide input validation\n",
    "    * If `hint` is a callable, it must return a string or None; if it returns a string, the input is marked as invalid and the string is displayed\n",
    "        "
   ]
  },
  {
   "cell_type": "code",
   "execution_count": null,
   "metadata": {},
   "outputs": [
    {
     "data": {
      "text/plain": [
       "['switch',\n",
       " 'checkbox',\n",
       " 'text',\n",
       " 'password',\n",
       " 'time_input',\n",
       " 'date',\n",
       " 'date_range',\n",
       " 'number',\n",
       " 'range_slider',\n",
       " 'slider',\n",
       " 'radio_buttons',\n",
       " 'select',\n",
       " 'select_or_create',\n",
       " 'button',\n",
       " 'color_picker']"
      ]
     },
     "execution_count": null,
     "metadata": {},
     "output_type": "execute_result"
    }
   ],
   "source": [
    "from vvapp.inputs import __all__ as available_input_widgets\n",
    "available_input_widgets"
   ]
  },
  {
   "cell_type": "markdown",
   "metadata": {},
   "source": [
    "### text"
   ]
  },
  {
   "cell_type": "code",
   "execution_count": null,
   "metadata": {},
   "outputs": [
    {
     "data": {
      "application/vnd.jupyter.widget-view+json": {
       "model_id": "7f915b83d1e046ef8b5028b107a14ca6",
       "version_major": 2,
       "version_minor": 0
      },
      "text/plain": [
       "TextField(hint='Enter some text', label='Text Input', persistent_hint=False, v_model='some text')"
      ]
     },
     "metadata": {},
     "output_type": "display_data"
    }
   ],
   "source": [
    "from vvapp.inputs import text\n",
    "text(label='Text Input',hint='Enter some text',v_model='some text')"
   ]
  },
  {
   "cell_type": "markdown",
   "metadata": {},
   "source": [
    "<img alt=\"Text Input\" caption=\"Text Input Example\" src=\"images/input_text.png\" />"
   ]
  },
  {
   "cell_type": "markdown",
   "metadata": {},
   "source": [
    "### select (dropdown)\n",
    "\n",
    "For a select input, the `v_model` can be a list:"
   ]
  },
  {
   "cell_type": "code",
   "execution_count": null,
   "metadata": {},
   "outputs": [
    {
     "data": {
      "application/vnd.jupyter.widget-view+json": {
       "model_id": "d82d8b8eeaad415792fc687a0690d6e3",
       "version_major": 2,
       "version_minor": 0
      },
      "text/plain": [
       "Select(deletable_chips=False, items=['one', 'two', 'three'], multiple=False, persistent_hint=False, small_chip…"
      ]
     },
     "metadata": {},
     "output_type": "display_data"
    }
   ],
   "source": [
    "from vvapp.inputs import select\n",
    "select(items=['one','two','three'],v_model='two')"
   ]
  },
  {
   "cell_type": "markdown",
   "metadata": {},
   "source": [
    "<img alt=\"Select Input\" caption=\"Select Input\" src=\"images/select1.png\" />"
   ]
  },
  {
   "cell_type": "markdown",
   "metadata": {},
   "source": [
    "... or a dict where the keys are the labels to be displayed and the values and the values"
   ]
  },
  {
   "cell_type": "code",
   "execution_count": null,
   "metadata": {},
   "outputs": [
    {
     "data": {
      "application/vnd.jupyter.widget-view+json": {
       "model_id": "b9ca3873d73e4524b4e2ec7c13453c70",
       "version_major": 2,
       "version_minor": 0
      },
      "text/plain": [
       "Select(deletable_chips=False, items=[{'text': 'One', 'value': 'one'}, {'text': 'Two', 'value': 'two'}, {'text'…"
      ]
     },
     "metadata": {},
     "output_type": "display_data"
    }
   ],
   "source": [
    "select(items={'One':'one','Two':'two','Three':'three'},v_model='two')"
   ]
  },
  {
   "cell_type": "markdown",
   "metadata": {},
   "source": [
    "<img alt=\"Select Input\" caption=\"Select Input With dict input\" src=\"images/select2.png\" />"
   ]
  },
  {
   "cell_type": "markdown",
   "metadata": {},
   "source": [
    "Also, it is possible for multiple items to be selected via the `multiple` prop:"
   ]
  },
  {
   "cell_type": "code",
   "execution_count": null,
   "metadata": {},
   "outputs": [
    {
     "data": {
      "application/vnd.jupyter.widget-view+json": {
       "model_id": "65660f1a0978448d814e95e76b4f5848",
       "version_major": 2,
       "version_minor": 0
      },
      "text/plain": [
       "Select(deletable_chips=False, items=[{'text': 'One', 'value': 'one'}, {'text': 'Two', 'value': 'two'}, {'text'…"
      ]
     },
     "metadata": {},
     "output_type": "display_data"
    }
   ],
   "source": [
    "tmp = select(items={'One':'one','Two':'two','Three':'three'},v_model=['one','two'],multiple=True)\n",
    "tmp"
   ]
  },
  {
   "cell_type": "markdown",
   "metadata": {},
   "source": [
    "<img alt=\"Select Input\" caption=\"Multiple Select Input\" src=\"images/select3.png\" />"
   ]
  },
  {
   "cell_type": "code",
   "execution_count": null,
   "metadata": {},
   "outputs": [
    {
     "data": {
      "text/plain": [
       "['one', 'two']"
      ]
     },
     "execution_count": null,
     "metadata": {},
     "output_type": "execute_result"
    }
   ],
   "source": [
    "tmp.v_model"
   ]
  },
  {
   "cell_type": "markdown",
   "metadata": {},
   "source": [
    "### select_or_create (combobox)"
   ]
  },
  {
   "cell_type": "code",
   "execution_count": null,
   "metadata": {},
   "outputs": [
    {
     "data": {
      "application/vnd.jupyter.widget-view+json": {
       "model_id": "355fb91de6d24482b36d86592d9b3c62",
       "version_major": 2,
       "version_minor": 0
      },
      "text/plain": [
       "Combobox(deletable_chips=True, hide_selected=True, hint='Select or create item(s)', items=['one', 'two', 'thre…"
      ]
     },
     "metadata": {},
     "output_type": "display_data"
    }
   ],
   "source": [
    "from vvapp.inputs import select_or_create\n",
    "select_or_create(items=['one','two','three'],v_model=['one','two'],multiple=True)\n"
   ]
  },
  {
   "cell_type": "markdown",
   "metadata": {},
   "source": [
    "<img alt=\"Combobox Input\" caption=\"Combobox\" src=\"images/select_or_create.png\" />"
   ]
  },
  {
   "cell_type": "markdown",
   "metadata": {},
   "source": [
    "### switch"
   ]
  },
  {
   "cell_type": "code",
   "execution_count": null,
   "metadata": {},
   "outputs": [
    {
     "data": {
      "application/vnd.jupyter.widget-view+json": {
       "model_id": "9c716599f8d94245a3ab3c8586ad28c9",
       "version_major": 2,
       "version_minor": 0
      },
      "text/plain": [
       "Switch(label='Switch example', persistent_hint=False, v_model=True)"
      ]
     },
     "metadata": {},
     "output_type": "display_data"
    }
   ],
   "source": [
    "from vvapp.inputs import switch\n",
    "switch(label='Switch example',v_model=True)"
   ]
  },
  {
   "cell_type": "markdown",
   "metadata": {},
   "source": [
    "<img alt=\"Switch Input\" caption=\"Switch Input Example\" src=\"images/switch.png\" />"
   ]
  },
  {
   "cell_type": "markdown",
   "metadata": {},
   "source": [
    "### checkbox"
   ]
  },
  {
   "cell_type": "code",
   "execution_count": null,
   "metadata": {},
   "outputs": [
    {
     "data": {
      "application/vnd.jupyter.widget-view+json": {
       "model_id": "180b8398508847f3b848eca67a0450a4",
       "version_major": 2,
       "version_minor": 0
      },
      "text/plain": [
       "Checkbox(label='Checkbox example', persistent_hint=False, v_model=True)"
      ]
     },
     "metadata": {},
     "output_type": "display_data"
    }
   ],
   "source": [
    "from vvapp.inputs import checkbox\n",
    "checkbox(label='Checkbox example',v_model=True)"
   ]
  },
  {
   "cell_type": "markdown",
   "metadata": {},
   "source": [
    "<img alt=\"Checkbox Input\" caption=\"Checkbox\" src=\"images/checkbox.png\" />"
   ]
  },
  {
   "cell_type": "markdown",
   "metadata": {},
   "source": [
    "### slider"
   ]
  },
  {
   "cell_type": "code",
   "execution_count": null,
   "metadata": {},
   "outputs": [
    {
     "data": {
      "application/vnd.jupyter.widget-view+json": {
       "model_id": "9bb41cd152514d43bbcc679460191a4c",
       "version_major": 2,
       "version_minor": 0
      },
      "text/plain": [
       "Slider(class_='mx-6 mt-8', color='red', label='Slider Example', max=10.0, min=0.0, persistent_hint=False, step…"
      ]
     },
     "metadata": {},
     "output_type": "display_data"
    }
   ],
   "source": [
    "from vvapp.inputs import slider\n",
    "slider(label='Slider Example',\n",
    "       min=0,\n",
    "       max=10,\n",
    "       step=1,\n",
    "       color='red',\n",
    "       track_color='red',\n",
    "       v_model=5)"
   ]
  },
  {
   "cell_type": "markdown",
   "metadata": {},
   "source": [
    "<img alt=\"Slider Input\" caption=\"Slider\" src=\"images/slider.png\" />"
   ]
  },
  {
   "cell_type": "markdown",
   "metadata": {},
   "source": [
    "### range_slider"
   ]
  },
  {
   "cell_type": "code",
   "execution_count": null,
   "metadata": {},
   "outputs": [
    {
     "data": {
      "application/vnd.jupyter.widget-view+json": {
       "model_id": "4b5294914b2b433e80f339797b6b6a01",
       "version_major": 2,
       "version_minor": 0
      },
      "text/plain": [
       "RangeSlider(class_='mx-6 mt-8', max=100.0, min=0.0, persistent_hint=False, step=10.0, thumb_label='always', th…"
      ]
     },
     "metadata": {},
     "output_type": "display_data"
    }
   ],
   "source": [
    "from vvapp.inputs import range_slider\n",
    "range_slider(min=0,max=100,v_model=[40,60])"
   ]
  },
  {
   "cell_type": "markdown",
   "metadata": {},
   "source": [
    "<img alt=\"Range Slider input\" caption=\"Range Slider Example\" src=\"images/range_slider.png\" />"
   ]
  },
  {
   "cell_type": "markdown",
   "metadata": {},
   "source": [
    "### radio_buttons"
   ]
  },
  {
   "cell_type": "code",
   "execution_count": null,
   "metadata": {},
   "outputs": [
    {
     "data": {
      "application/vnd.jupyter.widget-view+json": {
       "model_id": "d4394f06221f41268663f3018736d94c",
       "version_major": 2,
       "version_minor": 0
      },
      "text/plain": [
       "RadioGroup(children=[Radio(label='Apple', value='apple'), Radio(label='Blueberry', value='blueberry'), Radio(l…"
      ]
     },
     "metadata": {},
     "output_type": "display_data"
    }
   ],
   "source": [
    "from vvapp.inputs import radio_buttons\n",
    "radio_buttons(choices={\n",
    "                    'Apple': 'apple',\n",
    "                    'Blueberry': 'blueberry',\n",
    "                    'Pumpkin': 'pumpkin'\n",
    "                },\n",
    "              label='What is your favourite pie flavour?',\n",
    "              v_model='blueberry')"
   ]
  },
  {
   "cell_type": "markdown",
   "metadata": {},
   "source": [
    "<img alt=\"Radio Button Input\" caption=\"Radio Button\" src=\"images/radio_buttons.png\" />"
   ]
  },
  {
   "cell_type": "markdown",
   "metadata": {},
   "source": [
    "### date"
   ]
  },
  {
   "cell_type": "code",
   "execution_count": null,
   "metadata": {},
   "outputs": [
    {
     "data": {
      "application/vnd.jupyter.widget-view+json": {
       "model_id": "1a2e1ae5e0a54ac4baf2a0507e25ba93",
       "version_major": 2,
       "version_minor": 0
      },
      "text/plain": [
       "TextField(label='Please enter a date (format: YYYY-mm-dd)', persistent_hint=False, style_='max-width:320px', t…"
      ]
     },
     "metadata": {},
     "output_type": "display_data"
    }
   ],
   "source": [
    "from vvapp.inputs import date\n",
    "date(label='Please enter a date (format: YYYY-mm-dd)',\n",
    "     v_model='2020-04-15',\n",
    "     style_='max-width:320px')"
   ]
  },
  {
   "cell_type": "markdown",
   "metadata": {},
   "source": [
    "<img alt=\"Date Input\" caption=\"Date Input\" src=\"images/input_date.png\" />"
   ]
  },
  {
   "cell_type": "markdown",
   "metadata": {},
   "source": [
    "### time"
   ]
  },
  {
   "cell_type": "code",
   "execution_count": null,
   "metadata": {},
   "outputs": [
    {
     "data": {
      "application/vnd.jupyter.widget-view+json": {
       "model_id": "9d1bca7c98e0487ba106296262d38ae4",
       "version_major": 2,
       "version_minor": 0
      },
      "text/plain": [
       "TextField(label='Please enter a time (format: HH:MM)', persistent_hint=False, style_='max-width:320px', type='…"
      ]
     },
     "metadata": {},
     "output_type": "display_data"
    }
   ],
   "source": [
    "from vvapp.inputs import time_input\n",
    "time_input(label='Please enter a time (format: HH:MM)',\n",
    "     v_model='13:34',\n",
    "     style_='max-width:320px')"
   ]
  },
  {
   "cell_type": "markdown",
   "metadata": {},
   "source": [
    "\n",
    "<img alt=\"Time Input\" caption=\"Time Input\" src=\"images/input_time.png\" />\n"
   ]
  },
  {
   "cell_type": "markdown",
   "metadata": {},
   "source": [
    "### number"
   ]
  },
  {
   "cell_type": "code",
   "execution_count": null,
   "metadata": {},
   "outputs": [
    {
     "data": {
      "application/vnd.jupyter.widget-view+json": {
       "model_id": "dc447440623b4fe2b656f1c898e50dc2",
       "version_major": 2,
       "version_minor": 0
      },
      "text/plain": [
       "TextField(error=False, persistent_hint=True, placeholder='Enter a number', style_='max-width:320px', type='num…"
      ]
     },
     "metadata": {},
     "output_type": "display_data"
    }
   ],
   "source": [
    "from vvapp.inputs import number\n",
    "number(placeholder='Enter a number',\n",
    "     style_='max-width:320px')"
   ]
  },
  {
   "cell_type": "markdown",
   "metadata": {},
   "source": [
    "<img alt=\"Number Input\" caption=\"Number Input\" src=\"images/input_number.png\" />\n"
   ]
  },
  {
   "cell_type": "markdown",
   "metadata": {},
   "source": [
    "`number` inputs have a default validation function that changes the `error` state of the input to True and prints a sensible hint if the value is less than `min_value` or greater than `max_value`"
   ]
  },
  {
   "cell_type": "code",
   "execution_count": null,
   "metadata": {},
   "outputs": [
    {
     "data": {
      "application/vnd.jupyter.widget-view+json": {
       "model_id": "3e5dd016e377459693321f5cfb085b84",
       "version_major": 2,
       "version_minor": 0
      },
      "text/plain": [
       "TextField(error=True, hint='Input: 123.0 is greater than the maximum supported value 100.', label='Number Inpu…"
      ]
     },
     "metadata": {},
     "output_type": "display_data"
    }
   ],
   "source": [
    "from vvapp.inputs import number\n",
    "number(label='Number Input',\n",
    "       v_model=123,\n",
    "       min_value=0,\n",
    "       max_value=100,\n",
    "     style_='max-width:320px')"
   ]
  },
  {
   "cell_type": "markdown",
   "metadata": {},
   "source": [
    "\n",
    "<img alt=\"Number Input With Validation\" caption=\"Number Input With Validation\" src=\"images/input_number_validation.png\" />\n"
   ]
  },
  {
   "cell_type": "markdown",
   "metadata": {},
   "source": [
    "### password"
   ]
  },
  {
   "cell_type": "code",
   "execution_count": null,
   "metadata": {},
   "outputs": [
    {
     "data": {
      "application/vnd.jupyter.widget-view+json": {
       "model_id": "5a443c14250d4e6287b4def417d80bb5",
       "version_major": 2,
       "version_minor": 0
      },
      "text/plain": [
       "TextField(label='Please enter a password', persistent_hint=False, type='password', v_model='correcthorsebatter…"
      ]
     },
     "metadata": {},
     "output_type": "display_data"
    }
   ],
   "source": [
    "from vvapp.inputs import password\n",
    "pw = password(label='Please enter a password',v_model='correcthorsebatterystapler')\n",
    "pw"
   ]
  },
  {
   "cell_type": "markdown",
   "metadata": {},
   "source": [
    "<img alt=\"Password Input\" caption=\"Password Input\" src=\"images/input_password.png\" />\n"
   ]
  },
  {
   "cell_type": "markdown",
   "metadata": {},
   "source": [
    "The value of of a vvapp widget is set/accessed by the `v_model` attribute, just like in ipyvuetify"
   ]
  },
  {
   "cell_type": "code",
   "execution_count": null,
   "metadata": {},
   "outputs": [
    {
     "data": {
      "text/plain": [
       "'correcthorsebatterystapler'"
      ]
     },
     "execution_count": null,
     "metadata": {},
     "output_type": "execute_result"
    }
   ],
   "source": [
    "pw.v_model"
   ]
  },
  {
   "cell_type": "markdown",
   "metadata": {},
   "source": [
    "Here we demonstrate the use of a function to validate the value of the input.\n",
    "\n",
    "In this example the password must be at least 12 characters, less than 64 characters and include at least one number:"
   ]
  },
  {
   "cell_type": "code",
   "execution_count": null,
   "metadata": {},
   "outputs": [
    {
     "data": {
      "application/vnd.jupyter.widget-view+json": {
       "model_id": "cf5753482cf4482d8057591188effad0",
       "version_major": 2,
       "version_minor": 0
      },
      "text/plain": [
       "TextField(error=True, hint='Must contain at least one number!', label='Please enter a password', persistent_hi…"
      ]
     },
     "metadata": {},
     "output_type": "display_data"
    }
   ],
   "source": [
    "import re\n",
    "def validate_pw(widget_value):\n",
    "    if widget_value is None:\n",
    "        return 'Input must not be None'\n",
    "\n",
    "    else:\n",
    "        if len(widget_value) < 12:\n",
    "            return 'Too Short!'\n",
    "\n",
    "        if len(widget_value) > 64:\n",
    "            return 'Too Long!'\n",
    "\n",
    "        if not re.search('[0-9]+',widget_value):\n",
    "            return 'Must contain at least one number!'\n",
    "\n",
    "    return None\n",
    "\n",
    "pw = password(label='Please enter a password',v_model='correcthorsebatterystapler', hint=validate_pw)\n",
    "pw"
   ]
  },
  {
   "cell_type": "markdown",
   "metadata": {},
   "source": [
    "<img alt=\"Password Input with Validation\" caption=\"Password Input with Validation\" src=\"images/input_password_validation.png\" />\n"
   ]
  },
  {
   "cell_type": "markdown",
   "metadata": {},
   "source": [
    "### button"
   ]
  },
  {
   "cell_type": "code",
   "execution_count": null,
   "metadata": {},
   "outputs": [],
   "source": [
    "from vvapp.inputs import button"
   ]
  },
  {
   "cell_type": "code",
   "execution_count": null,
   "metadata": {},
   "outputs": [
    {
     "data": {
      "application/vnd.jupyter.widget-view+json": {
       "model_id": "9d6eed4394034d15bbaf81be3d8d9515",
       "version_major": 2,
       "version_minor": 0
      },
      "text/plain": [
       "Btn(children=['I print `test` on click'], color='teal', dark=True, fab=False, large=True, outlined=False, roun…"
      ]
     },
     "metadata": {},
     "output_type": "display_data"
    }
   ],
   "source": [
    "def print_test_on_click(*args):\n",
    "    print('test')\n",
    "\n",
    "button(label='I print `test` on click',\n",
    "       size='large',\n",
    "       color='teal',\n",
    "       dark=True,\n",
    "       on_click=print_test_on_click)\n"
   ]
  },
  {
   "cell_type": "markdown",
   "metadata": {},
   "source": [
    "<img alt=\"Button Input Example\" caption=\"Button Input Example\" src=\"images/input_button1.png\" />"
   ]
  },
  {
   "cell_type": "code",
   "execution_count": null,
   "metadata": {},
   "outputs": [
    {
     "data": {
      "application/vnd.jupyter.widget-view+json": {
       "model_id": "696a95ea16714d6692a2e56857a069d9",
       "version_major": 2,
       "version_minor": 0
      },
      "text/plain": [
       "Btn(children=[Icon(children=['mdi-recycle'])], class_='ma-4', color='teal', dark=True, fab=True, large=True, o…"
      ]
     },
     "metadata": {},
     "output_type": "display_data"
    }
   ],
   "source": [
    "button(icon='mdi-recycle',\n",
    "       size='large',\n",
    "       color='teal',\n",
    "       dark=True,\n",
    "       fab=True,\n",
    "       class_='ma-4'\n",
    "      )"
   ]
  },
  {
   "cell_type": "markdown",
   "metadata": {},
   "source": [
    "<img alt=\"Button Input Example\" caption=\"Fab Style With Icon Button Input Example\" src=\"images/input_button2.png\" />"
   ]
  },
  {
   "cell_type": "markdown",
   "metadata": {},
   "source": [
    "### date_range"
   ]
  },
  {
   "cell_type": "code",
   "execution_count": null,
   "metadata": {},
   "outputs": [
    {
     "data": {
      "application/vnd.jupyter.widget-view+json": {
       "model_id": "cac357aeb6ab48f0b22ce4a0cb0d6377",
       "version_major": 2,
       "version_minor": 0
      },
      "text/plain": [
       "_DateRange(dates=['2020-01-01', '2020-02-01'], label='Select Date Range')"
      ]
     },
     "metadata": {},
     "output_type": "display_data"
    }
   ],
   "source": [
    "from vvapp.inputs import date_range\n",
    "temp = date_range(dates=['2020-01-01','2020-02-01'])\n",
    "temp"
   ]
  },
  {
   "cell_type": "markdown",
   "metadata": {},
   "source": [
    "<img alt=\"Date Range Input Example\" caption=\"Date Range Input Example\" src=\"images/daterange.png\" />\n"
   ]
  },
  {
   "cell_type": "code",
   "execution_count": null,
   "metadata": {},
   "outputs": [
    {
     "data": {
      "text/plain": [
       "['2020-01-01', '2020-02-01']"
      ]
     },
     "execution_count": null,
     "metadata": {},
     "output_type": "execute_result"
    }
   ],
   "source": [
    "temp.dates"
   ]
  },
  {
   "cell_type": "markdown",
   "metadata": {},
   "source": [
    "### color_picker"
   ]
  },
  {
   "cell_type": "code",
   "execution_count": null,
   "metadata": {},
   "outputs": [
    {
     "data": {
      "application/vnd.jupyter.widget-view+json": {
       "model_id": "b6558adf0e8b4a8cace237b856195852",
       "version_major": 2,
       "version_minor": 0
      },
      "text/plain": [
       "ColorPicker(canvas_height=150.0, mode='hexa', v_model=None, width=300.0)"
      ]
     },
     "metadata": {},
     "output_type": "display_data"
    }
   ],
   "source": [
    "from vvapp.inputs import color_picker\n",
    "temp=color_picker()\n",
    "temp"
   ]
  },
  {
   "cell_type": "markdown",
   "metadata": {},
   "source": [
    "<img alt=\"Color Picker Input Example\" caption=\"Color Picker Input Example\" src=\"images/color_picker.png\" />\n"
   ]
  },
  {
   "cell_type": "code",
   "execution_count": null,
   "metadata": {},
   "outputs": [],
   "source": [
    "temp.v_model"
   ]
  },
  {
   "cell_type": "markdown",
   "metadata": {},
   "source": [
    "## Outputs"
   ]
  },
  {
   "cell_type": "markdown",
   "metadata": {},
   "source": [
    "### PandasTable"
   ]
  },
  {
   "cell_type": "code",
   "execution_count": null,
   "metadata": {},
   "outputs": [
    {
     "data": {
      "application/vnd.jupyter.widget-view+json": {
       "model_id": "205333951d5d48d4bc6d07a374752c79",
       "version_major": 2,
       "version_minor": 0
      },
      "text/plain": [
       "PandasTable(headers=[{'text': 'index', 'value': 'index', 'align': 'left', 'sortable': True}, {'text': 'a', 'va…"
      ]
     },
     "metadata": {},
     "output_type": "display_data"
    }
   ],
   "source": [
    "import pandas as pd\n",
    "from vvapp.outputs import PandasTable\n",
    "df = pd.DataFrame({'a':[1,2,3],'b':[2,3,4]})\n",
    "PandasTable(data=df,title='My DataFrame')"
   ]
  },
  {
   "cell_type": "markdown",
   "metadata": {},
   "source": [
    "<img alt=\"Pandas Dataframe Output\" caption=\"Pandas Dataframe Output\" src=\"images/output_pandas_table2.png\" />\n"
   ]
  },
  {
   "cell_type": "markdown",
   "metadata": {},
   "source": [
    "The pandas DataFrame output has a nice warning/error display if the search returns zero results or if are no rows in the PandasDataframe:"
   ]
  },
  {
   "cell_type": "code",
   "execution_count": null,
   "metadata": {},
   "outputs": [
    {
     "data": {
      "application/vnd.jupyter.widget-view+json": {
       "model_id": "514962c260cb4eb3b7adf43269202446",
       "version_major": 2,
       "version_minor": 0
      },
      "text/plain": [
       "PandasTable(headers=[{'text': 'index', 'value': 'index', 'align': 'left', 'sortable': True}, {'text': 'a', 'va…"
      ]
     },
     "metadata": {},
     "output_type": "display_data"
    }
   ],
   "source": [
    "import pandas as pd\n",
    "from vvapp.outputs import PandasTable\n",
    "df = pd.DataFrame({'a':[1,2,3],'b':[2,3,4]})\n",
    "PandasTable(data=df,title='My DataFrame')"
   ]
  },
  {
   "cell_type": "markdown",
   "metadata": {},
   "source": [
    "<img alt=\"Pandas Dataframe Output No Search Results\" caption=\"Pandas Dataframe Output No Search Results\" src=\"images/output_pandas_table_zeroresults.png\" />\n"
   ]
  },
  {
   "cell_type": "code",
   "execution_count": null,
   "metadata": {},
   "outputs": [
    {
     "data": {
      "application/vnd.jupyter.widget-view+json": {
       "model_id": "eaaf2088ed5443c4af4db56743b60dda",
       "version_major": 2,
       "version_minor": 0
      },
      "text/plain": [
       "PandasTable(headers=[{'text': 'index', 'value': 'index', 'align': 'left', 'sortable': True}], index_col='index…"
      ]
     },
     "metadata": {},
     "output_type": "display_data"
    }
   ],
   "source": [
    "import pandas as pd\n",
    "from vvapp.outputs import PandasTable\n",
    "PandasTable(data=pd.DataFrame(),title='My DataFrame')"
   ]
  },
  {
   "cell_type": "markdown",
   "metadata": {},
   "source": [
    "<img alt=\"Pandas Dataframe Output No Data\" caption=\"Pandas Dataframe Output No Data\" src=\"images/output_pandas_table_nodata.png\" />\n"
   ]
  },
  {
   "cell_type": "markdown",
   "metadata": {},
   "source": [
    "### Markdown"
   ]
  },
  {
   "cell_type": "code",
   "execution_count": null,
   "metadata": {},
   "outputs": [
    {
     "data": {
      "application/vnd.jupyter.widget-view+json": {
       "model_id": "55a4ad34e9d245c8989c5121196ccc48",
       "version_major": 2,
       "version_minor": 0
      },
      "text/plain": [
       "HTML(value='<h1>Markdown Title</h1>\\n<h2>Markdown Subtitle</h2>\\n<p>Some body text</p>\\n<ul>\\n<li>a list eleme…"
      ]
     },
     "metadata": {},
     "output_type": "display_data"
    }
   ],
   "source": [
    "from vvapp.outputs import markdown \n",
    "\n",
    "markdown(\"\"\"\n",
    "# Markdown Title\n",
    "\n",
    "## Markdown Subtitle\n",
    "\n",
    "Some body text\n",
    "\n",
    "* a list element\n",
    "* another list element\n",
    "\"\"\")"
   ]
  },
  {
   "cell_type": "markdown",
   "metadata": {},
   "source": [
    "<img alt=\"Output Markdown\" caption=\"Markdown output example\" src=\"images/output_markdown.png\" />\n"
   ]
  },
  {
   "cell_type": "markdown",
   "metadata": {},
   "source": [
    "### Snackbar"
   ]
  },
  {
   "cell_type": "code",
   "execution_count": null,
   "metadata": {},
   "outputs": [
    {
     "data": {
      "application/vnd.jupyter.widget-view+json": {
       "model_id": "2e7b3b84f5154cc4b153d653b4120c58",
       "version_major": 2,
       "version_minor": 0
      },
      "text/plain": [
       "_InfoSnackbar(color='teal', message='Message text', timeout=10000)"
      ]
     },
     "metadata": {},
     "output_type": "display_data"
    }
   ],
   "source": [
    "from vvapp.outputs import info_snackbar\n",
    "info_snackbar(message='Message text', color='teal',timeout=10000)"
   ]
  },
  {
   "cell_type": "markdown",
   "metadata": {},
   "source": [
    "<img alt=\"Output Snackbar\" caption=\"Snackbar output example\" src=\"images/snackbar.png\" />\n"
   ]
  },
  {
   "cell_type": "markdown",
   "metadata": {},
   "source": [
    "### Dialog Button"
   ]
  },
  {
   "cell_type": "code",
   "execution_count": null,
   "metadata": {},
   "outputs": [
    {
     "data": {
      "application/vnd.jupyter.widget-view+json": {
       "model_id": "9ab6886fa67f4b929310f2e1595f6463",
       "version_major": 2,
       "version_minor": 0
      },
      "text/plain": [
       "Layout(children=[Dialog(children=[Card(children=[CardTitle(children=['Dialog Title'], class_='headline pa-4'),…"
      ]
     },
     "metadata": {},
     "output_type": "display_data"
    },
    {
     "data": {
      "application/vnd.jupyter.widget-view+json": {
       "model_id": "09240e21ff0c4076bd0dcf02cb3537e0",
       "version_major": 2,
       "version_minor": 0
      },
      "text/plain": [
       "Btn(children=['My Button', Icon(children=[''])], color='primary', dark=False, depressed=True)"
      ]
     },
     "metadata": {},
     "output_type": "display_data"
    }
   ],
   "source": [
    "from vvapp.outputs import dialog_button\n",
    "dialog_button(label='My Button',icon=None)"
   ]
  },
  {
   "cell_type": "markdown",
   "metadata": {},
   "source": [
    "<img alt=\"Dialog Button Example\" caption=\"Dialog Button Example\" src=\"images/dialog_button.png\" />\n"
   ]
  },
  {
   "cell_type": "markdown",
   "metadata": {},
   "source": [
    "### Container"
   ]
  },
  {
   "cell_type": "code",
   "execution_count": null,
   "metadata": {},
   "outputs": [
    {
     "data": {
      "application/vnd.jupyter.widget-view+json": {
       "model_id": "f386cc9762db485088a14c7581bb607f",
       "version_major": 2,
       "version_minor": 0
      },
      "text/plain": [
       "Container(children=[Btn(children=['Red'], color='red', dark=False, fab=False, large=False, outlined=False, rou…"
      ]
     },
     "metadata": {},
     "output_type": "display_data"
    }
   ],
   "source": [
    "from vvapp.inputs import button\n",
    "from vvapp.outputs import container\n",
    "container(children=[\n",
    "    button(color='red', label='Red'),\n",
    "    button(color='blue', label='Blue'),\n",
    "    button(color='green', label='Green')\n",
    "])"
   ]
  },
  {
   "cell_type": "markdown",
   "metadata": {},
   "source": [
    "<img alt=\"Container Output Example\" caption=\"Container Output Example\" src=\"images/container.png\" />\n"
   ]
  },
  {
   "cell_type": "markdown",
   "metadata": {},
   "source": [
    "### Row"
   ]
  },
  {
   "cell_type": "code",
   "execution_count": null,
   "metadata": {},
   "outputs": [
    {
     "data": {
      "application/vnd.jupyter.widget-view+json": {
       "model_id": "16216740cfe24153820be0da63c566ba",
       "version_major": 2,
       "version_minor": 0
      },
      "text/plain": [
       "Container(children=[Row(children=[Btn(children=['Red'], color='red', dark=False, fab=False, large=False, outli…"
      ]
     },
     "metadata": {},
     "output_type": "display_data"
    }
   ],
   "source": [
    "from vvapp.inputs import button\n",
    "from vvapp.outputs import row\n",
    "container(children=[\n",
    "    row(children=[button(color='red', label='Red')]),\n",
    "    row(children=[button(color='blue', label='Blue')]),\n",
    "    row(children=[button(color='green', label='Green')])\n",
    "])"
   ]
  },
  {
   "cell_type": "markdown",
   "metadata": {},
   "source": [
    "<img alt=\"Row Output Example\" caption=\"Row Output Example\" src=\"images/row.png\" />\n"
   ]
  },
  {
   "cell_type": "markdown",
   "metadata": {},
   "source": [
    "### Column"
   ]
  },
  {
   "cell_type": "code",
   "execution_count": null,
   "metadata": {},
   "outputs": [
    {
     "data": {
      "application/vnd.jupyter.widget-view+json": {
       "model_id": "4bca249919e64aaf92f00b74866d30cb",
       "version_major": 2,
       "version_minor": 0
      },
      "text/plain": [
       "Row(children=[Col(children=[Btn(children=['Red'], color='red', dark=False, fab=False, large=False, outlined=Fa…"
      ]
     },
     "metadata": {},
     "output_type": "display_data"
    }
   ],
   "source": [
    "from vvapp.inputs import button\n",
    "from vvapp.outputs import column\n",
    "row(children=[\n",
    "    column(order=1, cols=4, children=[button(color='red', label='Red')]),\n",
    "    column(order=0, cols=4, children=[button(color='blue', label='Blue')]),\n",
    "    column(order=2, cols=4, children=[button(color='green', label='Green')])\n",
    "])"
   ]
  },
  {
   "cell_type": "markdown",
   "metadata": {},
   "source": [
    "<img alt=\"Column Example\" caption=\"Column Example\" src=\"images/column.png\"/>"
   ]
  }
 ],
 "metadata": {
  "kernelspec": {
   "display_name": "Python (vvapp)",
   "language": "python",
   "name": "vvapp"
  }
 },
 "nbformat": 4,
 "nbformat_minor": 2
}
