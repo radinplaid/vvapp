{
 "cells": [
  {
   "cell_type": "markdown",
   "metadata": {},
   "source": [
    "# vvapp\n",
    "\n",
    "> A python library simplifying ipyvuetify voila application building."
   ]
  },
  {
   "cell_type": "code",
   "execution_count": null,
   "metadata": {},
   "outputs": [],
   "source": [
    "#hide\n",
    "%load_ext autoreload\n",
    "%autoreload 2\n",
    "from vvapp.inputs import *\n",
    "from vvapp.outputs import *\n",
    "from IPython.display import Image"
   ]
  },
  {
   "cell_type": "markdown",
   "metadata": {},
   "source": [
    "## Documentation\n",
    "\n",
    "https://radinplaid.github.io/vvapp/"
   ]
  },
  {
   "cell_type": "markdown",
   "metadata": {},
   "source": [
    "## Install"
   ]
  },
  {
   "cell_type": "markdown",
   "metadata": {},
   "source": [
    "`pip install vvapp`"
   ]
  },
  {
   "cell_type": "markdown",
   "metadata": {},
   "source": [
    "## Inputs\n",
    "\n",
    "`vvapp` is meant to be used in Jupyter, so launching jupyter first (`$jupyter notebook`).\n",
    "\n",
    "There are a few key things to keep in mind when getting up and running with `vvapp`:\n",
    "\n",
    "* `v_model`\n",
    "    * The value of `vvapp` inputs is set and accessed via the `v_model` attribute, following the `ipyvuetify` convention\n",
    "* `class_`\n",
    "    * This is where you put `vuetify.js` class properties, like `ma-4` to add margins around the input\n",
    "* `style_`\n",
    "    * This is where you can add CSS to your elements\n",
    "* `hint`\n",
    "    * The `hint` can be a string *or* a callable to provide input validation\n",
    "    * If `hint` is a callable, it must return a string or None; if it returns a string, the input is marked as invalid and the string is displayed\n",
    "        "
   ]
  },
  {
   "cell_type": "code",
   "execution_count": null,
   "metadata": {},
   "outputs": [
    {
     "data": {
      "text/plain": [
       "['input_switch',\n",
       " 'input_checkbox',\n",
       " 'input_text',\n",
       " 'input_password',\n",
       " 'input_time',\n",
       " 'input_date',\n",
       " 'input_daterange',\n",
       " 'input_number',\n",
       " 'input_range_slider',\n",
       " 'input_slider',\n",
       " 'input_radio_buttons',\n",
       " 'input_select',\n",
       " 'input_select_or_create',\n",
       " 'input_button',\n",
       " 'input_color_picker']"
      ]
     },
     "execution_count": null,
     "metadata": {},
     "output_type": "execute_result"
    }
   ],
   "source": [
    "from vvapp.inputs import __all__ as available_input_widgets\n",
    "available_input_widgets"
   ]
  },
  {
   "cell_type": "code",
   "execution_count": null,
   "metadata": {},
   "outputs": [],
   "source": [
    "from vvapp.inputs import *"
   ]
  },
  {
   "cell_type": "markdown",
   "metadata": {},
   "source": [
    "### text"
   ]
  },
  {
   "cell_type": "code",
   "execution_count": null,
   "metadata": {},
   "outputs": [
    {
     "data": {
      "application/vnd.jupyter.widget-view+json": {
       "model_id": "63bf42801f5147f1beb8e4c6bf571dca",
       "version_major": 2,
       "version_minor": 0
      },
      "text/plain": [
       "TextField(hint='Enter some text', label='Text Input', persistent_hint=False, v_model='some text')"
      ]
     },
     "metadata": {},
     "output_type": "display_data"
    }
   ],
   "source": [
    "input_text(label='Text Input',hint='Enter some text',v_model='some text')"
   ]
  },
  {
   "cell_type": "markdown",
   "metadata": {},
   "source": [
    "<img alt=\"Text Input\" caption=\"Text Input Example\" src=\"images/input_text.png\" />"
   ]
  },
  {
   "cell_type": "markdown",
   "metadata": {},
   "source": [
    "### select (dropdown)\n",
    "\n",
    "For a select input, the `v_model` can be a list:"
   ]
  },
  {
   "cell_type": "code",
   "execution_count": null,
   "metadata": {},
   "outputs": [
    {
     "data": {
      "application/vnd.jupyter.widget-view+json": {
       "model_id": "8cb2b49512d74b309727326f70f6a0f9",
       "version_major": 2,
       "version_minor": 0
      },
      "text/plain": [
       "Select(deletable_chips=False, items=['one', 'two', 'three'], multiple=False, persistent_hint=False, small_chip…"
      ]
     },
     "metadata": {},
     "output_type": "display_data"
    }
   ],
   "source": [
    "input_select(items=['one','two','three'],v_model='two')"
   ]
  },
  {
   "cell_type": "markdown",
   "metadata": {},
   "source": [
    "<img alt=\"Select Input\" caption=\"Select Input\" src=\"images/select1.png\" />"
   ]
  },
  {
   "cell_type": "markdown",
   "metadata": {},
   "source": [
    "... or a dict where the keys are the labels to be displayed and the values and the values"
   ]
  },
  {
   "cell_type": "code",
   "execution_count": null,
   "metadata": {},
   "outputs": [
    {
     "data": {
      "application/vnd.jupyter.widget-view+json": {
       "model_id": "1eece88bd176411f9b9603a8411c53cc",
       "version_major": 2,
       "version_minor": 0
      },
      "text/plain": [
       "Select(deletable_chips=False, items=[{'text': 'One', 'value': 'one'}, {'text': 'Two', 'value': 'two'}, {'text'…"
      ]
     },
     "metadata": {},
     "output_type": "display_data"
    }
   ],
   "source": [
    "input_select(items={'One':'one','Two':'two','Three':'three'},v_model='two')"
   ]
  },
  {
   "cell_type": "markdown",
   "metadata": {},
   "source": [
    "<img alt=\"Select Input\" caption=\"Select Input With dict input\" src=\"images/select2.png\" />"
   ]
  },
  {
   "cell_type": "markdown",
   "metadata": {},
   "source": [
    "Also, it is possible for multiple items to be selected via the `multiple` prop:"
   ]
  },
  {
   "cell_type": "code",
   "execution_count": null,
   "metadata": {},
   "outputs": [
    {
     "data": {
      "application/vnd.jupyter.widget-view+json": {
       "model_id": "f0376b197c9d4039973417fbc187268a",
       "version_major": 2,
       "version_minor": 0
      },
      "text/plain": [
       "Select(deletable_chips=False, items=[{'text': 'One', 'value': 'one'}, {'text': 'Two', 'value': 'two'}, {'text'…"
      ]
     },
     "metadata": {},
     "output_type": "display_data"
    }
   ],
   "source": [
    "tmp = input_select(items={'One':'one','Two':'two','Three':'three'},v_model=['one','two'],multiple=True)\n",
    "tmp"
   ]
  },
  {
   "cell_type": "markdown",
   "metadata": {},
   "source": [
    "<img alt=\"Select Input\" caption=\"Multiple Select Input\" src=\"images/select3.png\" />"
   ]
  },
  {
   "cell_type": "code",
   "execution_count": null,
   "metadata": {},
   "outputs": [
    {
     "data": {
      "text/plain": [
       "['one', 'two']"
      ]
     },
     "execution_count": null,
     "metadata": {},
     "output_type": "execute_result"
    }
   ],
   "source": [
    "tmp.v_model"
   ]
  },
  {
   "cell_type": "markdown",
   "metadata": {},
   "source": [
    "### select_or_create (combobox)"
   ]
  },
  {
   "cell_type": "code",
   "execution_count": null,
   "metadata": {},
   "outputs": [
    {
     "data": {
      "application/vnd.jupyter.widget-view+json": {
       "model_id": "66c151dcce5b4460a1229ff500e24f76",
       "version_major": 2,
       "version_minor": 0
      },
      "text/plain": [
       "Combobox(deletable_chips=True, hide_selected=True, hint='Select or create item(s)', items=['one', 'two', 'thre…"
      ]
     },
     "metadata": {},
     "output_type": "display_data"
    }
   ],
   "source": [
    "input_select_or_create(items=['one','two','three'],v_model=['one','two'],multiple=True)\n"
   ]
  },
  {
   "cell_type": "markdown",
   "metadata": {},
   "source": [
    "<img alt=\"Combobox Input\" caption=\"Combobox\" src=\"images/select_or_create.png\" />"
   ]
  },
  {
   "cell_type": "markdown",
   "metadata": {},
   "source": [
    "### switch"
   ]
  },
  {
   "cell_type": "code",
   "execution_count": null,
   "metadata": {},
   "outputs": [
    {
     "data": {
      "application/vnd.jupyter.widget-view+json": {
       "model_id": "bf1e6ba908744bfaba99580032763a08",
       "version_major": 2,
       "version_minor": 0
      },
      "text/plain": [
       "Switch(label='Switch example', persistent_hint=False, v_model=True)"
      ]
     },
     "metadata": {},
     "output_type": "display_data"
    }
   ],
   "source": [
    "input_switch(label='Switch example',v_model=True)"
   ]
  },
  {
   "cell_type": "markdown",
   "metadata": {},
   "source": [
    "<img alt=\"Switch Input\" caption=\"Switch Input Example\" src=\"images/switch.png\" />"
   ]
  },
  {
   "cell_type": "markdown",
   "metadata": {},
   "source": [
    "### checkbox"
   ]
  },
  {
   "cell_type": "code",
   "execution_count": null,
   "metadata": {},
   "outputs": [
    {
     "data": {
      "application/vnd.jupyter.widget-view+json": {
       "model_id": "a393f900f0554c62a69297e24a40ada4",
       "version_major": 2,
       "version_minor": 0
      },
      "text/plain": [
       "Checkbox(label='Checkbox example', persistent_hint=False, v_model=True)"
      ]
     },
     "metadata": {},
     "output_type": "display_data"
    }
   ],
   "source": [
    "input_checkbox(label='Checkbox example',v_model=True)"
   ]
  },
  {
   "cell_type": "markdown",
   "metadata": {},
   "source": [
    "<img alt=\"Checkbox Input\" caption=\"Checkbox\" src=\"images/checkbox.png\" />"
   ]
  },
  {
   "cell_type": "markdown",
   "metadata": {},
   "source": [
    "### slider"
   ]
  },
  {
   "cell_type": "code",
   "execution_count": null,
   "metadata": {},
   "outputs": [
    {
     "data": {
      "application/vnd.jupyter.widget-view+json": {
       "model_id": "ffd6992b4d0c4723b010a9d0cca55fee",
       "version_major": 2,
       "version_minor": 0
      },
      "text/plain": [
       "Slider(class_='mx-6 mt-8', color='red', label='Slider Example', max=10.0, min=0.0, persistent_hint=False, step…"
      ]
     },
     "metadata": {},
     "output_type": "display_data"
    }
   ],
   "source": [
    "input_slider(label='Slider Example',\n",
    "       min=0,\n",
    "       max=10,\n",
    "       step=1,\n",
    "       color='red',\n",
    "       track_color='red',\n",
    "       v_model=5)"
   ]
  },
  {
   "cell_type": "markdown",
   "metadata": {},
   "source": [
    "<img alt=\"Slider Input\" caption=\"Slider\" src=\"images/slider.png\" />"
   ]
  },
  {
   "cell_type": "markdown",
   "metadata": {},
   "source": [
    "### range_slider"
   ]
  },
  {
   "cell_type": "code",
   "execution_count": null,
   "metadata": {},
   "outputs": [
    {
     "data": {
      "application/vnd.jupyter.widget-view+json": {
       "model_id": "58fc82f4a0614a1b997b4f1bdf1b606f",
       "version_major": 2,
       "version_minor": 0
      },
      "text/plain": [
       "RangeSlider(class_='mx-6 mt-8', max=100.0, min=0.0, persistent_hint=False, step=10.0, thumb_label='always', th…"
      ]
     },
     "metadata": {},
     "output_type": "display_data"
    }
   ],
   "source": [
    "input_range_slider(min=0,max=100,v_model=[40,60])"
   ]
  },
  {
   "cell_type": "markdown",
   "metadata": {},
   "source": [
    "<img alt=\"Range Slider input\" caption=\"Range Slider Example\" src=\"images/range_slider.png\" />"
   ]
  },
  {
   "cell_type": "markdown",
   "metadata": {},
   "source": [
    "### radio_buttons"
   ]
  },
  {
   "cell_type": "code",
   "execution_count": null,
   "metadata": {},
   "outputs": [
    {
     "data": {
      "application/vnd.jupyter.widget-view+json": {
       "model_id": "b4dc24ce45c14e9c817687a989c8dbae",
       "version_major": 2,
       "version_minor": 0
      },
      "text/plain": [
       "RadioGroup(children=[Radio(label='Apple', value='apple'), Radio(label='Blueberry', value='blueberry'), Radio(l…"
      ]
     },
     "metadata": {},
     "output_type": "display_data"
    }
   ],
   "source": [
    "input_radio_buttons(choices={\n",
    "                    'Apple': 'apple',\n",
    "                    'Blueberry': 'blueberry',\n",
    "                    'Pumpkin': 'pumpkin'\n",
    "                },\n",
    "              label='What is your favourite pie flavour?',\n",
    "              v_model='blueberry')"
   ]
  },
  {
   "cell_type": "markdown",
   "metadata": {},
   "source": [
    "<img alt=\"Radio Button Input\" caption=\"Radio Button\" src=\"images/radio_buttons.png\" />"
   ]
  },
  {
   "cell_type": "markdown",
   "metadata": {},
   "source": [
    "### date"
   ]
  },
  {
   "cell_type": "code",
   "execution_count": null,
   "metadata": {},
   "outputs": [
    {
     "data": {
      "application/vnd.jupyter.widget-view+json": {
       "model_id": "06f56b7851334e6eace7714905e11cd4",
       "version_major": 2,
       "version_minor": 0
      },
      "text/plain": [
       "TextField(label='Please enter a date (format: YYYY-mm-dd)', persistent_hint=False, style_='max-width:320px', t…"
      ]
     },
     "metadata": {},
     "output_type": "display_data"
    }
   ],
   "source": [
    "input_date(label='Please enter a date (format: YYYY-mm-dd)',\n",
    "     v_model='2020-04-15',\n",
    "     style_='max-width:320px')"
   ]
  },
  {
   "cell_type": "markdown",
   "metadata": {},
   "source": [
    "<img alt=\"Date Input\" caption=\"Date Input\" src=\"images/input_date.png\" />"
   ]
  },
  {
   "cell_type": "markdown",
   "metadata": {},
   "source": [
    "### time"
   ]
  },
  {
   "cell_type": "code",
   "execution_count": null,
   "metadata": {},
   "outputs": [
    {
     "data": {
      "application/vnd.jupyter.widget-view+json": {
       "model_id": "e66b4c7fd7ea40afb1e58f6fe88695ad",
       "version_major": 2,
       "version_minor": 0
      },
      "text/plain": [
       "TextField(label='Please enter a time (format: HH:MM)', persistent_hint=False, style_='max-width:320px', type='…"
      ]
     },
     "metadata": {},
     "output_type": "display_data"
    }
   ],
   "source": [
    "input_time(label='Please enter a time (format: HH:MM)',\n",
    "     v_model='13:34',\n",
    "     style_='max-width:320px')"
   ]
  },
  {
   "cell_type": "markdown",
   "metadata": {},
   "source": [
    "\n",
    "<img alt=\"Time Input\" caption=\"Time Input\" src=\"images/input_time.png\" />\n"
   ]
  },
  {
   "cell_type": "markdown",
   "metadata": {},
   "source": [
    "### integer"
   ]
  },
  {
   "cell_type": "code",
   "execution_count": null,
   "metadata": {},
   "outputs": [
    {
     "data": {
      "application/vnd.jupyter.widget-view+json": {
       "model_id": "1c935f0cc8cd416d96baeab97a323795",
       "version_major": 2,
       "version_minor": 0
      },
      "text/plain": [
       "TextField(error=False, persistent_hint=True, placeholder='Enter an integer', style_='max-width:320px', type='n…"
      ]
     },
     "metadata": {},
     "output_type": "display_data"
    }
   ],
   "source": [
    "from vvapp.inputs import integer\n",
    "integer(placeholder='Enter an integer',\n",
    "     style_='max-width:320px')"
   ]
  },
  {
   "cell_type": "markdown",
   "metadata": {},
   "source": [
    "`integer` inputs have a default validation function that changes the `error` state of the input to True and prints a sensible hint if the value is less than `min_value` or greater than `max_value` or if the input is not an integer (i.e. a floating point number)"
   ]
  },
  {
   "cell_type": "code",
   "execution_count": null,
   "metadata": {},
   "outputs": [
    {
     "data": {
      "application/vnd.jupyter.widget-view+json": {
       "model_id": "f72b3a1d80b14427ad7b821aa8bcd4b2",
       "version_major": 2,
       "version_minor": 0
      },
      "text/plain": [
       "TextField(error=True, hint='Input: 50.123 is not an integer', label='Integer Input', persistent_hint=True, sty…"
      ]
     },
     "metadata": {},
     "output_type": "display_data"
    }
   ],
   "source": [
    "from vvapp.inputs import integer\n",
    "integer(label='Integer Input',\n",
    "       v_model=50.123,\n",
    "       min_value=0,\n",
    "       max_value=100,\n",
    "     style_='max-width:320px')"
   ]
  },
  {
   "cell_type": "markdown",
   "metadata": {},
   "source": [
    "### number"
   ]
  },
  {
   "cell_type": "code",
   "execution_count": null,
   "metadata": {},
   "outputs": [
    {
     "data": {
      "application/vnd.jupyter.widget-view+json": {
       "model_id": "5ec5f759f0e8476ca4ae0a032503ad9e",
       "version_major": 2,
       "version_minor": 0
      },
      "text/plain": [
       "TextField(error=False, persistent_hint=True, placeholder='Enter a number', style_='max-width:320px', type='num…"
      ]
     },
     "metadata": {},
     "output_type": "display_data"
    }
   ],
   "source": [
    "input_number(placeholder='Enter a number',\n",
    "     style_='max-width:320px')"
   ]
  },
  {
   "cell_type": "markdown",
   "metadata": {},
   "source": [
    "<img alt=\"Number Input\" caption=\"Number Input\" src=\"images/input_number.png\" />\n"
   ]
  },
  {
   "cell_type": "markdown",
   "metadata": {},
   "source": [
    "`number` inputs have a default validation function that changes the `error` state of the input to True and prints a sensible hint if the value is less than `min_value` or greater than `max_value`"
   ]
  },
  {
   "cell_type": "code",
   "execution_count": null,
   "metadata": {},
   "outputs": [
    {
     "data": {
      "application/vnd.jupyter.widget-view+json": {
       "model_id": "5984a63b3c36419e97a9ed3064175922",
       "version_major": 2,
       "version_minor": 0
      },
      "text/plain": [
       "TextField(error=True, hint='Input: 123.0 is greater than the maximum supported value 100.', label='Number Inpu…"
      ]
     },
     "metadata": {},
     "output_type": "display_data"
    }
   ],
   "source": [
    "input_number(label='Number Input',\n",
    "       v_model=123,\n",
    "       min_value=0,\n",
    "       max_value=100,\n",
    "     style_='max-width:320px')"
   ]
  },
  {
   "cell_type": "markdown",
   "metadata": {},
   "source": [
    "\n",
    "<img alt=\"Number Input With Validation\" caption=\"Number Input With Validation\" src=\"images/input_number_validation.png\" />\n"
   ]
  },
  {
   "cell_type": "markdown",
   "metadata": {},
   "source": [
    "### password"
   ]
  },
  {
   "cell_type": "code",
   "execution_count": null,
   "metadata": {},
   "outputs": [
    {
     "data": {
      "application/vnd.jupyter.widget-view+json": {
       "model_id": "95b50af414d54e8abcbb18d8419726d4",
       "version_major": 2,
       "version_minor": 0
      },
      "text/plain": [
       "TextField(label='Please enter a password', persistent_hint=False, type='password', v_model='correcthorsebatter…"
      ]
     },
     "metadata": {},
     "output_type": "display_data"
    }
   ],
   "source": [
    "pw = input_password(label='Please enter a password',v_model='correcthorsebatterystapler')\n",
    "pw"
   ]
  },
  {
   "cell_type": "markdown",
   "metadata": {},
   "source": [
    "<img alt=\"Password Input\" caption=\"Password Input\" src=\"images/input_password.png\" />\n"
   ]
  },
  {
   "cell_type": "markdown",
   "metadata": {},
   "source": [
    "The value of of a vvapp widget is set/accessed by the `v_model` attribute, just like in ipyvuetify"
   ]
  },
  {
   "cell_type": "code",
   "execution_count": null,
   "metadata": {},
   "outputs": [
    {
     "data": {
      "text/plain": [
       "'correcthorsebatterystapler'"
      ]
     },
     "execution_count": null,
     "metadata": {},
     "output_type": "execute_result"
    }
   ],
   "source": [
    "pw.v_model"
   ]
  },
  {
   "cell_type": "markdown",
   "metadata": {},
   "source": [
    "Here we demonstrate the use of a function to validate the value of the input.\n",
    "\n",
    "In this example the password must be at least 12 characters, less than 64 characters and include at least one number:"
   ]
  },
  {
   "cell_type": "code",
   "execution_count": null,
   "metadata": {},
   "outputs": [
    {
     "data": {
      "application/vnd.jupyter.widget-view+json": {
       "model_id": "973fbad4b769435e8bedaff6ebed6ff1",
       "version_major": 2,
       "version_minor": 0
      },
      "text/plain": [
       "TextField(error=True, hint='Must contain at least one number!', label='Please enter a password', persistent_hi…"
      ]
     },
     "metadata": {},
     "output_type": "display_data"
    }
   ],
   "source": [
    "import re\n",
    "def validate_pw(widget_value):\n",
    "    if widget_value is None:\n",
    "        return 'Input must not be None'\n",
    "\n",
    "    else:\n",
    "        if len(widget_value) < 12:\n",
    "            return 'Too Short!'\n",
    "\n",
    "        if len(widget_value) > 64:\n",
    "            return 'Too Long!'\n",
    "\n",
    "        if not re.search('[0-9]+',widget_value):\n",
    "            return 'Must contain at least one number!'\n",
    "\n",
    "    return None\n",
    "\n",
    "pw = input_password(label='Please enter a password',v_model='correcthorsebatterystapler', hint=validate_pw)\n",
    "pw"
   ]
  },
  {
   "cell_type": "markdown",
   "metadata": {},
   "source": [
    "<img alt=\"Password Input with Validation\" caption=\"Password Input with Validation\" src=\"images/input_password_validation.png\" />\n"
   ]
  },
  {
   "cell_type": "markdown",
   "metadata": {},
   "source": [
    "### button"
   ]
  },
  {
   "cell_type": "code",
   "execution_count": null,
   "metadata": {},
   "outputs": [
    {
     "data": {
      "application/vnd.jupyter.widget-view+json": {
       "model_id": "119be31c953540fb95e121a3e971c615",
       "version_major": 2,
       "version_minor": 0
      },
      "text/plain": [
       "Btn(children=['I print `test` on click'], color='teal', dark=True, fab=False, large=True, outlined=False, roun…"
      ]
     },
     "metadata": {},
     "output_type": "display_data"
    }
   ],
   "source": [
    "def print_test_on_click(*args):\n",
    "    print('test')\n",
    "\n",
    "input_button(label='I print `test` on click',\n",
    "       size='large',\n",
    "       color='teal',\n",
    "       dark=True,\n",
    "       on_click=print_test_on_click)\n"
   ]
  },
  {
   "cell_type": "markdown",
   "metadata": {},
   "source": [
    "<img alt=\"Button Input Example\" caption=\"Button Input Example\" src=\"images/input_button1.png\" />"
   ]
  },
  {
   "cell_type": "code",
   "execution_count": null,
   "metadata": {},
   "outputs": [
    {
     "data": {
      "application/vnd.jupyter.widget-view+json": {
       "model_id": "3b4aee6cbced44f49294de23f44d2342",
       "version_major": 2,
       "version_minor": 0
      },
      "text/plain": [
       "Btn(children=[Icon(children=['mdi-recycle'])], class_='ma-4', color='teal', dark=True, fab=True, large=True, o…"
      ]
     },
     "metadata": {},
     "output_type": "display_data"
    }
   ],
   "source": [
    "input_button(icon='mdi-recycle',\n",
    "       size='large',\n",
    "       color='teal',\n",
    "       dark=True,\n",
    "       fab=True,\n",
    "       class_='ma-4'\n",
    "      )"
   ]
  },
  {
   "cell_type": "markdown",
   "metadata": {},
   "source": [
    "<img alt=\"Button Input Example\" caption=\"Fab Style With Icon Button Input Example\" src=\"images/input_button2.png\" />"
   ]
  },
  {
   "cell_type": "markdown",
   "metadata": {},
   "source": [
    "### date_range"
   ]
  },
  {
   "cell_type": "code",
   "execution_count": null,
   "metadata": {},
   "outputs": [
    {
     "data": {
      "application/vnd.jupyter.widget-view+json": {
       "model_id": "1e6d33c2efb24a6882d30520038ee619",
       "version_major": 2,
       "version_minor": 0
      },
      "text/plain": [
       "_DateRange(dates=['2020-01-01', '2020-02-01'], label='Select Date Range')"
      ]
     },
     "metadata": {},
     "output_type": "display_data"
    }
   ],
   "source": [
    "temp = input_daterange(dates=['2020-01-01','2020-02-01'])\n",
    "temp"
   ]
  },
  {
   "cell_type": "markdown",
   "metadata": {},
   "source": [
    "<img alt=\"Date Range Input Example\" caption=\"Date Range Input Example\" src=\"images/daterange.png\" />\n"
   ]
  },
  {
   "cell_type": "code",
   "execution_count": null,
   "metadata": {},
   "outputs": [
    {
     "data": {
      "text/plain": [
       "['2020-01-01', '2020-02-01']"
      ]
     },
     "execution_count": null,
     "metadata": {},
     "output_type": "execute_result"
    }
   ],
   "source": [
    "temp.dates"
   ]
  },
  {
   "cell_type": "markdown",
   "metadata": {},
   "source": [
    "### color_picker"
   ]
  },
  {
   "cell_type": "code",
   "execution_count": null,
   "metadata": {},
   "outputs": [
    {
     "data": {
      "application/vnd.jupyter.widget-view+json": {
       "model_id": "fd2a41333322440b84c6cdee0cca13af",
       "version_major": 2,
       "version_minor": 0
      },
      "text/plain": [
       "ColorPicker(canvas_height=150.0, mode='hexa', v_model=None, width=300.0)"
      ]
     },
     "metadata": {},
     "output_type": "display_data"
    }
   ],
   "source": [
    "temp=input_color_picker()\n",
    "temp"
   ]
  },
  {
   "cell_type": "markdown",
   "metadata": {},
   "source": [
    "<img alt=\"Color Picker Input Example\" caption=\"Color Picker Input Example\" src=\"images/color_picker.png\" />\n"
   ]
  },
  {
   "cell_type": "code",
   "execution_count": null,
   "metadata": {},
   "outputs": [],
   "source": [
    "temp.v_model"
   ]
  },
  {
   "cell_type": "markdown",
   "metadata": {},
   "source": [
    "## Outputs"
   ]
  },
  {
   "cell_type": "code",
   "execution_count": null,
   "metadata": {},
   "outputs": [
    {
     "data": {
      "text/plain": [
       "['output_pandas_table',\n",
       " 'output_markdown',\n",
       " 'output_info_snackbar',\n",
       " 'output_dialog_button',\n",
       " 'output_container',\n",
       " 'output_row',\n",
       " 'output_column']"
      ]
     },
     "execution_count": null,
     "metadata": {},
     "output_type": "execute_result"
    }
   ],
   "source": [
    "from vvapp.outputs import __all__ as available_output_widgets\n",
    "available_output_widgets"
   ]
  },
  {
   "cell_type": "code",
   "execution_count": null,
   "metadata": {},
   "outputs": [],
   "source": [
    "from vvapp.outputs import *"
   ]
  },
  {
   "cell_type": "markdown",
   "metadata": {},
   "source": [
    "### PandasTable"
   ]
  },
  {
   "cell_type": "code",
   "execution_count": null,
   "metadata": {},
   "outputs": [
    {
     "data": {
      "application/vnd.jupyter.widget-view+json": {
       "model_id": "9de011fdbbfb4a6789760e55c3cb6532",
       "version_major": 2,
       "version_minor": 0
      },
      "text/plain": [
       "output_pandas_table(headers=[{'text': 'index', 'value': 'index', 'align': 'left', 'sortable': True}, {'text': …"
      ]
     },
     "metadata": {},
     "output_type": "display_data"
    }
   ],
   "source": [
    "import pandas as pd\n",
    "df = pd.DataFrame({'a':[1,2,3],'b':[2,3,4]})\n",
    "output_pandas_table(data=df,title='My DataFrame')"
   ]
  },
  {
   "cell_type": "markdown",
   "metadata": {},
   "source": [
    "<img alt=\"Pandas Dataframe Output\" caption=\"Pandas Dataframe Output\" src=\"images/output_pandas_table2.png\" />\n"
   ]
  },
  {
   "cell_type": "markdown",
   "metadata": {},
   "source": [
    "The pandas DataFrame output has a nice warning/error display if the search returns zero results or if are no rows in the PandasDataframe:"
   ]
  },
  {
   "cell_type": "code",
   "execution_count": null,
   "metadata": {},
   "outputs": [
    {
     "data": {
      "application/vnd.jupyter.widget-view+json": {
       "model_id": "fc0dfb6453254074bcf07c3156da7d3c",
       "version_major": 2,
       "version_minor": 0
      },
      "text/plain": [
       "output_pandas_table(headers=[{'text': 'index', 'value': 'index', 'align': 'left', 'sortable': True}, {'text': …"
      ]
     },
     "metadata": {},
     "output_type": "display_data"
    }
   ],
   "source": [
    "import pandas as pd\n",
    "df = pd.DataFrame({'a':[1,2,3],'b':[2,3,4]})\n",
    "output_pandas_table(data=df,title='My DataFrame')"
   ]
  },
  {
   "cell_type": "markdown",
   "metadata": {},
   "source": [
    "<img alt=\"Pandas Dataframe Output No Search Results\" caption=\"Pandas Dataframe Output No Search Results\" src=\"images/output_pandas_table_zeroresults.png\" />\n"
   ]
  },
  {
   "cell_type": "code",
   "execution_count": null,
   "metadata": {},
   "outputs": [
    {
     "data": {
      "application/vnd.jupyter.widget-view+json": {
       "model_id": "531e69f25af44649ad03e10588f91578",
       "version_major": 2,
       "version_minor": 0
      },
      "text/plain": [
       "output_pandas_table(headers=[{'text': 'index', 'value': 'index', 'align': 'left', 'sortable': True}], index_co…"
      ]
     },
     "metadata": {},
     "output_type": "display_data"
    }
   ],
   "source": [
    "import pandas as pd\n",
    "output_pandas_table(data=pd.DataFrame(),title='My DataFrame')"
   ]
  },
  {
   "cell_type": "markdown",
   "metadata": {},
   "source": [
    "<img alt=\"Pandas Dataframe Output No Data\" caption=\"Pandas Dataframe Output No Data\" src=\"images/output_pandas_table_nodata.png\" />\n"
   ]
  },
  {
   "cell_type": "markdown",
   "metadata": {},
   "source": [
    "### Markdown"
   ]
  },
  {
   "cell_type": "code",
   "execution_count": null,
   "metadata": {},
   "outputs": [
    {
     "data": {
      "application/vnd.jupyter.widget-view+json": {
       "model_id": "a1298d0afedd4296a5d3fe51de06bcd5",
       "version_major": 2,
       "version_minor": 0
      },
      "text/plain": [
       "HTML(value='<h1>Markdown Title</h1>\\n<h2>Markdown Subtitle</h2>\\n<p>Some body text</p>\\n<ul>\\n<li>a list eleme…"
      ]
     },
     "metadata": {},
     "output_type": "display_data"
    }
   ],
   "source": [
    "output_markdown(\"\"\"\n",
    "# Markdown Title\n",
    "\n",
    "## Markdown Subtitle\n",
    "\n",
    "Some body text\n",
    "\n",
    "* a list element\n",
    "* another list element\n",
    "\"\"\")"
   ]
  },
  {
   "cell_type": "markdown",
   "metadata": {},
   "source": [
    "<img alt=\"Output Markdown\" caption=\"Markdown output example\" src=\"images/output_markdown.png\" />\n"
   ]
  },
  {
   "cell_type": "markdown",
   "metadata": {},
   "source": [
    "### Snackbar"
   ]
  },
  {
   "cell_type": "code",
   "execution_count": null,
   "metadata": {},
   "outputs": [
    {
     "data": {
      "application/vnd.jupyter.widget-view+json": {
       "model_id": "dc834ca5642e4dd2af962cf6694f6962",
       "version_major": 2,
       "version_minor": 0
      },
      "text/plain": [
       "_InfoSnackbar(color='teal', message='Message text', timeout=10000)"
      ]
     },
     "metadata": {},
     "output_type": "display_data"
    }
   ],
   "source": [
    "output_info_snackbar(message='Message text', color='teal',timeout=10000)"
   ]
  },
  {
   "cell_type": "markdown",
   "metadata": {},
   "source": [
    "<img alt=\"Output Snackbar\" caption=\"Snackbar output example\" src=\"images/snackbar.png\" />\n"
   ]
  },
  {
   "cell_type": "markdown",
   "metadata": {},
   "source": [
    "### Dialog Button"
   ]
  },
  {
   "cell_type": "code",
   "execution_count": null,
   "metadata": {},
   "outputs": [
    {
     "data": {
      "application/vnd.jupyter.widget-view+json": {
       "model_id": "fa8f520500444269a708a2824dd5e9a5",
       "version_major": 2,
       "version_minor": 0
      },
      "text/plain": [
       "Layout(children=[Dialog(children=[Card(children=[CardTitle(children=['Dialog Title'], class_='headline pa-4'),…"
      ]
     },
     "metadata": {},
     "output_type": "display_data"
    },
    {
     "data": {
      "application/vnd.jupyter.widget-view+json": {
       "model_id": "bbee2ffa6dea47f0b05a72f031d30227",
       "version_major": 2,
       "version_minor": 0
      },
      "text/plain": [
       "Btn(children=['My Button', Icon(children=[''])], color='primary', dark=False, depressed=True)"
      ]
     },
     "metadata": {},
     "output_type": "display_data"
    }
   ],
   "source": [
    "output_dialog_button(label='My Button',icon=None)"
   ]
  },
  {
   "cell_type": "markdown",
   "metadata": {},
   "source": [
    "<img alt=\"Dialog Button Example\" caption=\"Dialog Button Example\" src=\"images/dialog_button.png\" />\n"
   ]
  },
  {
   "cell_type": "markdown",
   "metadata": {},
   "source": [
    "### Container"
   ]
  },
  {
   "cell_type": "code",
   "execution_count": null,
   "metadata": {},
   "outputs": [
    {
     "data": {
      "application/vnd.jupyter.widget-view+json": {
       "model_id": "e2475d148adf4292a3d3e4735265c948",
       "version_major": 2,
       "version_minor": 0
      },
      "text/plain": [
       "Container(children=[Btn(children=['Red'], color='red', dark=False, fab=False, large=False, outlined=False, rou…"
      ]
     },
     "metadata": {},
     "output_type": "display_data"
    }
   ],
   "source": [
    "output_container(children=[\n",
    "    input_button(color='red', label='Red'),\n",
    "    input_button(color='blue', label='Blue'),\n",
    "    input_button(color='green', label='Green')\n",
    "])"
   ]
  },
  {
   "cell_type": "markdown",
   "metadata": {},
   "source": [
    "<img alt=\"Container Output Example\" caption=\"Container Output Example\" src=\"images/container.png\" />\n"
   ]
  },
  {
   "cell_type": "markdown",
   "metadata": {},
   "source": [
    "Compare the `help` output for `ipyvuetify`'s container to the `help` output for `vvapp`'s container"
   ]
  },
  {
   "cell_type": "code",
   "execution_count": null,
   "metadata": {},
   "outputs": [
    {
     "name": "stdout",
     "output_type": "stream",
     "text": [
      "Help on function output_container in module vvapp.outputs:\n",
      "\n",
      "output_container(children=[], fluid=False, _class='icon ma-2', _style='', **args)\n",
      "    Creates a button and activates a dialog on click\n",
      "    \n",
      "    Useful to display application documentation/help\n",
      "    \n",
      "    Parameters\n",
      "    ----------\n",
      "    children : list\n",
      "        List of elements to display in container\n",
      "    fluid : bool (default False)\n",
      "        Removes viewport maximum-width size breakpoints\n",
      "    _class : str (optional, default 'icon ma-2')\n",
      "        CSS classes of button\n",
      "    _style: str\n",
      "        CSS style of button\n",
      "    **args\n",
      "        Other arguments will be passed on to ipyvuetify.Container\n",
      "\n"
     ]
    }
   ],
   "source": [
    "help(output_container)"
   ]
  },
  {
   "cell_type": "code",
   "execution_count": null,
   "metadata": {},
   "outputs": [
    {
     "name": "stdout",
     "output_type": "stream",
     "text": [
      "Help on class Container in module ipyvuetify.generated.Container:\n",
      "\n",
      "class Container(ipyvuetify.generated.VuetifyWidget.VuetifyWidget)\n",
      " |  Container(*args, **kwargs)\n",
      " |  \n",
      " |  Widget that can be inserted into the DOM\n",
      " |  \n",
      " |  Method resolution order:\n",
      " |      Container\n",
      " |      ipyvuetify.generated.VuetifyWidget.VuetifyWidget\n",
      " |      ipyvue.VueWidget.VueWidget\n",
      " |      ipywidgets.widgets.domwidget.DOMWidget\n",
      " |      ipywidgets.widgets.widget.Widget\n",
      " |      ipywidgets.widgets.widget.LoggingHasTraits\n",
      " |      traitlets.traitlets.HasTraits\n",
      " |      traitlets.traitlets.HasDescriptors\n",
      " |      ipyvue.VueWidget.Events\n",
      " |      builtins.object\n",
      " |  \n",
      " |  Data descriptors defined here:\n",
      " |  \n",
      " |  fluid\n",
      " |      A boolean (True, False) trait.\n",
      " |  \n",
      " |  id\n",
      " |      A trait for unicode strings.\n",
      " |  \n",
      " |  ma_0\n",
      " |      A boolean (True, False) trait.\n",
      " |  \n",
      " |  ma_1\n",
      " |      A boolean (True, False) trait.\n",
      " |  \n",
      " |  ma_2\n",
      " |      A boolean (True, False) trait.\n",
      " |  \n",
      " |  ma_3\n",
      " |      A boolean (True, False) trait.\n",
      " |  \n",
      " |  ma_4\n",
      " |      A boolean (True, False) trait.\n",
      " |  \n",
      " |  ma_5\n",
      " |      A boolean (True, False) trait.\n",
      " |  \n",
      " |  ma_auto\n",
      " |      A boolean (True, False) trait.\n",
      " |  \n",
      " |  mb_0\n",
      " |      A boolean (True, False) trait.\n",
      " |  \n",
      " |  mb_1\n",
      " |      A boolean (True, False) trait.\n",
      " |  \n",
      " |  mb_2\n",
      " |      A boolean (True, False) trait.\n",
      " |  \n",
      " |  mb_3\n",
      " |      A boolean (True, False) trait.\n",
      " |  \n",
      " |  mb_4\n",
      " |      A boolean (True, False) trait.\n",
      " |  \n",
      " |  mb_5\n",
      " |      A boolean (True, False) trait.\n",
      " |  \n",
      " |  mb_auto\n",
      " |      A boolean (True, False) trait.\n",
      " |  \n",
      " |  ml_0\n",
      " |      A boolean (True, False) trait.\n",
      " |  \n",
      " |  ml_1\n",
      " |      A boolean (True, False) trait.\n",
      " |  \n",
      " |  ml_2\n",
      " |      A boolean (True, False) trait.\n",
      " |  \n",
      " |  ml_3\n",
      " |      A boolean (True, False) trait.\n",
      " |  \n",
      " |  ml_4\n",
      " |      A boolean (True, False) trait.\n",
      " |  \n",
      " |  ml_5\n",
      " |      A boolean (True, False) trait.\n",
      " |  \n",
      " |  ml_auto\n",
      " |      A boolean (True, False) trait.\n",
      " |  \n",
      " |  mr_0\n",
      " |      A boolean (True, False) trait.\n",
      " |  \n",
      " |  mr_1\n",
      " |      A boolean (True, False) trait.\n",
      " |  \n",
      " |  mr_2\n",
      " |      A boolean (True, False) trait.\n",
      " |  \n",
      " |  mr_3\n",
      " |      A boolean (True, False) trait.\n",
      " |  \n",
      " |  mr_4\n",
      " |      A boolean (True, False) trait.\n",
      " |  \n",
      " |  mr_5\n",
      " |      A boolean (True, False) trait.\n",
      " |  \n",
      " |  mr_auto\n",
      " |      A boolean (True, False) trait.\n",
      " |  \n",
      " |  mt_0\n",
      " |      A boolean (True, False) trait.\n",
      " |  \n",
      " |  mt_1\n",
      " |      A boolean (True, False) trait.\n",
      " |  \n",
      " |  mt_2\n",
      " |      A boolean (True, False) trait.\n",
      " |  \n",
      " |  mt_3\n",
      " |      A boolean (True, False) trait.\n",
      " |  \n",
      " |  mt_4\n",
      " |      A boolean (True, False) trait.\n",
      " |  \n",
      " |  mt_5\n",
      " |      A boolean (True, False) trait.\n",
      " |  \n",
      " |  mt_auto\n",
      " |      A boolean (True, False) trait.\n",
      " |  \n",
      " |  mx_0\n",
      " |      A boolean (True, False) trait.\n",
      " |  \n",
      " |  mx_1\n",
      " |      A boolean (True, False) trait.\n",
      " |  \n",
      " |  mx_2\n",
      " |      A boolean (True, False) trait.\n",
      " |  \n",
      " |  mx_3\n",
      " |      A boolean (True, False) trait.\n",
      " |  \n",
      " |  mx_4\n",
      " |      A boolean (True, False) trait.\n",
      " |  \n",
      " |  mx_5\n",
      " |      A boolean (True, False) trait.\n",
      " |  \n",
      " |  mx_auto\n",
      " |      A boolean (True, False) trait.\n",
      " |  \n",
      " |  my_0\n",
      " |      A boolean (True, False) trait.\n",
      " |  \n",
      " |  my_1\n",
      " |      A boolean (True, False) trait.\n",
      " |  \n",
      " |  my_2\n",
      " |      A boolean (True, False) trait.\n",
      " |  \n",
      " |  my_3\n",
      " |      A boolean (True, False) trait.\n",
      " |  \n",
      " |  my_4\n",
      " |      A boolean (True, False) trait.\n",
      " |  \n",
      " |  my_5\n",
      " |      A boolean (True, False) trait.\n",
      " |  \n",
      " |  my_auto\n",
      " |      A boolean (True, False) trait.\n",
      " |  \n",
      " |  pa_0\n",
      " |      A boolean (True, False) trait.\n",
      " |  \n",
      " |  pa_1\n",
      " |      A boolean (True, False) trait.\n",
      " |  \n",
      " |  pa_2\n",
      " |      A boolean (True, False) trait.\n",
      " |  \n",
      " |  pa_3\n",
      " |      A boolean (True, False) trait.\n",
      " |  \n",
      " |  pa_4\n",
      " |      A boolean (True, False) trait.\n",
      " |  \n",
      " |  pa_5\n",
      " |      A boolean (True, False) trait.\n",
      " |  \n",
      " |  pa_auto\n",
      " |      A boolean (True, False) trait.\n",
      " |  \n",
      " |  pb_0\n",
      " |      A boolean (True, False) trait.\n",
      " |  \n",
      " |  pb_1\n",
      " |      A boolean (True, False) trait.\n",
      " |  \n",
      " |  pb_2\n",
      " |      A boolean (True, False) trait.\n",
      " |  \n",
      " |  pb_3\n",
      " |      A boolean (True, False) trait.\n",
      " |  \n",
      " |  pb_4\n",
      " |      A boolean (True, False) trait.\n",
      " |  \n",
      " |  pb_5\n",
      " |      A boolean (True, False) trait.\n",
      " |  \n",
      " |  pb_auto\n",
      " |      A boolean (True, False) trait.\n",
      " |  \n",
      " |  pl_0\n",
      " |      A boolean (True, False) trait.\n",
      " |  \n",
      " |  pl_1\n",
      " |      A boolean (True, False) trait.\n",
      " |  \n",
      " |  pl_2\n",
      " |      A boolean (True, False) trait.\n",
      " |  \n",
      " |  pl_3\n",
      " |      A boolean (True, False) trait.\n",
      " |  \n",
      " |  pl_4\n",
      " |      A boolean (True, False) trait.\n",
      " |  \n",
      " |  pl_5\n",
      " |      A boolean (True, False) trait.\n",
      " |  \n",
      " |  pl_auto\n",
      " |      A boolean (True, False) trait.\n",
      " |  \n",
      " |  pr_0\n",
      " |      A boolean (True, False) trait.\n",
      " |  \n",
      " |  pr_1\n",
      " |      A boolean (True, False) trait.\n",
      " |  \n",
      " |  pr_2\n",
      " |      A boolean (True, False) trait.\n",
      " |  \n",
      " |  pr_3\n",
      " |      A boolean (True, False) trait.\n",
      " |  \n",
      " |  pr_4\n",
      " |      A boolean (True, False) trait.\n",
      " |  \n",
      " |  pr_5\n",
      " |      A boolean (True, False) trait.\n",
      " |  \n",
      " |  pr_auto\n",
      " |      A boolean (True, False) trait.\n",
      " |  \n",
      " |  pt_0\n",
      " |      A boolean (True, False) trait.\n",
      " |  \n",
      " |  pt_1\n",
      " |      A boolean (True, False) trait.\n",
      " |  \n",
      " |  pt_2\n",
      " |      A boolean (True, False) trait.\n",
      " |  \n",
      " |  pt_3\n",
      " |      A boolean (True, False) trait.\n",
      " |  \n",
      " |  pt_4\n",
      " |      A boolean (True, False) trait.\n",
      " |  \n",
      " |  pt_5\n",
      " |      A boolean (True, False) trait.\n",
      " |  \n",
      " |  pt_auto\n",
      " |      A boolean (True, False) trait.\n",
      " |  \n",
      " |  px_0\n",
      " |      A boolean (True, False) trait.\n",
      " |  \n",
      " |  px_1\n",
      " |      A boolean (True, False) trait.\n",
      " |  \n",
      " |  px_2\n",
      " |      A boolean (True, False) trait.\n",
      " |  \n",
      " |  px_3\n",
      " |      A boolean (True, False) trait.\n",
      " |  \n",
      " |  px_4\n",
      " |      A boolean (True, False) trait.\n",
      " |  \n",
      " |  px_5\n",
      " |      A boolean (True, False) trait.\n",
      " |  \n",
      " |  px_auto\n",
      " |      A boolean (True, False) trait.\n",
      " |  \n",
      " |  py_0\n",
      " |      A boolean (True, False) trait.\n",
      " |  \n",
      " |  py_1\n",
      " |      A boolean (True, False) trait.\n",
      " |  \n",
      " |  py_2\n",
      " |      A boolean (True, False) trait.\n",
      " |  \n",
      " |  py_3\n",
      " |      A boolean (True, False) trait.\n",
      " |  \n",
      " |  py_4\n",
      " |      A boolean (True, False) trait.\n",
      " |  \n",
      " |  py_5\n",
      " |      A boolean (True, False) trait.\n",
      " |  \n",
      " |  py_auto\n",
      " |      A boolean (True, False) trait.\n",
      " |  \n",
      " |  tag\n",
      " |      A trait for unicode strings.\n",
      " |  \n",
      " |  ----------------------------------------------------------------------\n",
      " |  Data descriptors inherited from ipyvue.VueWidget.VueWidget:\n",
      " |  \n",
      " |  attributes\n",
      " |      An instance of a Python dict.\n",
      " |      \n",
      " |      One or more traits can be passed to the constructor\n",
      " |      to validate the keys and/or values of the dict.\n",
      " |      If you need more detailed validation,\n",
      " |      you may use a custom validator method.\n",
      " |      \n",
      " |      .. versionchanged:: 5.0\n",
      " |          Added key_trait for validating dict keys.\n",
      " |      \n",
      " |      .. versionchanged:: 5.0\n",
      " |          Deprecated ambiguous ``trait``, ``traits`` args in favor of ``value_trait``, ``per_key_traits``.\n",
      " |  \n",
      " |  children\n",
      " |      An instance of a Python list.\n",
      " |  \n",
      " |  class_\n",
      " |      A trait for unicode strings.\n",
      " |  \n",
      " |  slot\n",
      " |      A trait for unicode strings.\n",
      " |  \n",
      " |  style_\n",
      " |      A trait for unicode strings.\n",
      " |  \n",
      " |  v_model\n",
      " |      A trait which allows any value.\n",
      " |  \n",
      " |  v_on\n",
      " |      A trait for unicode strings.\n",
      " |  \n",
      " |  v_slots\n",
      " |      An instance of a Python list.\n",
      " |  \n",
      " |  ----------------------------------------------------------------------\n",
      " |  Methods inherited from ipywidgets.widgets.domwidget.DOMWidget:\n",
      " |  \n",
      " |  add_class(self, className)\n",
      " |      Adds a class to the top level element of the widget.\n",
      " |      \n",
      " |      Doesn't add the class if it already exists.\n",
      " |  \n",
      " |  remove_class(self, className)\n",
      " |      Removes a class from the top level element of the widget.\n",
      " |      \n",
      " |      Doesn't remove the class if it doesn't exist.\n",
      " |  \n",
      " |  ----------------------------------------------------------------------\n",
      " |  Data descriptors inherited from ipywidgets.widgets.domwidget.DOMWidget:\n",
      " |  \n",
      " |  layout\n",
      " |      An instance trait which coerces a dict to an instance.\n",
      " |      \n",
      " |      This lets the instance be specified as a dict, which is used\n",
      " |      to initialize the instance.\n",
      " |      \n",
      " |      Also, we default to a trivial instance, even if args and kwargs\n",
      " |      is not specified.\n",
      " |  \n",
      " |  ----------------------------------------------------------------------\n",
      " |  Methods inherited from ipywidgets.widgets.widget.Widget:\n",
      " |  \n",
      " |  __del__(self)\n",
      " |      Object disposal\n",
      " |  \n",
      " |  __init__(self, **kwargs)\n",
      " |      Public constructor\n",
      " |  \n",
      " |  __repr__(self)\n",
      " |      Return repr(self).\n",
      " |  \n",
      " |  add_traits(self, **traits)\n",
      " |      Dynamically add trait attributes to the Widget.\n",
      " |  \n",
      " |  close(self)\n",
      " |      Close method.\n",
      " |      \n",
      " |      Closes the underlying comm.\n",
      " |      When the comm is closed, all of the widget views are automatically\n",
      " |      removed from the front-end.\n",
      " |  \n",
      " |  get_state(self, key=None, drop_defaults=False)\n",
      " |      Gets the widget state, or a piece of it.\n",
      " |      \n",
      " |      Parameters\n",
      " |      ----------\n",
      " |      key : unicode or iterable (optional)\n",
      " |          A single property's name or iterable of property names to get.\n",
      " |      \n",
      " |      Returns\n",
      " |      -------\n",
      " |      state : dict of states\n",
      " |      metadata : dict\n",
      " |          metadata for each field: {key: metadata}\n",
      " |  \n",
      " |  get_view_spec(self)\n",
      " |  \n",
      " |  hold_sync(self)\n",
      " |      Hold syncing any state until the outermost context manager exits\n",
      " |  \n",
      " |  notify_change(self, change)\n",
      " |      Called when a property has changed.\n",
      " |  \n",
      " |  on_displayed(self, callback, remove=False)\n",
      " |      (Un)Register a widget displayed callback.\n",
      " |      \n",
      " |      Parameters\n",
      " |      ----------\n",
      " |      callback: method handler\n",
      " |          Must have a signature of::\n",
      " |      \n",
      " |              callback(widget, **kwargs)\n",
      " |      \n",
      " |          kwargs from display are passed through without modification.\n",
      " |      remove: bool\n",
      " |          True if the callback should be unregistered.\n",
      " |  \n",
      " |  on_msg(self, callback, remove=False)\n",
      " |      (Un)Register a custom msg receive callback.\n",
      " |      \n",
      " |      Parameters\n",
      " |      ----------\n",
      " |      callback: callable\n",
      " |          callback will be passed three arguments when a message arrives::\n",
      " |      \n",
      " |              callback(widget, content, buffers)\n",
      " |      \n",
      " |      remove: bool\n",
      " |          True if the callback should be unregistered.\n",
      " |  \n",
      " |  open(self)\n",
      " |      Open a comm to the frontend if one isn't already open.\n",
      " |  \n",
      " |  send(self, content, buffers=None)\n",
      " |      Sends a custom msg to the widget model in the front-end.\n",
      " |      \n",
      " |      Parameters\n",
      " |      ----------\n",
      " |      content : dict\n",
      " |          Content of the message to send.\n",
      " |      buffers : list of binary buffers\n",
      " |          Binary buffers to send with message\n",
      " |  \n",
      " |  send_state(self, key=None)\n",
      " |      Sends the widget state, or a piece of it, to the front-end, if it exists.\n",
      " |      \n",
      " |      Parameters\n",
      " |      ----------\n",
      " |      key : unicode, or iterable (optional)\n",
      " |          A single property's name or iterable of property names to sync with the front-end.\n",
      " |  \n",
      " |  set_state(self, sync_data)\n",
      " |      Called when a state is received from the front-end.\n",
      " |  \n",
      " |  ----------------------------------------------------------------------\n",
      " |  Class methods inherited from ipywidgets.widgets.widget.Widget:\n",
      " |  \n",
      " |  close_all() from traitlets.traitlets.MetaHasTraits\n",
      " |  \n",
      " |  ----------------------------------------------------------------------\n",
      " |  Static methods inherited from ipywidgets.widgets.widget.Widget:\n",
      " |  \n",
      " |  get_manager_state(drop_defaults=False, widgets=None)\n",
      " |      Returns the full state for a widget manager for embedding\n",
      " |      \n",
      " |      :param drop_defaults: when True, it will not include default value\n",
      " |      :param widgets: list with widgets to include in the state (or all widgets when None)\n",
      " |      :return:\n",
      " |  \n",
      " |  handle_comm_opened(comm, msg)\n",
      " |      Static method, called when a widget is constructed.\n",
      " |  \n",
      " |  on_widget_constructed(callback)\n",
      " |      Registers a callback to be called when a widget is constructed.\n",
      " |      \n",
      " |      The callback must have the following signature:\n",
      " |      callback(widget)\n",
      " |  \n",
      " |  ----------------------------------------------------------------------\n",
      " |  Readonly properties inherited from ipywidgets.widgets.widget.Widget:\n",
      " |  \n",
      " |  model_id\n",
      " |      Gets the model id of this widget.\n",
      " |      \n",
      " |      If a Comm doesn't exist yet, a Comm will be created automagically.\n",
      " |  \n",
      " |  ----------------------------------------------------------------------\n",
      " |  Data descriptors inherited from ipywidgets.widgets.widget.Widget:\n",
      " |  \n",
      " |  comm\n",
      " |      A trait whose value must be an instance of a specified class.\n",
      " |      \n",
      " |      The value can also be an instance of a subclass of the specified class.\n",
      " |      \n",
      " |      Subclasses can declare default classes by overriding the klass attribute\n",
      " |  \n",
      " |  keys\n",
      " |      An instance of a Python list.\n",
      " |  \n",
      " |  ----------------------------------------------------------------------\n",
      " |  Data and other attributes inherited from ipywidgets.widgets.widget.Widget:\n",
      " |  \n",
      " |  widget_types = <ipywidgets.widgets.widget.WidgetRegistry object>\n",
      " |  \n",
      " |  widgets = {'01d4a1e490bb4c17ab19061e2b028f6d': DescriptionStyle(), '04...\n",
      " |  \n",
      " |  ----------------------------------------------------------------------\n",
      " |  Data descriptors inherited from ipywidgets.widgets.widget.LoggingHasTraits:\n",
      " |  \n",
      " |  log\n",
      " |      A trait whose value must be an instance of a specified class.\n",
      " |      \n",
      " |      The value can also be an instance of a subclass of the specified class.\n",
      " |      \n",
      " |      Subclasses can declare default classes by overriding the klass attribute\n",
      " |  \n",
      " |  ----------------------------------------------------------------------\n",
      " |  Methods inherited from traitlets.traitlets.HasTraits:\n",
      " |  \n",
      " |  __getstate__(self)\n",
      " |  \n",
      " |  __setstate__(self, state)\n",
      " |  \n",
      " |  has_trait(self, name)\n",
      " |      Returns True if the object has a trait with the specified name.\n",
      " |  \n",
      " |  hold_trait_notifications(self)\n",
      " |      Context manager for bundling trait change notifications and cross\n",
      " |      validation.\n",
      " |      \n",
      " |      Use this when doing multiple trait assignments (init, config), to avoid\n",
      " |      race conditions in trait notifiers requesting other trait values.\n",
      " |      All trait notifications will fire after all values have been assigned.\n",
      " |  \n",
      " |  observe(self, handler, names=traitlets.All, type='change')\n",
      " |      Setup a handler to be called when a trait changes.\n",
      " |      \n",
      " |      This is used to setup dynamic notifications of trait changes.\n",
      " |      \n",
      " |      Parameters\n",
      " |      ----------\n",
      " |      handler : callable\n",
      " |          A callable that is called when a trait changes. Its\n",
      " |          signature should be ``handler(change)``, where ``change`` is a\n",
      " |          dictionary. The change dictionary at least holds a 'type' key.\n",
      " |          * ``type``: the type of notification.\n",
      " |          Other keys may be passed depending on the value of 'type'. In the\n",
      " |          case where type is 'change', we also have the following keys:\n",
      " |          * ``owner`` : the HasTraits instance\n",
      " |          * ``old`` : the old value of the modified trait attribute\n",
      " |          * ``new`` : the new value of the modified trait attribute\n",
      " |          * ``name`` : the name of the modified trait attribute.\n",
      " |      names : list, str, All\n",
      " |          If names is All, the handler will apply to all traits.  If a list\n",
      " |          of str, handler will apply to all names in the list.  If a\n",
      " |          str, the handler will apply just to that name.\n",
      " |      type : str, All (default: 'change')\n",
      " |          The type of notification to filter by. If equal to All, then all\n",
      " |          notifications are passed to the observe handler.\n",
      " |  \n",
      " |  on_trait_change(self, handler=None, name=None, remove=False)\n",
      " |      DEPRECATED: Setup a handler to be called when a trait changes.\n",
      " |      \n",
      " |      This is used to setup dynamic notifications of trait changes.\n",
      " |      \n",
      " |      Static handlers can be created by creating methods on a HasTraits\n",
      " |      subclass with the naming convention '_[traitname]_changed'.  Thus,\n",
      " |      to create static handler for the trait 'a', create the method\n",
      " |      _a_changed(self, name, old, new) (fewer arguments can be used, see\n",
      " |      below).\n",
      " |      \n",
      " |      If `remove` is True and `handler` is not specified, all change\n",
      " |      handlers for the specified name are uninstalled.\n",
      " |      \n",
      " |      Parameters\n",
      " |      ----------\n",
      " |      handler : callable, None\n",
      " |          A callable that is called when a trait changes.  Its\n",
      " |          signature can be handler(), handler(name), handler(name, new),\n",
      " |          handler(name, old, new), or handler(name, old, new, self).\n",
      " |      name : list, str, None\n",
      " |          If None, the handler will apply to all traits.  If a list\n",
      " |          of str, handler will apply to all names in the list.  If a\n",
      " |          str, the handler will apply just to that name.\n",
      " |      remove : bool\n",
      " |          If False (the default), then install the handler.  If True\n",
      " |          then unintall it.\n",
      " |  \n",
      " |  set_trait(self, name, value)\n",
      " |      Forcibly sets trait attribute, including read-only attributes.\n",
      " |  \n",
      " |  setup_instance(*args, **kwargs)\n",
      " |      This is called **before** self.__init__ is called.\n",
      " |  \n",
      " |  trait_defaults(self, *names, **metadata)\n",
      " |      Return a trait's default value or a dictionary of them\n",
      " |      \n",
      " |      Notes\n",
      " |      -----\n",
      " |      Dynamically generated default values may\n",
      " |      depend on the current state of the object.\n",
      " |  \n",
      " |  trait_has_value(self, name)\n",
      " |      Returns True if the specified trait has a value.\n",
      " |      \n",
      " |      This will return false even if ``getattr`` would return a\n",
      " |      dynamically generated default value. These default values\n",
      " |      will be recognized as existing only after they have been\n",
      " |      generated.\n",
      " |      \n",
      " |      Example\n",
      " |      \n",
      " |      .. code-block:: python\n",
      " |      \n",
      " |          class MyClass(HasTraits):\n",
      " |              i = Int()\n",
      " |      \n",
      " |          mc = MyClass()\n",
      " |          assert not mc.trait_has_value(\"i\")\n",
      " |          mc.i # generates a default value\n",
      " |          assert mc.trait_has_value(\"i\")\n",
      " |  \n",
      " |  trait_metadata(self, traitname, key, default=None)\n",
      " |      Get metadata values for trait by key.\n",
      " |  \n",
      " |  trait_names(self, **metadata)\n",
      " |      Get a list of all the names of this class' traits.\n",
      " |  \n",
      " |  trait_values(self, **metadata)\n",
      " |      A ``dict`` of trait names and their values.\n",
      " |      \n",
      " |      The metadata kwargs allow functions to be passed in which\n",
      " |      filter traits based on metadata values.  The functions should\n",
      " |      take a single value as an argument and return a boolean.  If\n",
      " |      any function returns False, then the trait is not included in\n",
      " |      the output.  If a metadata key doesn't exist, None will be passed\n",
      " |      to the function.\n",
      " |      \n",
      " |      Returns\n",
      " |      -------\n",
      " |      A ``dict`` of trait names and their values.\n",
      " |      \n",
      " |      Notes\n",
      " |      -----\n",
      " |      Trait values are retrieved via ``getattr``, any exceptions raised\n",
      " |      by traits or the operations they may trigger will result in the\n",
      " |      absence of a trait value in the result ``dict``.\n",
      " |  \n",
      " |  traits(self, **metadata)\n",
      " |      Get a ``dict`` of all the traits of this class.  The dictionary\n",
      " |      is keyed on the name and the values are the TraitType objects.\n",
      " |      \n",
      " |      The TraitTypes returned don't know anything about the values\n",
      " |      that the various HasTrait's instances are holding.\n",
      " |      \n",
      " |      The metadata kwargs allow functions to be passed in which\n",
      " |      filter traits based on metadata values.  The functions should\n",
      " |      take a single value as an argument and return a boolean.  If\n",
      " |      any function returns False, then the trait is not included in\n",
      " |      the output.  If a metadata key doesn't exist, None will be passed\n",
      " |      to the function.\n",
      " |  \n",
      " |  unobserve(self, handler, names=traitlets.All, type='change')\n",
      " |      Remove a trait change handler.\n",
      " |      \n",
      " |      This is used to unregister handlers to trait change notifications.\n",
      " |      \n",
      " |      Parameters\n",
      " |      ----------\n",
      " |      handler : callable\n",
      " |          The callable called when a trait attribute changes.\n",
      " |      names : list, str, All (default: All)\n",
      " |          The names of the traits for which the specified handler should be\n",
      " |          uninstalled. If names is All, the specified handler is uninstalled\n",
      " |          from the list of notifiers corresponding to all changes.\n",
      " |      type : str or All (default: 'change')\n",
      " |          The type of notification to filter by. If All, the specified handler\n",
      " |          is uninstalled from the list of notifiers corresponding to all types.\n",
      " |  \n",
      " |  unobserve_all(self, name=traitlets.All)\n",
      " |      Remove trait change handlers of any type for the specified name.\n",
      " |      If name is not specified, removes all trait notifiers.\n",
      " |  \n",
      " |  ----------------------------------------------------------------------\n",
      " |  Class methods inherited from traitlets.traitlets.HasTraits:\n",
      " |  \n",
      " |  class_own_trait_events(name) from traitlets.traitlets.MetaHasTraits\n",
      " |      Get a dict of all event handlers defined on this class, not a parent.\n",
      " |      \n",
      " |      Works like ``event_handlers``, except for excluding traits from parents.\n",
      " |  \n",
      " |  class_own_traits(**metadata) from traitlets.traitlets.MetaHasTraits\n",
      " |      Get a dict of all the traitlets defined on this class, not a parent.\n",
      " |      \n",
      " |      Works like `class_traits`, except for excluding traits from parents.\n",
      " |  \n",
      " |  class_trait_names(**metadata) from traitlets.traitlets.MetaHasTraits\n",
      " |      Get a list of all the names of this class' traits.\n",
      " |      \n",
      " |      This method is just like the :meth:`trait_names` method,\n",
      " |      but is unbound.\n",
      " |  \n",
      " |  class_traits(**metadata) from traitlets.traitlets.MetaHasTraits\n",
      " |      Get a ``dict`` of all the traits of this class.  The dictionary\n",
      " |      is keyed on the name and the values are the TraitType objects.\n",
      " |      \n",
      " |      This method is just like the :meth:`traits` method, but is unbound.\n",
      " |      \n",
      " |      The TraitTypes returned don't know anything about the values\n",
      " |      that the various HasTrait's instances are holding.\n",
      " |      \n",
      " |      The metadata kwargs allow functions to be passed in which\n",
      " |      filter traits based on metadata values.  The functions should\n",
      " |      take a single value as an argument and return a boolean.  If\n",
      " |      any function returns False, then the trait is not included in\n",
      " |      the output.  If a metadata key doesn't exist, None will be passed\n",
      " |      to the function.\n",
      " |  \n",
      " |  trait_events(name=None) from traitlets.traitlets.MetaHasTraits\n",
      " |      Get a ``dict`` of all the event handlers of this class.\n",
      " |      \n",
      " |      Parameters\n",
      " |      ----------\n",
      " |      name : str (default: None)\n",
      " |          The name of a trait of this class. If name is ``None`` then all\n",
      " |          the event handlers of this class will be returned instead.\n",
      " |      \n",
      " |      Returns\n",
      " |      -------\n",
      " |      The event handlers associated with a trait name, or all event handlers.\n",
      " |  \n",
      " |  ----------------------------------------------------------------------\n",
      " |  Readonly properties inherited from traitlets.traitlets.HasTraits:\n",
      " |  \n",
      " |  cross_validation_lock\n",
      " |      A contextmanager for running a block with our cross validation lock set\n",
      " |      to True.\n",
      " |      \n",
      " |      At the end of the block, the lock's value is restored to its value\n",
      " |      prior to entering the block.\n",
      " |  \n",
      " |  ----------------------------------------------------------------------\n",
      " |  Static methods inherited from traitlets.traitlets.HasDescriptors:\n",
      " |  \n",
      " |  __new__(*args, **kwargs)\n",
      " |      Create and return a new object.  See help(type) for accurate signature.\n",
      " |  \n",
      " |  ----------------------------------------------------------------------\n",
      " |  Data descriptors inherited from traitlets.traitlets.HasDescriptors:\n",
      " |  \n",
      " |  __dict__\n",
      " |      dictionary for instance variables (if defined)\n",
      " |  \n",
      " |  __weakref__\n",
      " |      list of weak references to the object (if defined)\n",
      " |  \n",
      " |  ----------------------------------------------------------------------\n",
      " |  Methods inherited from ipyvue.VueWidget.Events:\n",
      " |  \n",
      " |  fire_event(self, event, data)\n",
      " |  \n",
      " |  on_event(self, event_and_modifiers, callback, remove=False)\n",
      "\n"
     ]
    }
   ],
   "source": [
    "import ipyvuetify\n",
    "help(ipyvuetify.Container)"
   ]
  },
  {
   "cell_type": "markdown",
   "metadata": {},
   "source": [
    "### Row"
   ]
  },
  {
   "cell_type": "code",
   "execution_count": null,
   "metadata": {},
   "outputs": [
    {
     "data": {
      "application/vnd.jupyter.widget-view+json": {
       "model_id": "0aef1230c2674d9d9a031a19d9c83886",
       "version_major": 2,
       "version_minor": 0
      },
      "text/plain": [
       "Container(children=[Row(children=[Btn(children=['Red'], color='red', dark=False, fab=False, large=False, outli…"
      ]
     },
     "metadata": {},
     "output_type": "display_data"
    }
   ],
   "source": [
    "output_container(children=[\n",
    "    output_row(children=[input_button(color='red', label='Red')]),\n",
    "    output_row(children=[input_button(color='blue', label='Blue')]),\n",
    "    output_row(children=[input_button(color='green', label='Green')])\n",
    "])"
   ]
  },
  {
   "cell_type": "markdown",
   "metadata": {},
   "source": [
    "<img alt=\"Row Output Example\" caption=\"Row Output Example\" src=\"images/row.png\" />\n"
   ]
  },
  {
   "cell_type": "markdown",
   "metadata": {},
   "source": [
    "### Column"
   ]
  },
  {
   "cell_type": "code",
   "execution_count": null,
   "metadata": {},
   "outputs": [
    {
     "data": {
      "application/vnd.jupyter.widget-view+json": {
       "model_id": "1c8a4cad3e0143dba8f4a689a351248a",
       "version_major": 2,
       "version_minor": 0
      },
      "text/plain": [
       "Row(children=[Col(children=[Btn(children=['Red'], color='red', dark=False, fab=False, large=False, outlined=Fa…"
      ]
     },
     "metadata": {},
     "output_type": "display_data"
    }
   ],
   "source": [
    "output_row(children=[\n",
    "    output_column(order=1, cols=4, children=[input_button(color='red', label='Red')]),\n",
    "    output_column(order=0, cols=4, children=[input_button(color='blue', label='Blue')]),\n",
    "    output_column(order=2, cols=4, children=[input_button(color='green', label='Green')])\n",
    "])"
   ]
  },
  {
   "cell_type": "markdown",
   "metadata": {},
   "source": [
    "<img alt=\"Column Example\" caption=\"Column Example\" src=\"images/column.png\"/>"
   ]
  },
  {
   "cell_type": "markdown",
   "metadata": {},
   "source": [
    "## App Template\n",
    "\n",
    "The app template provides a menubar, a collapsable configuration panel and a progress spinner that spins while the outputs are being computed.\n",
    "\n",
    "To Use The App Template, you must define the title of the app  (`app_title`), input configuration (`inputs`), and outputs (`outputs`).\n",
    "\n",
    "* `app_title` - a string formatted title for the app, to be displayed in the menu bar\n",
    "* `inputs` - a list of input widgets\n",
    "* `outputs` - a list of *functions*, with a single input - the list of inputs\n",
    "\n",
    "The outputs are functions, because they will be evaluated and re-evaluated when the submit button in the configuration panel is pressed."
   ]
  },
  {
   "cell_type": "code",
   "execution_count": null,
   "metadata": {},
   "outputs": [
    {
     "data": {
      "application/vnd.jupyter.widget-view+json": {
       "model_id": "b4e28c25304e4901bf18d87711e5bfe4",
       "version_major": 2,
       "version_minor": 0
      },
      "text/plain": [
       "Container(children=[Tabs(background_color='primary', children=[AppBarNavIcon(class_='mt-1 mb-1 mx-2'), Toolbar…"
      ]
     },
     "metadata": {},
     "output_type": "display_data"
    }
   ],
   "source": [
    "from vvapp.app_templates import App\n",
    "import time\n",
    "import ipyvuetify as v\n",
    "\n",
    "def first_output(inputs):\n",
    "    time.sleep(2)\n",
    "    return v.Btn(children=[\"Input Text: \"+inputs[0].v_model])\n",
    "\n",
    "def second_output(inputs):\n",
    "    time.sleep(2)\n",
    "    return v.Btn(children=[\"Input Number: \"+str(inputs[1].v_model)])\n",
    "\n",
    "outputs = {'Tab1': first_output, 'Tab2': second_output}\n",
    "\n",
    "app_title = \"My Title\"\n",
    "\n",
    "inputs = [\n",
    "    input_text(placeholder='Enter text here', label='Text Input', v_model='Some Text 1234!'),\n",
    "    input_number(v_model=100, label='A Numeric Input')\n",
    "]\n",
    "\n",
    "App(inputs=inputs, outputs=outputs, app_title=app_title).show()"
   ]
  },
  {
   "cell_type": "markdown",
   "metadata": {},
   "source": [
    "<img alt=\"App Example\" caption=\"App Example\" src=\"images/app.png\"/>"
   ]
  }
 ],
 "metadata": {
  "kernelspec": {
   "display_name": "Python3 (vvapp)",
   "language": "python",
   "name": "vvapp"
  }
 },
 "nbformat": 4,
 "nbformat_minor": 2
}
