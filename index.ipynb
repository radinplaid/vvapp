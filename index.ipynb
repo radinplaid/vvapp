{
 "cells": [
  {
   "cell_type": "markdown",
   "metadata": {},
   "source": [
    "# vvapp\n",
    "\n",
    "> A python library simplifying ipyvuetify voila application building."
   ]
  },
  {
   "cell_type": "code",
   "execution_count": null,
   "metadata": {},
   "outputs": [],
   "source": [
    "#hide\n",
    "%load_ext autoreload\n",
    "%autoreload 2\n",
    "from vvapp.inputs import *\n",
    "from IPython.display import Image"
   ]
  },
  {
   "cell_type": "markdown",
   "metadata": {},
   "source": [
    "## Documentation\n",
    "\n",
    "https://radinplaid.github.io/vvapp/"
   ]
  },
  {
   "cell_type": "markdown",
   "metadata": {},
   "source": [
    "## Install"
   ]
  },
  {
   "cell_type": "markdown",
   "metadata": {},
   "source": [
    "`pip install vvapp`"
   ]
  },
  {
   "cell_type": "markdown",
   "metadata": {},
   "source": [
    "## Inputs\n",
    "\n",
    "`vvapp` is meant to be used in Jupyter, so launching jupyter first (`$jupyter notebook`).\n",
    "\n",
    "There are a few key things to keep in mind when getting up and running with `vvapp`:\n",
    "\n",
    "* `v_model`\n",
    "    * The value of `vvapp` inputs is set and accessed via the `v_model` attribute, following the `ipyvuetify` convention\n",
    "* `class_`\n",
    "    * This is where you put `vuetify.js` class properties, like `ma-4` to add margins around the input\n",
    "* `style_`\n",
    "    * This is where you can add CSS to your elements\n",
    "* `hint`\n",
    "    * The `hint` can be a string *or* a callable to provide input validation\n",
    "    * If `hint` is a callable, it must return a string or None; if it returns a string, the input is marked as invalid and the string is displayed\n",
    "        "
   ]
  },
  {
   "cell_type": "code",
   "execution_count": null,
   "metadata": {},
   "outputs": [
    {
     "data": {
      "text/plain": [
       "['checkbox', 'password', 'time', 'date', 'number', 'slider', 'radio_buttons']"
      ]
     },
     "execution_count": null,
     "metadata": {},
     "output_type": "execute_result"
    }
   ],
   "source": [
    "from vvapp.inputs import __all__ as available_input_widgets\n",
    "available_input_widgets"
   ]
  },
  {
   "cell_type": "markdown",
   "metadata": {},
   "source": [
    "### checkbox"
   ]
  },
  {
   "cell_type": "code",
   "execution_count": null,
   "metadata": {},
   "outputs": [
    {
     "data": {
      "application/vnd.jupyter.widget-view+json": {
       "model_id": "3faf2654aac94c7a9e315ebd5738cc7a",
       "version_major": 2,
       "version_minor": 0
      },
      "text/plain": [
       "Checkbox(label='Checkbox example', persistent_hint=False, v_model=True)"
      ]
     },
     "metadata": {},
     "output_type": "display_data"
    }
   ],
   "source": [
    "from vvapp.inputs import checkbox\n",
    "checkbox(label='Checkbox example',v_model=True)"
   ]
  },
  {
   "cell_type": "markdown",
   "metadata": {},
   "source": [
    "<img alt=\"Checkbox Input\" caption=\"Checkbox\" src=\"images/checkbox.png\" />"
   ]
  },
  {
   "cell_type": "markdown",
   "metadata": {},
   "source": [
    "### slider"
   ]
  },
  {
   "cell_type": "code",
   "execution_count": null,
   "metadata": {},
   "outputs": [
    {
     "data": {
      "application/vnd.jupyter.widget-view+json": {
       "model_id": "152af85034364139abaa6c2d8effb75b",
       "version_major": 2,
       "version_minor": 0
      },
      "text/plain": [
       "Slider(class_='mx-6 mt-8', color='red', label='Slider Example', max=10.0, min=0.0, persistent_hint=False, step…"
      ]
     },
     "metadata": {},
     "output_type": "display_data"
    }
   ],
   "source": [
    "from vvapp.inputs import slider\n",
    "slider(label='Slider Example',\n",
    "       min=0,\n",
    "       max=10,\n",
    "       step=1,\n",
    "       color='red',\n",
    "       track_color='red',\n",
    "       v_model=5)"
   ]
  },
  {
   "cell_type": "markdown",
   "metadata": {},
   "source": [
    "<img alt=\"Slider Input\" caption=\"Slider\" src=\"images/slider.png\" />"
   ]
  },
  {
   "cell_type": "markdown",
   "metadata": {},
   "source": [
    "### radio_buttons"
   ]
  },
  {
   "cell_type": "code",
   "execution_count": null,
   "metadata": {},
   "outputs": [
    {
     "data": {
      "application/vnd.jupyter.widget-view+json": {
       "model_id": "5e3a90cc7c4544ebae5092ff186e5475",
       "version_major": 2,
       "version_minor": 0
      },
      "text/plain": [
       "RadioGroup(children=[Radio(label='Apple', value='apple'), Radio(label='Blueberry', value='blueberry'), Radio(l…"
      ]
     },
     "metadata": {},
     "output_type": "display_data"
    }
   ],
   "source": [
    "from vvapp.inputs import radio_buttons\n",
    "radio_buttons(choices={\n",
    "                    'Apple': 'apple',\n",
    "                    'Blueberry': 'blueberry',\n",
    "                    'Pumpkin': 'pumpkin'\n",
    "                },\n",
    "              label='What is your favourite pie flavour?',\n",
    "              v_model='blueberry')"
   ]
  },
  {
   "cell_type": "markdown",
   "metadata": {},
   "source": [
    "<img alt=\"Radio Button Input\" caption=\"Radio Button\" src=\"images/radio_buttons.png\" />"
   ]
  },
  {
   "cell_type": "markdown",
   "metadata": {},
   "source": [
    "### date"
   ]
  },
  {
   "cell_type": "code",
   "execution_count": null,
   "metadata": {},
   "outputs": [
    {
     "data": {
      "application/vnd.jupyter.widget-view+json": {
       "model_id": "1e072dabeae142a7a027a8dba18a4b27",
       "version_major": 2,
       "version_minor": 0
      },
      "text/plain": [
       "TextField(label='Please enter a date (format: YYYY-mm-dd)', persistent_hint=False, style_='max-width:320px', t…"
      ]
     },
     "metadata": {},
     "output_type": "display_data"
    }
   ],
   "source": [
    "from vvapp.inputs import date\n",
    "date(label='Please enter a date (format: YYYY-mm-dd)',\n",
    "     v_model='2020-04-15',\n",
    "     style_='max-width:320px')"
   ]
  },
  {
   "cell_type": "markdown",
   "metadata": {},
   "source": [
    "<img alt=\"Date Input\" caption=\"Date Input\" src=\"images/input_date.png\" />"
   ]
  },
  {
   "cell_type": "markdown",
   "metadata": {},
   "source": [
    "### time"
   ]
  },
  {
   "cell_type": "code",
   "execution_count": null,
   "metadata": {},
   "outputs": [
    {
     "data": {
      "application/vnd.jupyter.widget-view+json": {
       "model_id": "0ccaac48aa0d4699859a4a506255061f",
       "version_major": 2,
       "version_minor": 0
      },
      "text/plain": [
       "TextField(label='Please enter a time (format: HH:MM)', persistent_hint=False, style_='max-width:320px', type='…"
      ]
     },
     "metadata": {},
     "output_type": "display_data"
    }
   ],
   "source": [
    "from vvapp.inputs import time\n",
    "time(label='Please enter a time (format: HH:MM)',\n",
    "     v_model='13:34',\n",
    "     style_='max-width:320px')"
   ]
  },
  {
   "cell_type": "markdown",
   "metadata": {},
   "source": [
    "\n",
    "<img alt=\"Time Input\" caption=\"Time Input\" src=\"images/input_time.png\" />\n"
   ]
  },
  {
   "cell_type": "markdown",
   "metadata": {},
   "source": [
    "### number"
   ]
  },
  {
   "cell_type": "code",
   "execution_count": null,
   "metadata": {},
   "outputs": [
    {
     "data": {
      "application/vnd.jupyter.widget-view+json": {
       "model_id": "ba8ca7243a6c4c618dc649d9e61661ce",
       "version_major": 2,
       "version_minor": 0
      },
      "text/plain": [
       "TextField(error=False, persistent_hint=True, placeholder='Enter a number', style_='max-width:320px', type='num…"
      ]
     },
     "metadata": {},
     "output_type": "display_data"
    }
   ],
   "source": [
    "from vvapp.inputs import number\n",
    "number(placeholder='Enter a number',\n",
    "     style_='max-width:320px')"
   ]
  },
  {
   "cell_type": "markdown",
   "metadata": {},
   "source": [
    "<img alt=\"Number Input\" caption=\"Number Input\" src=\"images/input_number.png\" />\n"
   ]
  },
  {
   "cell_type": "markdown",
   "metadata": {},
   "source": [
    "`number` inputs have a default validation function that changes the `error` state of the input to True and prints a sensible hint if the value is less than `min_value` or greater than `max_value`"
   ]
  },
  {
   "cell_type": "code",
   "execution_count": null,
   "metadata": {},
   "outputs": [
    {
     "data": {
      "application/vnd.jupyter.widget-view+json": {
       "model_id": "cc7c1a458c3a401f8bfdbe4a9a20a9c0",
       "version_major": 2,
       "version_minor": 0
      },
      "text/plain": [
       "TextField(error=True, hint='Input: 123.0 is greater than the maximum supported value 100.', label='Number Inpu…"
      ]
     },
     "metadata": {},
     "output_type": "display_data"
    }
   ],
   "source": [
    "from vvapp.inputs import number\n",
    "number(label='Number Input',\n",
    "       v_model=123,\n",
    "       min_value=0,\n",
    "       max_value=100,\n",
    "     style_='max-width:320px')"
   ]
  },
  {
   "cell_type": "markdown",
   "metadata": {},
   "source": [
    "\n",
    "<img alt=\"Number Input With Validation\" caption=\"Number Input With Validation\" src=\"images/input_number_validation.png\" />\n"
   ]
  },
  {
   "cell_type": "markdown",
   "metadata": {},
   "source": [
    "### password"
   ]
  },
  {
   "cell_type": "code",
   "execution_count": null,
   "metadata": {},
   "outputs": [
    {
     "data": {
      "application/vnd.jupyter.widget-view+json": {
       "model_id": "4947913e25a84c06a3cff6fb1f8b710e",
       "version_major": 2,
       "version_minor": 0
      },
      "text/plain": [
       "TextField(label='Please enter a password', persistent_hint=False, type='password', v_model='correcthorsebatter…"
      ]
     },
     "metadata": {},
     "output_type": "display_data"
    }
   ],
   "source": [
    "from vvapp.inputs import password\n",
    "pw = password(label='Please enter a password',v_model='correcthorsebatterystapler')\n",
    "pw"
   ]
  },
  {
   "cell_type": "markdown",
   "metadata": {},
   "source": [
    "<img alt=\"Password Input\" caption=\"Password Input\" src=\"images/input_password.png\" />\n"
   ]
  },
  {
   "cell_type": "markdown",
   "metadata": {},
   "source": [
    "The value of of a vvapp widget is set/accessed by the `v_model` attribute, just like in ipyvuetify"
   ]
  },
  {
   "cell_type": "code",
   "execution_count": null,
   "metadata": {},
   "outputs": [
    {
     "data": {
      "text/plain": [
       "'correcthorsebatterystapler'"
      ]
     },
     "execution_count": null,
     "metadata": {},
     "output_type": "execute_result"
    }
   ],
   "source": [
    "pw.v_model"
   ]
  },
  {
   "cell_type": "markdown",
   "metadata": {},
   "source": [
    "Here we demonstrate the use of a function to validate the value of the input.\n",
    "\n",
    "In this example the password must be at least 12 characters, less than 64 characters and include at least one number:"
   ]
  },
  {
   "cell_type": "code",
   "execution_count": null,
   "metadata": {},
   "outputs": [
    {
     "data": {
      "application/vnd.jupyter.widget-view+json": {
       "model_id": "22b06f2a9d1a46e295f991a60ee07ea5",
       "version_major": 2,
       "version_minor": 0
      },
      "text/plain": [
       "TextField(error=True, hint='Must contain at least one number!', label='Please enter a password', persistent_hi…"
      ]
     },
     "metadata": {},
     "output_type": "display_data"
    }
   ],
   "source": [
    "import re\n",
    "def validate_pw(widget_value):\n",
    "    if widget_value is None:\n",
    "        return 'Input must not be None'\n",
    "\n",
    "    else:\n",
    "        if len(widget_value) < 12:\n",
    "            return 'Too Short!'\n",
    "\n",
    "        if len(widget_value) > 64:\n",
    "            return 'Too Long!'\n",
    "\n",
    "        if not re.search('[0-9]+',widget_value):\n",
    "            return 'Must contain at least one number!'\n",
    "\n",
    "    return None\n",
    "\n",
    "pw = password(label='Please enter a password',v_model='correcthorsebatterystapler', hint=validate_pw)\n",
    "pw"
   ]
  },
  {
   "cell_type": "markdown",
   "metadata": {},
   "source": [
    "<img alt=\"Password Input with Validation\" caption=\"Password Input with Validation\" src=\"images/input_password_validation.png\" />\n"
   ]
  },
  {
   "cell_type": "markdown",
   "metadata": {},
   "source": [
    "## Outputs"
   ]
  },
  {
   "cell_type": "markdown",
   "metadata": {},
   "source": [
    "### PandasTable"
   ]
  },
  {
   "cell_type": "code",
   "execution_count": null,
   "metadata": {},
   "outputs": [
    {
     "data": {
      "application/vnd.jupyter.widget-view+json": {
       "model_id": "a4cf6cc007f041d39ff5717d8553e33a",
       "version_major": 2,
       "version_minor": 0
      },
      "text/plain": [
       "PandasTable(headers=[{'text': 'index', 'value': 'index', 'align': 'left', 'sortable': True}, {'text': 'a', 'va…"
      ]
     },
     "metadata": {},
     "output_type": "display_data"
    }
   ],
   "source": [
    "import pandas as pd\n",
    "from vvapp.outputs import PandasTable\n",
    "df = pd.DataFrame({'a':[1,2,3],'b':[2,3,4]})\n",
    "PandasTable(data=df,title='My DataFrame')"
   ]
  },
  {
   "cell_type": "markdown",
   "metadata": {},
   "source": [
    "<img alt=\"Pandas Dataframe Output\" caption=\"Pandas Dataframe Output\" src=\"images/output_pandas_table2.png\" />\n"
   ]
  },
  {
   "cell_type": "markdown",
   "metadata": {},
   "source": [
    "The pandas DataFrame output has a nice warning/error display if the search returns zero results or if are no rows in the PandasDataframe:"
   ]
  },
  {
   "cell_type": "code",
   "execution_count": null,
   "metadata": {},
   "outputs": [
    {
     "data": {
      "application/vnd.jupyter.widget-view+json": {
       "model_id": "9c197a2dbf6a4c4ab43c44df4a79f3af",
       "version_major": 2,
       "version_minor": 0
      },
      "text/plain": [
       "PandasTable(headers=[{'text': 'index', 'value': 'index', 'align': 'left', 'sortable': True}, {'text': 'a', 'va…"
      ]
     },
     "metadata": {},
     "output_type": "display_data"
    }
   ],
   "source": [
    "import pandas as pd\n",
    "from vvapp.outputs import PandasTable\n",
    "df = pd.DataFrame({'a':[1,2,3],'b':[2,3,4]})\n",
    "PandasTable(data=df,title='My DataFrame')"
   ]
  },
  {
   "cell_type": "markdown",
   "metadata": {},
   "source": [
    "<img alt=\"Pandas Dataframe Output No Search Results\" caption=\"Pandas Dataframe Output No Search Results\" src=\"images/output_pandas_table_zeroresults.png\" />\n"
   ]
  },
  {
   "cell_type": "code",
   "execution_count": null,
   "metadata": {},
   "outputs": [
    {
     "data": {
      "application/vnd.jupyter.widget-view+json": {
       "model_id": "78caefc362814ee3bfe4dc5f4ebe8605",
       "version_major": 2,
       "version_minor": 0
      },
      "text/plain": [
       "PandasTable(headers=[{'text': 'index', 'value': 'index', 'align': 'left', 'sortable': True}], index_col='index…"
      ]
     },
     "metadata": {},
     "output_type": "display_data"
    }
   ],
   "source": [
    "import pandas as pd\n",
    "from vvapp.outputs import PandasTable\n",
    "PandasTable(data=pd.DataFrame(),title='My DataFrame')"
   ]
  },
  {
   "cell_type": "markdown",
   "metadata": {},
   "source": [
    "<img alt=\"Pandas Dataframe Output No Data\" caption=\"Pandas Dataframe Output No Data\" src=\"images/output_pandas_table_nodata.png\" />\n"
   ]
  },
  {
   "cell_type": "code",
   "execution_count": null,
   "metadata": {},
   "outputs": [],
   "source": []
  }
 ],
 "metadata": {
  "kernelspec": {
   "display_name": "Python (vvapp)",
   "language": "python",
   "name": "vvapp"
  }
 },
 "nbformat": 4,
 "nbformat_minor": 2
}
