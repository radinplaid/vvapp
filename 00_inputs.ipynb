{
 "cells": [
  {
   "cell_type": "code",
   "execution_count": null,
   "metadata": {},
   "outputs": [],
   "source": [
    "# default_exp inputs"
   ]
  },
  {
   "cell_type": "code",
   "execution_count": null,
   "metadata": {},
   "outputs": [],
   "source": [
    "# export\n",
    "import ipyvuetify\n",
    "from nbdev.imports import *"
   ]
  },
  {
   "cell_type": "code",
   "execution_count": null,
   "metadata": {},
   "outputs": [],
   "source": [
    "#hide\n",
    "from nbdev.showdoc import *"
   ]
  },
  {
   "cell_type": "markdown",
   "metadata": {},
   "source": [
    "# vvapp.inputs\n",
    "\n",
    ">  Ipyvuetify Jupyter input widgets with a simplified API"
   ]
  },
  {
   "cell_type": "markdown",
   "metadata": {},
   "source": [
    "## Switch"
   ]
  },
  {
   "cell_type": "code",
   "execution_count": null,
   "metadata": {},
   "outputs": [],
   "source": [
    "#export\n",
    "\n",
    "def switch(v_model=False,\n",
    "                  label=None,\n",
    "                  hint=None,\n",
    "                  persistent_hint=False,\n",
    "                  class_=None,\n",
    "                  style_=None,\n",
    "                  **kwargs):\n",
    "    \"\"\"\n",
    "    Switch input\n",
    "\n",
    "    Function to generate an ipyvuetify Switch input widget. Essentially a checkbox. With style.\n",
    "    \n",
    "    The value of the widget can be accessed or modified by the `v_model` property of the return value.\n",
    "    \n",
    "    See the vuetify documention for other arguments that can be passed as keyword arguments: https://vuetifyjs.com/en/components/selection-controls/\n",
    "\n",
    "    Parameters:    \n",
    "    v_model : bool (optional, default None)\n",
    "        Value of the time input, must be an element of choices\n",
    "        \n",
    "    label : str (optional, default False)\n",
    "        Default value of the checkbox input\n",
    "    \n",
    "    hint : str (optional, default None)\n",
    "        Hint text \n",
    "    \n",
    "    persistent_hint : bool (optional, default False)\n",
    "        Set to True to display the hint when widget is not focused\n",
    "    \n",
    "    class_ : str (optional, default None)\n",
    "        ipyvuetify HTML class string\n",
    "    \n",
    "    style_ : str (optional, default None)\n",
    "        ipyvuetify HTML CSS string\n",
    "\n",
    "    **kwargs\n",
    "        Other arguments supported by ipyvuetify.TextField\n",
    "\n",
    "    Returns:    \n",
    "    ipyvuetify.TextInput\n",
    "        An ipyvuetify time input widget\n",
    "    \"\"\"\n",
    "    ret = ipyvuetify.Switch(\n",
    "        class_=class_,\n",
    "        style_=style_,\n",
    "        v_model=v_model,\n",
    "        label=label,\n",
    "        hint=hint,\n",
    "        persistent_hint=persistent_hint)\n",
    "    \n",
    "    # Set other keyword arguments\n",
    "    for arg in kwargs:\n",
    "        setattr(ret, arg, kwargs[arg])\n",
    "\n",
    "    # Return widget\n",
    "    return ret\n"
   ]
  },
  {
   "cell_type": "code",
   "execution_count": null,
   "metadata": {},
   "outputs": [
    {
     "data": {
      "application/vnd.jupyter.widget-view+json": {
       "model_id": "69ee2de8c27b484cbd93f59d221d3c69",
       "version_major": 2,
       "version_minor": 0
      },
      "text/plain": [
       "Switch(label='My Switch', persistent_hint=False, v_model=True)"
      ]
     },
     "metadata": {},
     "output_type": "display_data"
    }
   ],
   "source": [
    "switch(label='My Switch',v_model=True)"
   ]
  },
  {
   "cell_type": "markdown",
   "metadata": {},
   "source": [
    "## Checkbox"
   ]
  },
  {
   "cell_type": "code",
   "execution_count": null,
   "metadata": {},
   "outputs": [],
   "source": [
    "#export\n",
    "\n",
    "def checkbox(v_model=False,\n",
    "                  label=None,\n",
    "                  hint=None,\n",
    "                  persistent_hint=False,\n",
    "                  class_=None,\n",
    "                  style_=None,\n",
    "                  **kwargs):\n",
    "    \"\"\"\n",
    "    Checkbox input\n",
    "\n",
    "    Function to generate an ipyvuetify Checkbox input widget.\n",
    "    \n",
    "    The value of the widget can be accessed or modified by the `v_model` property of the return value.\n",
    "    \n",
    "    See the vuetify documention for other arguments that can be passed as keyword arguments: https://vuetifyjs.com/en/components/selection-controls/\n",
    "\n",
    "    Parameters:    \n",
    "    v_model : bool (optional, default None)\n",
    "        Value of the time input, must be an element of choices\n",
    "        \n",
    "    label : str (optional, default False)\n",
    "        Default value of the checkbox input\n",
    "    \n",
    "    hint : str (optional, default None)\n",
    "        Hint text \n",
    "    \n",
    "    persistent_hint : bool (optional, default False)\n",
    "        Set to True to display the hint when widget is not focused\n",
    "    \n",
    "    class_ : str (optional, default None)\n",
    "        ipyvuetify HTML class string\n",
    "    \n",
    "    style_ : str (optional, default None)\n",
    "        ipyvuetify HTML CSS string\n",
    "\n",
    "    **kwargs\n",
    "        Other arguments supported by ipyvuetify.TextField\n",
    "\n",
    "    Returns:    \n",
    "    ipyvuetify.TextInput\n",
    "        An ipyvuetify time input widget\n",
    "    \"\"\"\n",
    "    ret = ipyvuetify.Checkbox(\n",
    "        class_=class_,\n",
    "        style_=style_,\n",
    "        v_model=v_model,\n",
    "        label=label,\n",
    "        hint=hint,\n",
    "        persistent_hint=persistent_hint)\n",
    "    \n",
    "    # Set other keyword arguments\n",
    "    for arg in kwargs:\n",
    "        setattr(ret, arg, kwargs[arg])\n",
    "\n",
    "    # Return widget\n",
    "    return ret\n"
   ]
  },
  {
   "cell_type": "code",
   "execution_count": null,
   "metadata": {},
   "outputs": [
    {
     "data": {
      "application/vnd.jupyter.widget-view+json": {
       "model_id": "6f622701561d42aeb5e7f2073fe7be82",
       "version_major": 2,
       "version_minor": 0
      },
      "text/plain": [
       "Checkbox(label='Checkbox example', persistent_hint=False, v_model=False)"
      ]
     },
     "metadata": {},
     "output_type": "display_data"
    }
   ],
   "source": [
    "checkbox(label='Checkbox example')"
   ]
  },
  {
   "cell_type": "markdown",
   "metadata": {},
   "source": [
    "## Text"
   ]
  },
  {
   "cell_type": "code",
   "execution_count": null,
   "metadata": {},
   "outputs": [],
   "source": [
    "#export\n",
    "\n",
    "def text(v_model=None,\n",
    "             label=None,\n",
    "             hint=None,\n",
    "             persistent_hint=False,\n",
    "             class_=None,\n",
    "             style_=None,\n",
    "             **kwargs):\n",
    "    \"\"\"\n",
    "    Text input field\n",
    "\n",
    "    Function to generate an ipyvuetify TextField input widget \n",
    "    \n",
    "    The value of the widget can be accessed or modified by the `v_model` property of the return value.\n",
    "    \n",
    "    See the vuetify documention for other arguments that can be passed as keyword arguments: https://vuetifyjs.com/en/components/text-fields/#api\n",
    "\n",
    "    Parameters:\n",
    "    \n",
    "    v_model : str (optional, default None)\n",
    "        Value of the input\n",
    "    \n",
    "    label : str (optional, default None)\n",
    "        Description of the input\n",
    "    \n",
    "    hint : str or callable (optional, default None)\n",
    "        Hint text or function generating int based on input value for validating input\n",
    "    \n",
    "    persistent_hint : bool (optional, default False)\n",
    "        Set to True to display the hint when widget is not focused\n",
    "    \n",
    "    class_ : str (optional, default None)\n",
    "        ipyvuetify HTML class string\n",
    "    \n",
    "    style_ : str (optional, default None)\n",
    "        ipyvuetify HTML CSS string\n",
    "\n",
    "    **kwargs\n",
    "        Other arguments supported by ipyvuetify.TextField\n",
    "\n",
    "    Returns:\n",
    "    \n",
    "    ipyvuetify.TextInput\n",
    "        An ipyvuetify password input widget\n",
    "    \"\"\"\n",
    "\n",
    "    # Set values for arguments\n",
    "    if not callable(hint):\n",
    "        hint_text = hint\n",
    "    else:\n",
    "        hint_text = ''\n",
    "        \n",
    "    ret = ipyvuetify.TextField(\n",
    "        label=label,\n",
    "        v_model=v_model,\n",
    "        hint=hint_text,\n",
    "        persistent_hint=persistent_hint,\n",
    "        class_=class_,\n",
    "        style_=style_\n",
    "    )\n",
    "\n",
    "    # Set other keyword arguments\n",
    "    for arg in kwargs:\n",
    "        setattr(ret, arg, kwargs[arg])\n",
    "\n",
    "    # Apply validation, if function provided\n",
    "    if callable(hint):\n",
    "        error_hint = hint(ret.v_model)\n",
    "        if error_hint is None:\n",
    "            ret.hint = ''\n",
    "            ret.error = False\n",
    "        else:\n",
    "            ret.hint = error_hint\n",
    "            ret.error = True\n",
    "\n",
    "        # When the value of the widget changes, validation will take place\n",
    "        def on_value_change(change):\n",
    "            error_hint = hint(ret.v_model)\n",
    "            if error_hint is None:\n",
    "                ret.hint = ''\n",
    "                ret.error = False\n",
    "            else:\n",
    "                ret.hint = error_hint\n",
    "                ret.error = True\n",
    "\n",
    "        ret.observe(on_value_change, names='v_model')\n",
    "\n",
    "    # Return widget\n",
    "    return ret"
   ]
  },
  {
   "cell_type": "code",
   "execution_count": null,
   "metadata": {},
   "outputs": [
    {
     "data": {
      "application/vnd.jupyter.widget-view+json": {
       "model_id": "19578e88a40e4f758ead2a069ae5cab6",
       "version_major": 2,
       "version_minor": 0
      },
      "text/plain": [
       "TextField(hint='Enter some text', label='Text Input', persistent_hint=False, v_model=None)"
      ]
     },
     "metadata": {},
     "output_type": "display_data"
    }
   ],
   "source": [
    "text(label='Text Input',hint='Enter some text')"
   ]
  },
  {
   "cell_type": "markdown",
   "metadata": {},
   "source": [
    "## Password Input"
   ]
  },
  {
   "cell_type": "code",
   "execution_count": null,
   "metadata": {},
   "outputs": [],
   "source": [
    "#export\n",
    "\n",
    "def password(v_model=None,\n",
    "             label=None,\n",
    "             hint=None,\n",
    "             persistent_hint=False,\n",
    "             class_=None,\n",
    "             style_=None,\n",
    "             **kwargs):\n",
    "    \"\"\"\n",
    "    Password input field\n",
    "\n",
    "    Function to generate an ipyvuetify TextField input widget with 'password' type prop.\n",
    "    \n",
    "    The value of the widget can be accessed or modified by the `v_model` property of the return value.\n",
    "    \n",
    "    See the vuetify documention for other arguments that can be passed as keyword arguments: https://vuetifyjs.com/en/components/text-fields/#api\n",
    "\n",
    "    Parameters:\n",
    "    \n",
    "    v_model : str (optional, default None)\n",
    "        Value of the input\n",
    "    \n",
    "    label : str (optional, default None)\n",
    "        Description of the input\n",
    "    \n",
    "    hint : str or callable (optional, default None)\n",
    "        Hint text or function generating int based on input value for validating input\n",
    "    \n",
    "    persistent_hint : bool (optional, default False)\n",
    "        Set to True to display the hint when widget is not focused\n",
    "    \n",
    "    class_ : str (optional, default None)\n",
    "        ipyvuetify HTML class string\n",
    "    \n",
    "    style_ : str (optional, default None)\n",
    "        ipyvuetify HTML CSS string\n",
    "\n",
    "    **kwargs\n",
    "        Other arguments supported by ipyvuetify.TextField\n",
    "\n",
    "    Returns:\n",
    "    \n",
    "    ipyvuetify.TextInput\n",
    "        An ipyvuetify password input widget\n",
    "    \"\"\"\n",
    "    ret = ipyvuetify.TextField()\n",
    "\n",
    "    # Set values for arguments\n",
    "    ret.label = label\n",
    "    if not callable(hint):\n",
    "        ret.hint = hint\n",
    "    ret.persistent_hint = persistent_hint\n",
    "    ret.v_model = v_model\n",
    "    ret.class_ = class_\n",
    "    ret.style_ = style_\n",
    "\n",
    "    # Set other keyword arguments\n",
    "    for arg in kwargs:\n",
    "        setattr(ret, arg, kwargs[arg])\n",
    "\n",
    "    ret.type = 'password'\n",
    "\n",
    "    # Apply validation, if function provided\n",
    "    if callable(hint):\n",
    "        error_hint = hint(ret.v_model)\n",
    "        if error_hint is None:\n",
    "            ret.hint = ''\n",
    "            ret.error = False\n",
    "        else:\n",
    "            ret.hint = error_hint\n",
    "            ret.error = True\n",
    "\n",
    "        # When the value of the widget changes, validation will take place\n",
    "        def on_value_change(change):\n",
    "            error_hint = hint(ret.v_model)\n",
    "            if error_hint is None:\n",
    "                ret.hint = ''\n",
    "                ret.error = False\n",
    "            else:\n",
    "                ret.hint = error_hint\n",
    "                ret.error = True\n",
    "\n",
    "        ret.observe(on_value_change, names='v_model')\n",
    "\n",
    "    # Return widget\n",
    "    return ret"
   ]
  },
  {
   "cell_type": "code",
   "execution_count": null,
   "metadata": {},
   "outputs": [
    {
     "data": {
      "application/vnd.jupyter.widget-view+json": {
       "model_id": "32171e603120423a99c3922712c1c42b",
       "version_major": 2,
       "version_minor": 0
      },
      "text/plain": [
       "TextField(label='My Password', persistent_hint=False, type='password', v_model='password123')"
      ]
     },
     "metadata": {},
     "output_type": "display_data"
    }
   ],
   "source": [
    "password(label='My Password',v_model='password123')"
   ]
  },
  {
   "cell_type": "markdown",
   "metadata": {},
   "source": [
    "## Time Input"
   ]
  },
  {
   "cell_type": "code",
   "execution_count": null,
   "metadata": {},
   "outputs": [],
   "source": [
    "#export\n",
    "\n",
    "def time_input(v_model=None,\n",
    "         label=None,\n",
    "         hint=None,\n",
    "         persistent_hint=False,\n",
    "         class_=None,\n",
    "         style_=None,\n",
    "         **kwargs):\n",
    "    \"\"\"\n",
    "    Time input field\n",
    "\n",
    "    Function to generate an ipyvuetify TextField input widget with 'time' type prop.\n",
    "    \n",
    "    The value of the widget can be accessed or modified by the `v_model` property of the return value.\n",
    "    \n",
    "    See the vuetify documention for other arguments that can be passed as keyword arguments: https://vuetifyjs.com/en/components/text-fields/#api\n",
    "\n",
    "    Parameters:    \n",
    "    v_model : str (optional, default None)\n",
    "        Value of the time input, format: HH:MM\n",
    "    \n",
    "    label : str (optional, default None)\n",
    "        Description of the input\n",
    "    \n",
    "    hint : str or callable (optional, default None)\n",
    "        Hint text or function generating int based on input value for validating input\n",
    "    \n",
    "    persistent_hint : bool (optional, default False)\n",
    "        Set to True to display the hint when widget is not focused\n",
    "    \n",
    "    class_ : str (optional, default None)\n",
    "        ipyvuetify HTML class string\n",
    "    \n",
    "    style_ : str (optional, default None)\n",
    "        ipyvuetify HTML CSS string\n",
    "\n",
    "    **kwargs\n",
    "        Other arguments supported by ipyvuetify.TextField\n",
    "\n",
    "    Returns:    \n",
    "    ipyvuetify.TextInput\n",
    "        An ipyvuetify time input widget\n",
    "    \"\"\"\n",
    "    ret = ipyvuetify.TextField()\n",
    "\n",
    "    # Set values for arguments\n",
    "    ret.label = label\n",
    "    if not callable(hint):\n",
    "        ret.hint = hint\n",
    "    ret.persistent_hint = persistent_hint\n",
    "    ret.v_model = v_model\n",
    "    ret.class_ = class_\n",
    "    ret.style_ = style_\n",
    "\n",
    "    # Set other keyword arguments\n",
    "    for arg in kwargs:\n",
    "        setattr(ret, arg, kwargs[arg])\n",
    "\n",
    "    ret.type = 'time'\n",
    "\n",
    "    # Apply validation, if function provided\n",
    "    if callable(hint):\n",
    "        error_hint = hint(ret.v_model)\n",
    "        if error_hint is None:\n",
    "            ret.hint = ''\n",
    "            ret.error = False\n",
    "        else:\n",
    "            ret.hint = error_hint\n",
    "            ret.error = True\n",
    "\n",
    "        # When the value of the widget changes, validation will take place\n",
    "        def on_value_change(change):\n",
    "            error_hint = hint(ret.v_model)\n",
    "            if error_hint is None:\n",
    "                ret.hint = ''\n",
    "                ret.error = False\n",
    "            else:\n",
    "                ret.hint = error_hint\n",
    "                ret.error = True\n",
    "\n",
    "        ret.observe(on_value_change, names='v_model')\n",
    "\n",
    "    # Return widget\n",
    "    return ret"
   ]
  },
  {
   "cell_type": "code",
   "execution_count": null,
   "metadata": {},
   "outputs": [
    {
     "data": {
      "application/vnd.jupyter.widget-view+json": {
       "model_id": "c8c363175eb7450397192946d2f2aa4e",
       "version_major": 2,
       "version_minor": 0
      },
      "text/plain": [
       "TextField(label='Time Input Example', persistent_hint=False, type='time', v_model='12:00')"
      ]
     },
     "metadata": {},
     "output_type": "display_data"
    }
   ],
   "source": [
    "time_input(label='Time Input Example',v_model='12:00')"
   ]
  },
  {
   "cell_type": "markdown",
   "metadata": {},
   "source": [
    "## Date Input"
   ]
  },
  {
   "cell_type": "code",
   "execution_count": null,
   "metadata": {},
   "outputs": [],
   "source": [
    "#export\n",
    "\n",
    "def date(v_model=None,\n",
    "         label=None,\n",
    "         hint=None,\n",
    "         persistent_hint=False,\n",
    "         class_=None,\n",
    "         style_=None,\n",
    "         **kwargs):\n",
    "    \"\"\"\n",
    "    Date input field\n",
    "\n",
    "    Function to generate an ipyvuetify TextField input widget with 'date' type prop.\n",
    "    \n",
    "    The value of the widget can be accessed or modified by the `v_model` property of the return value.\n",
    "    \n",
    "    See the vuetify documention for other arguments that can be passed as keyword arguments: https://vuetifyjs.com/en/components/text-fields/#api\n",
    "\n",
    "    Parameters:\n",
    "\n",
    "    v_model : str (optional, default None)\n",
    "        Value of the date input, format: YYYY-mm-dd\n",
    "    \n",
    "    label : str (optional, default None)\n",
    "        Description of the input\n",
    "    \n",
    "    hint : str or callable (optional, default None)\n",
    "        Hint text or function generating int based on input value for validating input\n",
    "    \n",
    "    persistent_hint : bool (optional, default False)\n",
    "        Set to True to display the hint when widget is not focused\n",
    "        \n",
    "    class_ : str (optional, default None)\n",
    "        ipyvuetify HTML class string\n",
    "    \n",
    "    style_ : str (optional, default None)\n",
    "        ipyvuetify HTML CSS string\n",
    "    \n",
    "    **kwargs\n",
    "        Other arguments supported by ipyvuetify.TextField\n",
    "\n",
    "    Returns:\n",
    "    \n",
    "    ipyvuetify.TextInput\n",
    "        An ipyvuetify time input widget\n",
    "    \"\"\"\n",
    "    ret = ipyvuetify.TextField()\n",
    "\n",
    "    # Set values for arguments\n",
    "    ret.label = label\n",
    "    if not callable(hint):\n",
    "        ret.hint = hint\n",
    "    ret.persistent_hint = persistent_hint\n",
    "    ret.v_model = v_model\n",
    "    ret.class_ = class_\n",
    "    ret.style_ = style_\n",
    "\n",
    "    # Set other keyword arguments\n",
    "    for arg in kwargs:\n",
    "        setattr(ret, arg, kwargs[arg])\n",
    "\n",
    "    ret.type = 'date'\n",
    "\n",
    "    # Apply validation, if function provided\n",
    "    if callable(hint):\n",
    "        error_hint = hint(ret.v_model)\n",
    "        if error_hint is None:\n",
    "            ret.hint = ''\n",
    "            ret.error = False\n",
    "        else:\n",
    "            ret.hint = error_hint\n",
    "            ret.error = True\n",
    "\n",
    "        # When the value of the widget changes, validation will take place\n",
    "        def on_value_change(change):\n",
    "            error_hint = hint(ret.v_model)\n",
    "            if error_hint is None:\n",
    "                ret.hint = ''\n",
    "                ret.error = False\n",
    "            else:\n",
    "                ret.hint = error_hint\n",
    "                ret.error = True\n",
    "\n",
    "        ret.observe(on_value_change, names='v_model')\n",
    "\n",
    "    # Return widget\n",
    "    return ret"
   ]
  },
  {
   "cell_type": "code",
   "execution_count": null,
   "metadata": {},
   "outputs": [
    {
     "data": {
      "application/vnd.jupyter.widget-view+json": {
       "model_id": "f770316b22ac4c12b0b170ea5fd08778",
       "version_major": 2,
       "version_minor": 0
      },
      "text/plain": [
       "TextField(label='Date Input Example', persistent_hint=False, type='date', v_model='2020-06-16')"
      ]
     },
     "metadata": {},
     "output_type": "display_data"
    }
   ],
   "source": [
    "date(label='Date Input Example',v_model='2020-06-16')"
   ]
  },
  {
   "cell_type": "markdown",
   "metadata": {},
   "source": [
    "## Date Range"
   ]
  },
  {
   "cell_type": "code",
   "execution_count": null,
   "metadata": {},
   "outputs": [],
   "source": [
    "#export\n",
    "\n",
    "import traitlets\n",
    "import time\n",
    "\n",
    "class _DateRange(ipyvuetify.VuetifyTemplate):\n",
    "    \"\"\"\n",
    "    Vuetify Compact, Expandable Daterange Input\n",
    "    \n",
    "    Args:\n",
    "        date_range : list\n",
    "            A list of two dates [start,end] in format YYYY-mm-dd\n",
    "    \"\"\"\n",
    "\n",
    "    dates = traitlets.List([]).tag(sync=True)\n",
    "    menu = traitlets.Bool(False).tag(sync=True)\n",
    "    hint = traitlets.Unicode().tag(sync=True)\n",
    "    label = traitlets.Unicode().tag(sync=True)\n",
    "    class_ = traitlets.Unicode().tag(sync=True)\n",
    "    style_ = traitlets.Unicode().tag(sync=True)\n",
    "    persistent_hint = traitlets.Bool(False).tag(sync=True)\n",
    "    template = traitlets.Unicode('''\n",
    "<template>\n",
    "   <v-dialog\n",
    "          ref=\"menu\"\n",
    "          v-model=\"menu\"\n",
    "          :close-on-content-click=\"false\"\n",
    "          :return-value.sync=\"dates\"\n",
    "          transition=\"scale-transition\"\n",
    "          offset-y\n",
    "          persistent\n",
    "          min-width=\"290px\"\n",
    "          max-width=\"350px\"\n",
    "        >\n",
    "      <template v-slot:activator=\"{ on }\">\n",
    "         <v-card>\n",
    "            <v-text-field\n",
    "              v-model=\"dates\"\n",
    "              :class=\"class_\"\n",
    "              :style=\"style_\"\n",
    "              :hint=\"hint\"\n",
    "              :persistent-hint=\"persistent_hint\"\n",
    "              :label=\"label\"\n",
    "              prepend-icon=\"event\"\n",
    "              readonly\n",
    "              v-on=\"on\"\n",
    "            ></v-text-field>\n",
    "         </template>\n",
    "         <v-date-picker v-model=\"dates\" no-title flat scrollable range>\n",
    "            <v-spacer></v-spacer>\n",
    "            <v-btn text color=\"primary\" @click=\"menu = false\">Cancel</v-btn>\n",
    "            <v-btn text color=\"primary\" @click=\"$refs.menu.save(dates)\">OK</v-btn>\n",
    "         </v-date-picker>\n",
    "      </v-card>\n",
    "   </v-dialog>\n",
    "</template>\n",
    "        ''').tag(sync=True)\n",
    "\n",
    "    def __init__(self,\n",
    "                 *args,\n",
    "                 dates=None,\n",
    "                 label='Select Date Range',\n",
    "                 menu=False,\n",
    "                 persistent_hint=False,\n",
    "                 class_= \"\",\n",
    "                 style_=\"\",\n",
    "                 hint='',\n",
    "                 **kwargs):\n",
    "        super().__init__(*args, **kwargs)\n",
    "        self.menu = False\n",
    "        self.dates = dates\n",
    "        self.hint = hint\n",
    "        self.label = label\n",
    "        self.class_ = class_\n",
    "        self.style_ = style_\n",
    "        self.persistent_hint = persistent_hint"
   ]
  },
  {
   "cell_type": "code",
   "execution_count": null,
   "metadata": {},
   "outputs": [],
   "source": [
    "#export\n",
    "\n",
    "\n",
    "def date_range(\n",
    "    dates=None,\n",
    "    label='Select Date Range',\n",
    "    menu=False,\n",
    "    persistent_hint=False,\n",
    "    class_=\"\",\n",
    "    style_=\"\",\n",
    "    hint='',\n",
    "):\n",
    "    \"\"\"\n",
    "    Date Range widget\n",
    "    \n",
    "    Parameters\n",
    "    dates : list (optional)\n",
    "        Length 2 list with start and end date, in format 'YYYY-mm-dd'\n",
    "    label : str (optional)\n",
    "        Label for the date range input\n",
    "    hint : str (optional)\n",
    "        Hint text to display\n",
    "    persistent_hint : bool\n",
    "        Whether to always show hint text\n",
    "    class_ : str\n",
    "        vuetify class string\n",
    "    style_ : str\n",
    "        vuetify CSS style string    \n",
    "    \n",
    "    \"\"\"\n",
    "    if dates is None:\n",
    "        start = time.strftime('%Y-%m-%d', time.localtime())\n",
    "        end = time.strftime('%Y-%m-%d', time.localtime())\n",
    "    else:\n",
    "        start = dates[0]\n",
    "        end = dates[1]\n",
    "\n",
    "    ret = _DateRange(dates=[start, end],\n",
    "                     label=label,\n",
    "                     class_=class_,\n",
    "                     style_=style_,\n",
    "                     persistent_hint=persistent_hint,\n",
    "                     hint=hint)\n",
    "\n",
    "    def _ensure_date_correct_order(ret):\n",
    "        if len(ret.dates) == 2:\n",
    "            if ret.dates[0] > ret.dates[1]:\n",
    "                start = ret.dates[0]\n",
    "                end = ret.dates[1]\n",
    "                ret.dates = [end, start]\n",
    "\n",
    "    def on_value_change(change):\n",
    "        _ensure_date_correct_order(ret)\n",
    "\n",
    "    ret.observe(on_value_change)\n",
    "\n",
    "    # Return widget\n",
    "    return ret"
   ]
  },
  {
   "cell_type": "code",
   "execution_count": null,
   "metadata": {},
   "outputs": [
    {
     "data": {
      "application/vnd.jupyter.widget-view+json": {
       "model_id": "b77d3b9726dc4874b51517e9431f7b06",
       "version_major": 2,
       "version_minor": 0
      },
      "text/plain": [
       "_DateRange(dates=['2020-01-01', '2020-02-01'], label='Select Date Range')"
      ]
     },
     "metadata": {},
     "output_type": "display_data"
    }
   ],
   "source": [
    "test = date_range(dates=['2020-01-01','2020-02-01'])\n",
    "test"
   ]
  },
  {
   "cell_type": "code",
   "execution_count": null,
   "metadata": {},
   "outputs": [
    {
     "data": {
      "text/plain": [
       "['2020-01-01', '2020-02-01']"
      ]
     },
     "execution_count": null,
     "metadata": {},
     "output_type": "execute_result"
    }
   ],
   "source": [
    "test.dates"
   ]
  },
  {
   "cell_type": "markdown",
   "metadata": {},
   "source": [
    "## Number Input"
   ]
  },
  {
   "cell_type": "code",
   "execution_count": null,
   "metadata": {},
   "outputs": [],
   "source": [
    "#export\n",
    "\n",
    "def number(v_model=None,\n",
    "           min_value=None,\n",
    "           max_value=None,\n",
    "           label=None,\n",
    "           hint=None,\n",
    "           persistent_hint=False,\n",
    "           class_=None,\n",
    "           style_=None,\n",
    "           validation_function=None,\n",
    "           **kwargs):\n",
    "    \"\"\"\n",
    "    Number input field\n",
    "\n",
    "    Function to generate an ipyvuetify TextField input widget with 'numer' type prop.\n",
    "    \n",
    "    The value of the widget can be accessed or modified by the `v_model` property of the return value.\n",
    "    \n",
    "    See the vuetify documention for other arguments that can be passed as keyword arguments: https://vuetifyjs.com/en/components/text-fields/#api\n",
    "\n",
    "    Parameters:\n",
    "\n",
    "    v_model : str (optional, default None)\n",
    "        Value of the number input\n",
    "    \n",
    "    min_value : float (optional)\n",
    "        Minimum value for the widget for validation warning\n",
    "    \n",
    "    max-value : float (optional)\n",
    "        Maximum value for the widget for validation warning\n",
    "    \n",
    "    label : str (optional, default None)\n",
    "        Description of the input\n",
    "    \n",
    "    hint : str or callable (optional, default None)\n",
    "        Hint text or function generating int based on input value for validating input\n",
    "    \n",
    "    persistent_hint : bool (optional, default False)\n",
    "        Set to True to display the hint when widget is not focused\n",
    "        \n",
    "    class_ : str (optional, default None)\n",
    "        ipyvuetify HTML class string\n",
    "    \n",
    "    style_ : str (optional, default None)\n",
    "        ipyvuetify HTML CSS string\n",
    "        \n",
    "    validation_function : callable (optional)\n",
    "        Validation function to call to validate input, overrides default validation\n",
    "    \n",
    "    **kwargs\n",
    "        Other arguments supported by ipyvuetify.TextField\n",
    "\n",
    "    Returns:\n",
    "    \n",
    "    ipyvuetify.TextInput\n",
    "        An ipyvuetify number input widget with optional min/max value validation\n",
    "    \"\"\"\n",
    "    ret = ipyvuetify.TextField()\n",
    "\n",
    "    # Set values for arguments\n",
    "    ret.label = label\n",
    "    if not callable(hint):\n",
    "        ret.hint = hint\n",
    "    ret.persistent_hint = persistent_hint\n",
    "    ret.v_model = v_model\n",
    "    ret.class_ = class_\n",
    "    ret.style_ = style_\n",
    "\n",
    "    # Set other keyword arguments\n",
    "    for arg in kwargs:\n",
    "        setattr(ret, arg, kwargs[arg])\n",
    "\n",
    "    ret.type = 'number'\n",
    "\n",
    "    def _validate_numeric_input(widget=ret,\n",
    "                                min_value=min_value,\n",
    "                                max_value=max_value):\n",
    "        \"\"\"\n",
    "        When `value` changes, try to change the format of `value` to \n",
    "        numeric and if that fails, mark the input as invalid and display a helpful message\n",
    "        \"\"\"\n",
    "\n",
    "        try:\n",
    "            widget.v_model = float(widget.v_model)\n",
    "            widget.error = False\n",
    "            widget.persistent_hint = False\n",
    "            widget.hint = \"\"\n",
    "\n",
    "            if min_value is not None and float(widget.v_model) < min_value:\n",
    "                widget.error = True\n",
    "                widget.persistent_hint = True\n",
    "                widget.hint = (\n",
    "                    \"Input: {value} is less than the minimum supported value {min_value}. \"\n",
    "                    .format(value=widget.v_model, min_value=min_value))\n",
    "\n",
    "            if max_value is not None and float(widget.v_model) > max_value:\n",
    "                widget.error = True\n",
    "                widget.persistent_hint = True\n",
    "                widget.hint = (\"Input: {value} is greater than the maximum \"\n",
    "                               \"supported value {max_value}.\".format(\n",
    "                                   value=widget.v_model, max_value=max_value))\n",
    "\n",
    "        except:\n",
    "            widget.error = True\n",
    "            widget.persistent_hint = True\n",
    "\n",
    "            if max_value is not None and min_value is not None:\n",
    "                widget.hint = \"Enter an number in range [{min_value}, {max_value}]\".format(\n",
    "                    min_value=min_value, max_value=max_value)\n",
    "            elif min_value is not None:\n",
    "                widget.hint = \"Enter an number in range [{min_value}, ]\".format(\n",
    "                    min_value=min_value)\n",
    "            elif max_value is not None:\n",
    "                widget.hint = \"Enter an number in range [, {max_value}]\".format(\n",
    "                    max_value=max_value)\n",
    "            else:\n",
    "                widget.error = False\n",
    "                widget.hint = None\n",
    "\n",
    "        try:\n",
    "            if int(widget.v_model) == widget.v_model:\n",
    "                widget.v_model = int(widget.v_model)\n",
    "            else:\n",
    "                pass\n",
    "        except:\n",
    "            pass\n",
    "\n",
    "    # Apply validation, if function provided\n",
    "    if callable(validation_function):\n",
    "        def on_value_change(change):\n",
    "            validation_function(ret)\n",
    "\n",
    "        ret.observe(on_value_change, names='v_model')\n",
    "        validation_function(ret)\n",
    "    # Otherwise, use default validation\n",
    "    else:\n",
    "        def on_value_change(change):\n",
    "            _validate_numeric_input(ret)\n",
    "\n",
    "        ret.observe(on_value_change, names=\"v_model\")\n",
    "        _validate_numeric_input(ret)\n",
    "\n",
    "    # Return widget\n",
    "    return ret"
   ]
  },
  {
   "cell_type": "markdown",
   "metadata": {},
   "source": [
    "number input example"
   ]
  },
  {
   "cell_type": "code",
   "execution_count": null,
   "metadata": {},
   "outputs": [
    {
     "data": {
      "application/vnd.jupyter.widget-view+json": {
       "model_id": "8d1277720342470c8199c1f8f8df43d6",
       "version_major": 2,
       "version_minor": 0
      },
      "text/plain": [
       "TextField(error=False, hint='', label='Number Input Example', persistent_hint=False, type='number', v_model=10…"
      ]
     },
     "metadata": {},
     "output_type": "display_data"
    }
   ],
   "source": [
    "number(label='Number Input Example',v_model=10)"
   ]
  },
  {
   "cell_type": "markdown",
   "metadata": {},
   "source": [
    "number input validation example"
   ]
  },
  {
   "cell_type": "code",
   "execution_count": null,
   "metadata": {},
   "outputs": [
    {
     "data": {
      "application/vnd.jupyter.widget-view+json": {
       "model_id": "6d6c136805f241e4a8217a66c4c4575b",
       "version_major": 2,
       "version_minor": 0
      },
      "text/plain": [
       "TextField(error=True, hint='Input: 15.0 is greater than the maximum supported value 10.', label='Number Input …"
      ]
     },
     "metadata": {},
     "output_type": "display_data"
    }
   ],
   "source": [
    "number(label='Number Input Example',min_value=0,max_value=10,v_model=15)"
   ]
  },
  {
   "cell_type": "markdown",
   "metadata": {},
   "source": [
    "## Range Slider"
   ]
  },
  {
   "cell_type": "code",
   "execution_count": null,
   "metadata": {},
   "outputs": [],
   "source": [
    "#export\n",
    "\n",
    "\n",
    "def range_slider(min=None,\n",
    "           max=None,\n",
    "           vertical=False,\n",
    "           v_model=None,\n",
    "           label=None,\n",
    "           hint=None,\n",
    "           persistent_hint=False,\n",
    "           class_='mx-6 mt-8',\n",
    "           style_=None,\n",
    "           thumb_size=24,\n",
    "           tick_size=4,\n",
    "           ticks=True,\n",
    "           step=None,\n",
    "           thumb_label='always',\n",
    "           **kwargs):\n",
    "    \"\"\"\n",
    "    Range Slider input\n",
    "\n",
    "    Function to generate an ipyvuetify Range Slider input widget.\n",
    "    \n",
    "    The value of the widget can be accessed or modified by the `v_model` property of the return value.\n",
    "    \n",
    "    See the vuetify documention for other arguments that can be passed as keyword arguments: https://vuetifyjs.com/en/components/sliders/\n",
    "\n",
    "    Parameters:    \n",
    "    min : float\n",
    "        Minimum value of slider\n",
    "        \n",
    "    max : float\n",
    "        Maximum value of slider\n",
    "        \n",
    "    step : float (optional)\n",
    "        Step size for slider, default: (max-min)/10\n",
    "    \n",
    "    v_model : list (optional)\n",
    "        Default value of range slider (defaults to [min,max]))\n",
    "\n",
    "    label : str (optional, default None)\n",
    "        Description of the input\n",
    "    \n",
    "    hint : str or callable (optional, default None)\n",
    "        Hint text or function generating int based on input value for validating input\n",
    "    \n",
    "    persistent_hint : bool (optional, default False)\n",
    "        Set to True to display the hint when widget is not focused\n",
    "    \n",
    "    class_ : str (optional, default None)\n",
    "        ipyvuetify HTML class string\n",
    "    \n",
    "    style_ : str (optional, default None)\n",
    "        ipyvuetify HTML CSS string\n",
    "        \n",
    "    thumb_size : int (optional, default 24)\n",
    "        Size of thumb widget in pixels\n",
    "    \n",
    "    tick_size : int (optional, default 4)\n",
    "        Size of slider ticks in pixels\n",
    "    \n",
    "    ticks : bool (default True)\n",
    "        Whether to display slider ticks\n",
    "    \n",
    "    thumb_label : bool/str (optional, default 'always')\n",
    "        How to display thumb label\n",
    "\n",
    "    **kwargs\n",
    "        Other arguments supported by ipyvuetify.TextField\n",
    "\n",
    "    Returns:    \n",
    "    ipyvuetify.Slider\n",
    "        An ipyvuetify slider\n",
    "    \"\"\"\n",
    "    if min is None:\n",
    "        min = 0\n",
    "    if max is None:\n",
    "        max = 1\n",
    "    \n",
    "    # If no default is provided, default to [min,max]\n",
    "    if v_model is None:\n",
    "        v_model=[min,max]\n",
    "        \n",
    "    # If no step, divide interval by 10\n",
    "    if step is None:\n",
    "        step = (max - min) / 10.0\n",
    "\n",
    "\n",
    "    ret = ipyvuetify.RangeSlider(min=min,\n",
    "                            max=max,\n",
    "                            thumb_size=thumb_size,\n",
    "                            tick_size=tick_size,\n",
    "                            ticks=ticks,\n",
    "                            step=step,\n",
    "                            thumb_label=thumb_label,\n",
    "                            vertical=vertical,\n",
    "                            class_=class_,\n",
    "                            v_model=v_model,\n",
    "                            label=label,\n",
    "                            hint=hint,\n",
    "                            persistent_hint=persistent_hint,\n",
    "                            children=[])\n",
    "\n",
    "    # Set other keyword arguments\n",
    "    for arg in kwargs:\n",
    "        setattr(ret, arg, kwargs[arg])\n",
    "\n",
    "    # Return widget\n",
    "    return ret"
   ]
  },
  {
   "cell_type": "code",
   "execution_count": null,
   "metadata": {},
   "outputs": [
    {
     "data": {
      "application/vnd.jupyter.widget-view+json": {
       "model_id": "68f86982e74a468c91352cb9edc63981",
       "version_major": 2,
       "version_minor": 0
      },
      "text/plain": [
       "RangeSlider(class_='mx-6 mt-8', max=100.0, min=0.0, persistent_hint=False, step=10.0, thumb_label='always', th…"
      ]
     },
     "metadata": {},
     "output_type": "display_data"
    }
   ],
   "source": [
    "range_slider(min=0,max=100,v_model=[40,60])"
   ]
  },
  {
   "cell_type": "markdown",
   "metadata": {},
   "source": [
    "## Slider"
   ]
  },
  {
   "cell_type": "code",
   "execution_count": null,
   "metadata": {},
   "outputs": [],
   "source": [
    "#export\n",
    "\n",
    "\n",
    "def slider(min=None,\n",
    "           max=None,\n",
    "           vertical=False,\n",
    "           v_model=None,\n",
    "           label=None,\n",
    "           hint=None,\n",
    "           persistent_hint=False,\n",
    "           class_='mx-6 mt-8',\n",
    "           style_=None,\n",
    "           thumb_size=24,\n",
    "           tick_size=4,\n",
    "           ticks=True,\n",
    "           step=None,\n",
    "           thumb_label='always',\n",
    "           **kwargs):\n",
    "    \"\"\"\n",
    "    Slider input\n",
    "\n",
    "    Function to generate an ipyvuetify slider input widget.\n",
    "    \n",
    "    The value of the widget can be accessed or modified by the `v_model` property of the return value.\n",
    "    \n",
    "    See the vuetify documention for other arguments that can be passed as keyword arguments: https://vuetifyjs.com/en/components/sliders/\n",
    "\n",
    "    Parameters:    \n",
    "    min : float\n",
    "        Minimum value of slider\n",
    "        \n",
    "    max : float\n",
    "        Maximum value of slider\n",
    "        \n",
    "    step : float (optional)\n",
    "        Step size for slider, default: (max-min)/10\n",
    "    \n",
    "    v_model : float (optional)\n",
    "        Default value of slider (defaults to min)\n",
    "\n",
    "    label : str (optional, default None)\n",
    "        Description of the input\n",
    "    \n",
    "    hint : str or callable (optional, default None)\n",
    "        Hint text or function generating int based on input value for validating input\n",
    "    \n",
    "    persistent_hint : bool (optional, default False)\n",
    "        Set to True to display the hint when widget is not focused\n",
    "    \n",
    "    class_ : str (optional, default None)\n",
    "        ipyvuetify HTML class string\n",
    "    \n",
    "    style_ : str (optional, default None)\n",
    "        ipyvuetify HTML CSS string\n",
    "        \n",
    "    thumb_size : int (optional, default 24)\n",
    "        Size of thumb widget in pixels\n",
    "    \n",
    "    tick_size : int (optional, default 4)\n",
    "        Size of slider ticks in pixels\n",
    "    \n",
    "    ticks : bool (default True)\n",
    "        Whether to display slider ticks\n",
    "    \n",
    "    thumb_label : bool/str (optional, default 'always')\n",
    "        How to display thumb label\n",
    "\n",
    "    **kwargs\n",
    "        Other arguments supported by ipyvuetify.TextField\n",
    "\n",
    "    Returns:    \n",
    "    ipyvuetify.Slider\n",
    "        An ipyvuetify slider\n",
    "    \"\"\"\n",
    "    if min is None:\n",
    "        min = 0\n",
    "    if max is None:\n",
    "        max = 1\n",
    "\n",
    "    ret = ipyvuetify.Slider(min=min,\n",
    "                            max=max,\n",
    "                            thumb_size=thumb_size,\n",
    "                            tick_size=tick_size,\n",
    "                            ticks=ticks,\n",
    "                            step=step,\n",
    "                            thumb_label=thumb_label,\n",
    "                            vertical=vertical,\n",
    "                            class_=class_,\n",
    "                            v_model=v_model,\n",
    "                            label=label,\n",
    "                            hint=hint,\n",
    "                            persistent_hint=persistent_hint,\n",
    "                            children=[])\n",
    "\n",
    "    # Set other keyword arguments\n",
    "    for arg in kwargs:\n",
    "        setattr(ret, arg, kwargs[arg])\n",
    "\n",
    "    # If no default is given, set it to the first\n",
    "    if v_model is None:\n",
    "        ret.v_model = min\n",
    "\n",
    "    # If no step, divide interval by 10\n",
    "    if step is None:\n",
    "        ret.step = (max - min) / 10.0\n",
    "\n",
    "    # Return widget\n",
    "    return ret"
   ]
  },
  {
   "cell_type": "code",
   "execution_count": null,
   "metadata": {},
   "outputs": [
    {
     "data": {
      "application/vnd.jupyter.widget-view+json": {
       "model_id": "3b5306dcf27045a2b488836a6c47b510",
       "version_major": 2,
       "version_minor": 0
      },
      "text/plain": [
       "Slider(class_='mx-6 mt-8', label='Default Slider Example', max=1.0, min=0.0, persistent_hint=False, step=0.1, …"
      ]
     },
     "metadata": {},
     "output_type": "display_data"
    }
   ],
   "source": [
    "slider(label='Default Slider Example')"
   ]
  },
  {
   "cell_type": "code",
   "execution_count": null,
   "metadata": {},
   "outputs": [
    {
     "data": {
      "application/vnd.jupyter.widget-view+json": {
       "model_id": "1e341bcb879747b199f5bac8ea7d6e0c",
       "version_major": 2,
       "version_minor": 0
      },
      "text/plain": [
       "Slider(class_='mx-6 mt-8', color='red', label='Slider Example', max=10.0, min=0.0, persistent_hint=False, step…"
      ]
     },
     "metadata": {},
     "output_type": "display_data"
    }
   ],
   "source": [
    "slider(label='Slider Example',\n",
    "       min=0,\n",
    "       max=10,\n",
    "       step=1,\n",
    "       color='red',\n",
    "       track_color='red',\n",
    "       v_model=5)"
   ]
  },
  {
   "cell_type": "markdown",
   "metadata": {},
   "source": [
    "## Radio Buttons"
   ]
  },
  {
   "cell_type": "code",
   "execution_count": null,
   "metadata": {},
   "outputs": [],
   "source": [
    "#export\n",
    "\n",
    "def radio_buttons(choices,\n",
    "                  row=False,\n",
    "                  v_model=None,\n",
    "                  label=None,\n",
    "                  hint=None,\n",
    "                  persistent_hint=False,\n",
    "                  class_='px-2 my-0 py-2',\n",
    "                  style_=None,\n",
    "                  **kwargs):\n",
    "    \"\"\"\n",
    "    Radio Button input field\n",
    "\n",
    "    Function to generate an ipyvuetify Radio Buttons input widget.\n",
    "    \n",
    "    The value of the widget can be accessed or modified by the `v_model` property of the return value.\n",
    "    \n",
    "    See the vuetify documention for other arguments that can be passed as keyword arguments: https://vuetifyjs.com/en/components/selection-controls/\n",
    "\n",
    "    Parameters:    \n",
    "    choices : list or dict\n",
    "        Choices to appear in radio button\n",
    "    \n",
    "    v_model : str (optional, default None)\n",
    "        Value of the time input, must be an element of choices\n",
    "        \n",
    "    row : bool\n",
    "        If True choices will be displayed in a row, otherwise in a column\n",
    "    \n",
    "    label : str (optional, default None)\n",
    "        Description of the input\n",
    "    \n",
    "    hint : str or callable (optional, default None)\n",
    "        Hint text or function generating int based on input value for validating input\n",
    "    \n",
    "    persistent_hint : bool (optional, default False)\n",
    "        Set to True to display the hint when widget is not focused\n",
    "    \n",
    "    class_ : str (optional, default None)\n",
    "        ipyvuetify HTML class string\n",
    "    \n",
    "    style_ : str (optional, default None)\n",
    "        ipyvuetify HTML CSS string\n",
    "\n",
    "    **kwargs\n",
    "        Other arguments supported by ipyvuetify.TextField\n",
    "\n",
    "    Returns:    \n",
    "    ipyvuetify.TextInput\n",
    "        An ipyvuetify time input widget\n",
    "    \"\"\"\n",
    "    ret = ipyvuetify.RadioGroup(\n",
    "        class_=class_,\n",
    "        style_=style_,\n",
    "        v_model=v_model,\n",
    "        label=label,\n",
    "        hint=hint,\n",
    "        persistent_hint=persistent_hint,\n",
    "        row=row,\n",
    "        children=[])\n",
    "    \n",
    "    # Set other keyword arguments\n",
    "    for arg in kwargs:\n",
    "        setattr(ret, arg, kwargs[arg])\n",
    "\n",
    "    if isinstance(choices,list):\n",
    "        ret.children = [ipyvuetify.Radio(label=i, value=i) for i in choices]\n",
    "    elif isinstance(choices,dict):\n",
    "        ret.children = [ipyvuetify.Radio(label=i, value=choices[i]) for i in choices]\n",
    "    else:\n",
    "        raise Exception(\"choices must be a dict or a list\")\n",
    " \n",
    "    # If no default is given, set it to the first\n",
    "    if v_model is None:\n",
    "        ret.v_model = choices[0]\n",
    "\n",
    "    # Return widget\n",
    "    return ret\n"
   ]
  },
  {
   "cell_type": "code",
   "execution_count": null,
   "metadata": {},
   "outputs": [
    {
     "data": {
      "application/vnd.jupyter.widget-view+json": {
       "model_id": "0bd46ba027544da3b4eddf353c63acc9",
       "version_major": 2,
       "version_minor": 0
      },
      "text/plain": [
       "RadioGroup(children=[Radio(label='apple', value='apple'), Radio(label='blueberry', value='blueberry'), Radio(l…"
      ]
     },
     "metadata": {},
     "output_type": "display_data"
    }
   ],
   "source": [
    "radio_buttons(choices=['apple', 'blueberry', 'pumpkin'],\n",
    "              label='What is your favourite pie flavour?',\n",
    "              v_model='blueberry')"
   ]
  },
  {
   "cell_type": "markdown",
   "metadata": {},
   "source": [
    "If `choices` is a dict, the keys are displayed, but the selected value is made availble in the `v_model` property"
   ]
  },
  {
   "cell_type": "code",
   "execution_count": null,
   "metadata": {},
   "outputs": [
    {
     "data": {
      "application/vnd.jupyter.widget-view+json": {
       "model_id": "77bfbb28f5f34b3d8674c7bb948e1167",
       "version_major": 2,
       "version_minor": 0
      },
      "text/plain": [
       "RadioGroup(children=[Radio(label='Apple', value='apple'), Radio(label='Blueberry', value='blueberry'), Radio(l…"
      ]
     },
     "metadata": {},
     "output_type": "display_data"
    }
   ],
   "source": [
    "tmp = radio_buttons(choices={\n",
    "                    'Apple': 'apple',\n",
    "                    'Blueberry': 'blueberry',\n",
    "                    'Pumpkin': 'pumpkin'\n",
    "              },\n",
    "              row=True,\n",
    "              label='What is your favourite pie flavour?',\n",
    "              v_model='blueberry')\n",
    "tmp"
   ]
  },
  {
   "cell_type": "code",
   "execution_count": null,
   "metadata": {},
   "outputs": [
    {
     "data": {
      "text/plain": [
       "'blueberry'"
      ]
     },
     "execution_count": null,
     "metadata": {},
     "output_type": "execute_result"
    }
   ],
   "source": [
    "tmp.v_model"
   ]
  },
  {
   "cell_type": "markdown",
   "metadata": {},
   "source": [
    "## Select / Dropdown Input"
   ]
  },
  {
   "cell_type": "code",
   "execution_count": null,
   "metadata": {},
   "outputs": [],
   "source": [
    "#export\n",
    "\n",
    "def select(items,\n",
    "           v_model=None,\n",
    "           multiple=False,\n",
    "                  label=None,\n",
    "                  hint=None,\n",
    "                  persistent_hint=False,\n",
    "                  class_=None,\n",
    "                  style_=None,\n",
    "                  small_chips=False,\n",
    "                  deletable_chips=False,\n",
    "                  **kwargs):\n",
    "    \"\"\"\n",
    "    Select / Dropdown input\n",
    "\n",
    "    Function to generate an ipyvuetify Dropdown input widget.\n",
    "    \n",
    "    The value of the widget can be accessed or modified by the `v_model` property of the return value.\n",
    "    \n",
    "    See the vuetify documention for other arguments that can be passed as keyword arguments: https://vuetifyjs.com/en/components/selects/\n",
    "\n",
    "    Parameters:    \n",
    "    items : list\n",
    "        Items to choose from in dropdown\n",
    "    \n",
    "    v_model : bool (optional, default None)\n",
    "        Value of the time input, must be an element of choices\n",
    "        \n",
    "    multiple : bool\n",
    "        Whether to allow multiple selected values\n",
    "        \n",
    "    label : str (optional, default False)\n",
    "        Default value of the checkbox input\n",
    "    \n",
    "    hint : str (optional, default None)\n",
    "        Hint text \n",
    "    \n",
    "    persistent_hint : bool (optional, default False)\n",
    "        Set to True to display the hint when widget is not focused\n",
    "    \n",
    "    class_ : str (optional, default None)\n",
    "        ipyvuetify HTML class string\n",
    "    \n",
    "    style_ : str (optional, default None)\n",
    "        ipyvuetify HTML CSS string\n",
    "                \n",
    "    small_chips : bool (optional, default False)\n",
    "        display selection as small chips\n",
    "        \n",
    "    deletable_chips : bool (optional, default False)\n",
    "        display x on selection(s) to remove\n",
    "\n",
    "    **kwargs\n",
    "        Other arguments supported by ipyvuetify.TextField\n",
    "\n",
    "    Returns:    \n",
    "    ipyvuetify.TextInput\n",
    "        An ipyvuetify time input widget\n",
    "    \"\"\"\n",
    "    \n",
    "    if isinstance(items,dict):\n",
    "        items = [{'text':i,'value':items[i]} for i in items]\n",
    "        \n",
    "    if multiple and not isinstance(v_model,list):\n",
    "        v_model=[v_model]\n",
    "        \n",
    "    ret = ipyvuetify.Select(\n",
    "        items=items,\n",
    "        multiple=multiple,\n",
    "        class_=class_,\n",
    "        style_=style_,\n",
    "        v_model=v_model,\n",
    "        label=label,\n",
    "        hint=hint,\n",
    "        small_chips=small_chips,\n",
    "        deletable_chips=deletable_chips,\n",
    "        persistent_hint=persistent_hint)\n",
    "    \n",
    "    # Set other keyword arguments\n",
    "    for arg in kwargs:\n",
    "        setattr(ret, arg, kwargs[arg])\n",
    "\n",
    "    # Return widget\n",
    "    return ret\n"
   ]
  },
  {
   "cell_type": "markdown",
   "metadata": {},
   "source": [
    "For a select input, the `v_model` can be a list:"
   ]
  },
  {
   "cell_type": "code",
   "execution_count": null,
   "metadata": {},
   "outputs": [
    {
     "data": {
      "application/vnd.jupyter.widget-view+json": {
       "model_id": "40b6ca83728845e6ac1514d7f52dab9f",
       "version_major": 2,
       "version_minor": 0
      },
      "text/plain": [
       "Select(deletable_chips=False, items=['one', 'two', 'three'], multiple=False, persistent_hint=False, small_chip…"
      ]
     },
     "metadata": {},
     "output_type": "display_data"
    }
   ],
   "source": [
    "select(items=['one','two','three'],v_model='two')"
   ]
  },
  {
   "cell_type": "markdown",
   "metadata": {},
   "source": [
    "... or a dict where the keys are the labels to be displayed and the values and the values"
   ]
  },
  {
   "cell_type": "code",
   "execution_count": null,
   "metadata": {},
   "outputs": [
    {
     "data": {
      "application/vnd.jupyter.widget-view+json": {
       "model_id": "6b250cc7e34544259abc47e2e8e22f15",
       "version_major": 2,
       "version_minor": 0
      },
      "text/plain": [
       "Select(deletable_chips=False, items=[{'text': 'One', 'value': 'one'}, {'text': 'Two', 'value': 'two'}, {'text'…"
      ]
     },
     "metadata": {},
     "output_type": "display_data"
    }
   ],
   "source": [
    "select(items={'One':'one','Two':'two','Three':'three'},v_model='two')"
   ]
  },
  {
   "cell_type": "markdown",
   "metadata": {},
   "source": [
    "Also, it is possible for multiple items to be selected via the `multiple` prop:"
   ]
  },
  {
   "cell_type": "code",
   "execution_count": null,
   "metadata": {},
   "outputs": [
    {
     "data": {
      "application/vnd.jupyter.widget-view+json": {
       "model_id": "fe781fbb04934b06b44414a51f112a9b",
       "version_major": 2,
       "version_minor": 0
      },
      "text/plain": [
       "Select(deletable_chips=False, items=[{'text': 'One', 'value': 'one'}, {'text': 'Two', 'value': 'two'}, {'text'…"
      ]
     },
     "metadata": {},
     "output_type": "display_data"
    }
   ],
   "source": [
    "select(items={'One':'one','Two':'two','Three':'three'},v_model=['one','two'],multiple=True)"
   ]
  },
  {
   "cell_type": "markdown",
   "metadata": {},
   "source": [
    "## select_or_create (Combobox)"
   ]
  },
  {
   "cell_type": "code",
   "execution_count": null,
   "metadata": {},
   "outputs": [],
   "source": [
    "#export\n",
    "\n",
    "\n",
    "def select_or_create(items,\n",
    "                     v_model=None,\n",
    "                     multiple=False,\n",
    "                     label=None,\n",
    "                     hint='Select or create item(s)',\n",
    "                     persistent_hint=True,\n",
    "                     class_=None,\n",
    "                     style_=None,\n",
    "                     small_chips=True,\n",
    "                     deletable_chips=True,\n",
    "                     hide_selected=True,\n",
    "                     **kwargs):\n",
    "    \"\"\"\n",
    "    Select / Dropdown input\n",
    "\n",
    "    Function to generate an ipyvuetify Combobox input widget.\n",
    "    \n",
    "    The value of the widget can be accessed or modified by the `v_model` property of the return value.\n",
    "    \n",
    "    See the vuetify documention for other arguments that can be passed as keyword arguments: https://vuetifyjs.com/en/components/combobox/\n",
    "\n",
    "    Parameters:    \n",
    "    items : list\n",
    "        Items to choose from in dropdown\n",
    "    \n",
    "    v_model : bool (optional, default None)\n",
    "        Value of the time input, must be an element of choices\n",
    "        \n",
    "    multiple : bool\n",
    "        Whether to allow multiple selected values\n",
    "\n",
    "    hint : str\n",
    "        Help text to display\n",
    "        \n",
    "    persistent_hint : bool\n",
    "        Whether to always show hint text\n",
    "    \n",
    "    label : str (optional, default False)\n",
    "        Default value of the checkbox input\n",
    "\n",
    "    class_ : str (optional, default None)\n",
    "        ipyvuetify HTML class string\n",
    "    \n",
    "    style_ : str (optional, default None)\n",
    "        ipyvuetify HTML CSS string\n",
    "                \n",
    "    small_chips : bool (optional, default True)\n",
    "        display selection as small chips\n",
    "        \n",
    "    deletable_chips : bool (optional, default True)\n",
    "        display x on selection(s) to remove\n",
    "        \n",
    "    hide_selected : bool (default True)\n",
    "        Hide selected elements from menu\n",
    "\n",
    "    **kwargs\n",
    "        Other arguments supported by ipyvuetify.TextField\n",
    "\n",
    "    Returns:    \n",
    "    ipyvuetify.TextInput\n",
    "        An ipyvuetify time input widget\n",
    "    \"\"\"\n",
    "\n",
    "    if isinstance(items, dict):\n",
    "        items = [{'text': i, 'value': items[i]} for i in items]\n",
    "\n",
    "    if multiple and v_model is not None and not isinstance(v_model, list):\n",
    "        v_model = [v_model]\n",
    "\n",
    "    ret = ipyvuetify.Combobox(\n",
    "        items=items,\n",
    "        multiple=multiple,\n",
    "        class_=class_,\n",
    "        style_=style_,\n",
    "        v_model=v_model,\n",
    "        label=label,\n",
    "        small_chips=small_chips,\n",
    "        deletable_chips=deletable_chips,\n",
    "        hide_selected=hide_selected,\n",
    "        persistent_hint=persistent_hint,\n",
    "        hint=hint,\n",
    "        v_slots=[{\n",
    "            'name':\n",
    "            'no-data',\n",
    "            'children':\n",
    "            ipyvuetify.ListItem(children=[\n",
    "                ipyvuetify.ListItemContent(children=[\n",
    "                    ipyvuetify.ListItemTitle(children=[\n",
    "                        'Your search returned no items. Press Enter to create a new one'\n",
    "                    ])\n",
    "                ])\n",
    "            ])\n",
    "        }])\n",
    "\n",
    "    # Set other keyword arguments\n",
    "    for arg in kwargs:\n",
    "        setattr(ret, arg, kwargs[arg])\n",
    "\n",
    "    # Return widget\n",
    "    return ret"
   ]
  },
  {
   "cell_type": "code",
   "execution_count": null,
   "metadata": {},
   "outputs": [
    {
     "data": {
      "application/vnd.jupyter.widget-view+json": {
       "model_id": "321f5a0c593c461c8534d573ddd7705c",
       "version_major": 2,
       "version_minor": 0
      },
      "text/plain": [
       "Combobox(deletable_chips=True, hide_selected=True, hint='Select or create item(s)', items=['one', 'two', 'thre…"
      ]
     },
     "metadata": {},
     "output_type": "display_data"
    }
   ],
   "source": [
    "tmp=select_or_create(items=['one','two','three'],v_model=['one','two'],multiple=True)\n",
    "tmp"
   ]
  },
  {
   "cell_type": "code",
   "execution_count": null,
   "metadata": {},
   "outputs": [
    {
     "data": {
      "text/plain": [
       "['one', 'two']"
      ]
     },
     "execution_count": null,
     "metadata": {},
     "output_type": "execute_result"
    }
   ],
   "source": [
    "tmp.v_model"
   ]
  },
  {
   "cell_type": "markdown",
   "metadata": {},
   "source": [
    "## button"
   ]
  },
  {
   "cell_type": "code",
   "execution_count": null,
   "metadata": {},
   "outputs": [],
   "source": [
    "#export\n",
    "\n",
    "\n",
    "def button(label=None,\n",
    "           color='primary',\n",
    "           size='default',\n",
    "           icon=None,\n",
    "           icon_left=None,\n",
    "           icon_right=None,\n",
    "           outlined=False,\n",
    "           rounded=False,\n",
    "           fab=False,\n",
    "           dark=False,\n",
    "           class_=None,\n",
    "           style_=None,\n",
    "           on_click=None,\n",
    "           **kwargs):\n",
    "    \"\"\"\n",
    "    Button input\n",
    "\n",
    "    Function to generate an ipyvuetify Button input widget.\n",
    "    \n",
    "    To make the button actually do something, set the on_click argument to be a function\n",
    "        it will trigger on the button click\n",
    "        \n",
    "    See the vuetify documention for other arguments that can be passed as keyword arguments\n",
    "        https://vuetifyjs.com/en/components/buttons/\n",
    "\n",
    "    Parameters:    \n",
    "    label : str (optional, default False)\n",
    "        Button text\n",
    "\n",
    "    color : str (optional, default 'primary')\n",
    "        vuetify color of the button\n",
    "        \n",
    "    size : str (optional, default 'default')\n",
    "        One of (x-small, small, default, large, x-large)\n",
    "        \n",
    "    icon : str (optional, default None)\n",
    "        Display an icon instead of a text label - must be a valid icon string\n",
    "        \n",
    "    icon_left : str (optional, default None)\n",
    "        Display an icon left of the label - must be a valid icon string\n",
    "        \n",
    "    icon_right : str (optional, default None)\n",
    "        Display an icon right of the label - must be a valid icon string\n",
    "        \n",
    "    outlined : bool (optional, default False)\n",
    "        apply oulined style\n",
    "        \n",
    "    fab : bool (optonal, default False)\n",
    "        apply fab style (circle style button)\n",
    "        \n",
    "    rounded : bool (optional, default False)\n",
    "        apply rounded style\n",
    "        \n",
    "    dark : bool (optional, default False)\n",
    "        apply dark style - useful for dark color buttons\n",
    "\n",
    "    class_ : str (optional, default None)\n",
    "        ipyvuetify HTML class string\n",
    "    \n",
    "    style_ : str (optional, default None)\n",
    "        ipyvuetify HTML CSS string\n",
    "        \n",
    "    on_click : callable\n",
    "        Function to trigger on click with arguments (widget, event, data) (or *args)\n",
    "\n",
    "    **kwargs\n",
    "        Other arguments supported by ipyvuetify.TextField\n",
    "\n",
    "    Returns:    \n",
    "    ipyvuetify.Btn\n",
    "        An ipyvuetify button\n",
    "    \"\"\"\n",
    "    \n",
    "    # Set size props\n",
    "    x_small=False\n",
    "    small=False\n",
    "    large=False\n",
    "    x_large=False\n",
    "    if size=='x-small':\n",
    "        x_small=True\n",
    "    elif size=='small':\n",
    "        small=True\n",
    "    elif size=='large':\n",
    "        large=True\n",
    "    elif size=='x-large':\n",
    "        x_large=True\n",
    "    \n",
    "    # Figure out children / label\n",
    "    if icon is not None:\n",
    "        children=[ipyvuetify.Icon(children=[icon])]\n",
    "    elif icon_left is not None:\n",
    "        children=[\n",
    "            v.Icon(left=True, children=[icon_left]),\n",
    "            label,\n",
    "        ]\n",
    "    elif icon_right is not None:\n",
    "        children=[\n",
    "            label,\n",
    "            v.Icon(right=True, children=[icon_left]),\n",
    "        ]\n",
    "    else:\n",
    "        children=[label]\n",
    "    \n",
    "    ret = ipyvuetify.Btn(class_=class_,\n",
    "                         style_=style_,\n",
    "                         color=color,\n",
    "                         outlined=outlined,\n",
    "                         rounded=rounded,\n",
    "                         fab=fab,\n",
    "                         dark=dark,\n",
    "                         children=children,\n",
    "                         x_small=x_small,\n",
    "                         small=small,\n",
    "                         large=large,\n",
    "                         x_large=x_large,\n",
    "                        on_click=on_click)\n",
    "\n",
    "    # Set other keyword arguments\n",
    "    for arg in kwargs:\n",
    "        setattr(ret, arg, kwargs[arg])\n",
    "\n",
    "    if on_click is not None:\n",
    "        ret.on_event('click', on_click)\n",
    "\n",
    "    # Return widget\n",
    "    return ret"
   ]
  },
  {
   "cell_type": "markdown",
   "metadata": {},
   "source": [
    "Button with click event example"
   ]
  },
  {
   "cell_type": "code",
   "execution_count": null,
   "metadata": {},
   "outputs": [
    {
     "data": {
      "application/vnd.jupyter.widget-view+json": {
       "model_id": "53ad1a94248847cc831738ac1d059618",
       "version_major": 2,
       "version_minor": 0
      },
      "text/plain": [
       "Btn(children=['I print `test` on click'], color='teal', dark=True, fab=False, large=True, outlined=False, roun…"
      ]
     },
     "metadata": {},
     "output_type": "display_data"
    }
   ],
   "source": [
    "def print_test_on_click(*args):\n",
    "    print('test')\n",
    "\n",
    "button(label='I print `test` on click',\n",
    "       size='large',\n",
    "       color='teal',\n",
    "       dark=True,\n",
    "       on_click=print_test_on_click)\n"
   ]
  },
  {
   "cell_type": "markdown",
   "metadata": {},
   "source": [
    "Button with icon and fab style example"
   ]
  },
  {
   "cell_type": "code",
   "execution_count": null,
   "metadata": {},
   "outputs": [
    {
     "data": {
      "application/vnd.jupyter.widget-view+json": {
       "model_id": "fe358ead391645e9b4e4d6ee9a97c43c",
       "version_major": 2,
       "version_minor": 0
      },
      "text/plain": [
       "Btn(children=[Icon(children=['mdi-recycle'])], class_='ma-4', color='teal', dark=True, fab=True, large=True, o…"
      ]
     },
     "metadata": {},
     "output_type": "display_data"
    }
   ],
   "source": [
    "button(icon='mdi-recycle',\n",
    "       size='large',\n",
    "       color='teal',\n",
    "       dark=True,\n",
    "       fab=True,\n",
    "       class_='ma-4'\n",
    "      )\n"
   ]
  },
  {
   "cell_type": "markdown",
   "metadata": {},
   "source": [
    "## color picker"
   ]
  },
  {
   "cell_type": "code",
   "execution_count": null,
   "metadata": {},
   "outputs": [],
   "source": [
    "# export\n",
    "\n",
    "def color_picker(canvas_width=300,canvas_height=150, mode='hexa', **kwargs):\n",
    "    \"\"\"\n",
    "    color picker widget\n",
    "    \n",
    "    See https://vuetifyjs.com/en/components/color-pickers/ for details\n",
    "    \n",
    "    Parameters\n",
    "    canvas_width : int (optional, default 300)\n",
    "        Width of the color picker, in pixels\n",
    "    \n",
    "    canvas_height : int (optional, default 200)\n",
    "        Height of the color picker, in pixels\n",
    "    \n",
    "    mode : str (optional, default 'hexa')\n",
    "        Color mode, one of ['rgba', 'hsla', 'hexa']\n",
    "        \n",
    "    **kwargs\n",
    "        Other arguments supported by ipyvuetify.ColorPicker. See https://vuetifyjs.com/en/components/color-pickers/\n",
    "    \"\"\"\n",
    "    return ipyvuetify.ColorPicker(v_model=None,mode=mode, width=canvas_width, canvas_height=canvas_height, **kwargs)\n"
   ]
  },
  {
   "cell_type": "code",
   "execution_count": null,
   "metadata": {},
   "outputs": [
    {
     "data": {
      "application/vnd.jupyter.widget-view+json": {
       "model_id": "73a07894ba344361a57168d9f3051dc2",
       "version_major": 2,
       "version_minor": 0
      },
      "text/plain": [
       "ColorPicker(canvas_height=150.0, mode='hexa', v_model=None, width=300.0)"
      ]
     },
     "metadata": {},
     "output_type": "display_data"
    }
   ],
   "source": [
    "temp=color_picker()\n",
    "temp"
   ]
  },
  {
   "cell_type": "code",
   "execution_count": null,
   "metadata": {},
   "outputs": [
    {
     "data": {
      "text/plain": [
       "{'alpha': 1,\n",
       " 'hex': '#FF0000',\n",
       " 'hexa': '#FF0000FF',\n",
       " 'hsla': {'h': 0, 's': 1, 'l': 0.5, 'a': 1},\n",
       " 'hsva': {'h': 0, 's': 1, 'v': 1, 'a': 1},\n",
       " 'hue': 0,\n",
       " 'rgba': {'r': 255, 'g': 0, 'b': 0, 'a': 1}}"
      ]
     },
     "execution_count": null,
     "metadata": {},
     "output_type": "execute_result"
    }
   ],
   "source": [
    "temp.v_model"
   ]
  },
  {
   "cell_type": "code",
   "execution_count": null,
   "metadata": {},
   "outputs": [
    {
     "name": "stdout",
     "output_type": "stream",
     "text": [
      "Converted 00_inputs.ipynb.\n",
      "Converted 01_outputs.ipynb.\n",
      "Converted index.ipynb.\n"
     ]
    }
   ],
   "source": [
    "#hide\n",
    "from nbdev.export import notebook2script\n",
    "notebook2script()"
   ]
  },
  {
   "cell_type": "code",
   "execution_count": null,
   "metadata": {},
   "outputs": [],
   "source": [
    "\n"
   ]
  }
 ],
 "metadata": {
  "kernelspec": {
   "display_name": "Python 3",
   "language": "python",
   "name": "python3"
  }
 },
 "nbformat": 4,
 "nbformat_minor": 2
}
