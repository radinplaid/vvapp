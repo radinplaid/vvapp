{
 "cells": [
  {
   "cell_type": "code",
   "execution_count": 1,
   "metadata": {
    "ExecuteTime": {
     "end_time": "2020-06-08T18:05:02.814693Z",
     "start_time": "2020-06-08T18:05:02.806262Z"
    }
   },
   "outputs": [],
   "source": [
    "# default_exp inputs"
   ]
  },
  {
   "cell_type": "markdown",
   "metadata": {},
   "source": [
    "# vvapp.inputs\n",
    "\n",
    ">  Ipyvuetify Jupyter input widgets with a simplified API"
   ]
  },
  {
   "cell_type": "code",
   "execution_count": 2,
   "metadata": {
    "ExecuteTime": {
     "end_time": "2020-06-08T18:05:03.518129Z",
     "start_time": "2020-06-08T18:05:03.219982Z"
    }
   },
   "outputs": [],
   "source": [
    "#hide\n",
    "from nbdev.showdoc import *"
   ]
  },
  {
   "cell_type": "code",
   "execution_count": 3,
   "metadata": {
    "ExecuteTime": {
     "end_time": "2020-06-08T18:05:05.621330Z",
     "start_time": "2020-06-08T18:05:05.405332Z"
    }
   },
   "outputs": [],
   "source": [
    "#export\n",
    "\n",
    "import ipyvuetify\n",
    "def password(v_model=None,\n",
    "                   label=None,\n",
    "                   hint=None,\n",
    "                   persistent_hint=False,\n",
    "                   class_=None,\n",
    "                   style_=None,\n",
    "                   validation_function=None,\n",
    "                   **kwargs):\n",
    "    \"\"\"\n",
    "    Password input field\n",
    "\n",
    "    Function to generate an ipyvuetify TextField input widget with 'password' type prop.\n",
    "    \n",
    "    The value of the widget can be accessed or modified by the `v_model` property of the return value.\n",
    "    \n",
    "    See the vuetify documention for other arguments that can be passed as keyword arguments: https://vuetifyjs.com/en/components/text-fields/#api\n",
    "\n",
    "    Parameters\n",
    "    ----------\n",
    "    v_model : str (optional, default None)\n",
    "        Value of the input\n",
    "    label : str (optional, default None)\n",
    "        Description of the input\n",
    "    hint : str or callable (optional, default None)\n",
    "        Hint text or function generating int based on input value for validating input\n",
    "    persistent_hint : bool (optional, default False)\n",
    "        Set to True to display the hint when widget is not focused\n",
    "    class_ : str (optional, default None)\n",
    "        ipyvuetify HTML class string\n",
    "    style_ : str (optional, default None)\n",
    "        ipyvuetify HTML CSS string\n",
    "    validation_function : callable\n",
    "        \n",
    "    **kwargs\n",
    "        Other arguments supported by ipyvuetify.TextField\n",
    "\n",
    "    Returns\n",
    "    -------\n",
    "    ipyvuetify.TextInput\n",
    "        An ipyvuetify password input widget\n",
    "    \"\"\"\n",
    "    ret = ipyvuetify.TextField()\n",
    "\n",
    "    # Set values for arguments\n",
    "    ret.label = label\n",
    "    if not callable(hint):\n",
    "        ret.hint = hint\n",
    "    ret.persistent_hint = persistent_hint\n",
    "    ret.v_model = v_model\n",
    "    ret.class_ = class_\n",
    "    ret.style_ = style_\n",
    "\n",
    "    # Set other keyword arguments\n",
    "    for arg in kwargs:\n",
    "        setattr(ret, arg, kwargs[arg])\n",
    "\n",
    "    ret.type = 'password'\n",
    "\n",
    "    # Apply validation, if function provided\n",
    "    if callable(hint):\n",
    "        error_hint = hint(ret.v_model)\n",
    "        if error_hint is None:\n",
    "            ret.hint=''\n",
    "            ret.error = False\n",
    "        else:\n",
    "            ret.hint = error_hint\n",
    "            ret.error = True\n",
    "\n",
    "        # When the value of the widget changes, validation will take place\n",
    "        def on_value_change(change):\n",
    "            error_hint = hint(ret.v_model)\n",
    "            if error_hint is None:\n",
    "                ret.hint=''\n",
    "                ret.error = False\n",
    "            else:\n",
    "                ret.hint = error_hint\n",
    "                ret.error = True\n",
    "\n",
    "        ret.observe(on_value_change, names='v_model')\n",
    "\n",
    "    # Return widget\n",
    "    return ret\n"
   ]
  },
  {
   "cell_type": "code",
   "execution_count": 4,
   "metadata": {
    "ExecuteTime": {
     "end_time": "2020-06-08T18:05:05.897444Z",
     "start_time": "2020-06-08T18:05:05.795714Z"
    }
   },
   "outputs": [
    {
     "name": "stdout",
     "output_type": "stream",
     "text": [
      "Converted 00_inputs.ipynb.\n",
      "Converted index.ipynb.\n"
     ]
    }
   ],
   "source": [
    "from nbdev.export import *\n",
    "notebook2script()"
   ]
  },
  {
   "cell_type": "code",
   "execution_count": null,
   "metadata": {},
   "outputs": [],
   "source": []
  }
 ],
 "metadata": {
  "kernelspec": {
   "display_name": "Python 3",
   "language": "python",
   "name": "python3"
  },
  "language_info": {
   "codemirror_mode": {
    "name": "ipython",
    "version": 3
   },
   "file_extension": ".py",
   "mimetype": "text/x-python",
   "name": "python",
   "nbconvert_exporter": "python",
   "pygments_lexer": "ipython3",
   "version": "3.8.3"
  }
 },
 "nbformat": 4,
 "nbformat_minor": 2
}
