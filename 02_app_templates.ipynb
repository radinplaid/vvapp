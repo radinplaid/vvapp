{
 "cells": [
  {
   "cell_type": "code",
   "execution_count": null,
   "metadata": {},
   "outputs": [],
   "source": [
    "# export\n",
    "import traitlets\n",
    "import time\n",
    "import json\n",
    "import base64\n",
    "import ipyvuetify\n",
    "import ipywidgets\n",
    "import pandas as pd\n",
    "from markdown import markdown\n",
    "import ipyvuetify as v\n",
    "from nbdev.imports import *\n",
    "from vvapp.outputs import *\n",
    "from vvapp.inputs import *"
   ]
  },
  {
   "cell_type": "code",
   "execution_count": null,
   "metadata": {},
   "outputs": [],
   "source": [
    "# default_exp app_templates"
   ]
  },
  {
   "cell_type": "code",
   "execution_count": null,
   "metadata": {},
   "outputs": [],
   "source": [
    "#hide\n",
    "from nbdev.showdoc import *"
   ]
  },
  {
   "cell_type": "markdown",
   "metadata": {},
   "source": [
    "# vvapp.app_templates\n",
    "\n",
    ">  Ipyvuetify Jupyter application templates"
   ]
  },
  {
   "cell_type": "markdown",
   "metadata": {},
   "source": [
    "## Ideas\n",
    "\n",
    "* Inputs are a list of widgets\n",
    "* Outputs are a dict, with tab title and a function to generate an output with one argument, the input list\n",
    "* App Title is a string"
   ]
  },
  {
   "cell_type": "code",
   "execution_count": null,
   "metadata": {},
   "outputs": [],
   "source": [
    "# export\n",
    "\n",
    "class App():\n",
    "    def __init__(self, app_title='', inputs=[], outputs={}, *args, **kwargs):\n",
    "        self.app_title = app_title\n",
    "        self.inputs = inputs\n",
    "        self.outputs = outputs\n",
    "\n",
    "    def show(self):\n",
    "        output_containers = [ipywidgets.Output() for i in self.outputs]\n",
    "\n",
    "        nav_button = v.AppBarNavIcon(class_='mt-1 mb-1 mx-2', )\n",
    "\n",
    "        progress_spinner = v.ProgressCircular(indeterminate=False,\n",
    "                                              class_='mt-2 mb-2 mx-2')\n",
    "\n",
    "        mybutton = v.Btn(class_='icon',\n",
    "                         style_='min-width:100px',\n",
    "                         color='primary',\n",
    "                         children=[v.Icon(children=['mdi-check'])])\n",
    "\n",
    "        cancel_button = v.Btn(class_='icon',\n",
    "                              style_='min-width:100px',\n",
    "                              color='error',\n",
    "                              children=[v.Icon(children=['mdi-cancel'])])\n",
    "\n",
    "        myinputs = v.Container(children=[\n",
    "            *self.inputs,\n",
    "            v.Row(children=[\n",
    "                v.Col(width=6, children=[mybutton]),\n",
    "                v.Col(width=6, children=[cancel_button])\n",
    "            ])\n",
    "        ])\n",
    "\n",
    "        vnd = v.NavigationDrawer(v_model=True,\n",
    "                                 absolute=True,\n",
    "                                 right=False,\n",
    "                                 style_='min-height=800px;',\n",
    "                                 children=[\n",
    "                                     v.Html(tag='div',\n",
    "                                            class_=\"headline\",\n",
    "                                            children=[\"Configuration\"]), myinputs\n",
    "                                 ])\n",
    "\n",
    "\n",
    "        def toggle_drawer(widget, event, data):\n",
    "            vnd.v_model = not vnd.v_model\n",
    "\n",
    "        def get_data(myinputs = self.inputs):\n",
    "            return pd.DataFrame({'a':[1,2,3],'b':[2,3,4]})\n",
    "\n",
    "        def inputs_complete(widget, event, data):\n",
    "            vnd.v_model = not vnd.v_model\n",
    "            progress_spinner.indeterminate = True\n",
    "            try:\n",
    "                df = get_data(myinputs)\n",
    "                for j, i in enumerate(self.outputs):\n",
    "                    output_containers[j].clear_output()\n",
    "                    with output_containers[j]:\n",
    "                        display(self.outputs[i](self.inputs))\n",
    "                progress_spinner.indeterminate = False\n",
    "            except:\n",
    "                return\n",
    "\n",
    "        nav_button.on_event('click', toggle_drawer)\n",
    "        cancel_button.on_event('click', toggle_drawer)\n",
    "        mybutton.on_event('click', inputs_complete)\n",
    "\n",
    "        return v.Container(\n",
    "            class_='mx-auto my-0 py-0',\n",
    "            style_='',\n",
    "            children=[\n",
    "                v.Tabs(\n",
    "                    background_color=\"primary\",\n",
    "                    style_='min-height:600px',\n",
    "                    dark=True,\n",
    "                    children=[\n",
    "                        nav_button,\n",
    "                        v.ToolbarTitle(class_='py-2 px-4', children=[self.app_title]),\n",
    "                        *[v.Tab(children=[i]) for i in self.outputs.keys()],\n",
    "                        *[v.TabItem(children=[i]) for i in output_containers],\n",
    "                        v.Spacer(),\n",
    "                        progress_spinner,\n",
    "                    ]), vnd\n",
    "            ])"
   ]
  },
  {
   "cell_type": "markdown",
   "metadata": {},
   "source": [
    "To Use The App Template, you must define the title of the app  (`app_title`), input configuration (`inputs`), and outputs (`outputs`).\n",
    "\n",
    "* `app_title` - a string formatted title for the app, to be displayed in the menu bar\n",
    "* `inputs` - a list of input widgets\n",
    "* `outputs` - a list of *functions*, with a single input - the list of inputs\n",
    "\n",
    "The outputs are functions, because they will be evaluated and re-evaluated when the submit button in the configuration panel is pressed."
   ]
  },
  {
   "cell_type": "code",
   "execution_count": null,
   "metadata": {},
   "outputs": [
    {
     "data": {
      "application/vnd.jupyter.widget-view+json": {
       "model_id": "b8bee853d90143b5a2522f734d2eb4dd",
       "version_major": 2,
       "version_minor": 0
      },
      "text/plain": [
       "Container(children=[Tabs(background_color='primary', children=[AppBarNavIcon(class_='mt-1 mb-1 mx-2'), Toolbar…"
      ]
     },
     "metadata": {},
     "output_type": "display_data"
    }
   ],
   "source": [
    "def first_output(inputs):\n",
    "    time.sleep(2)\n",
    "    return v.Btn(children=[\"Input Text: \"+inputs[0].v_model])\n",
    "\n",
    "def second_output(inputs):\n",
    "    time.sleep(2)\n",
    "    return v.Btn(children=[\"Input Number: \"+str(inputs[1].v_model)])\n",
    "\n",
    "outputs = {'Tab1': first_output, 'Tab2': second_output}\n",
    "\n",
    "app_title = \"My Title\"\n",
    "\n",
    "inputs = [\n",
    "    input_text(placeholder='Enter text here', label='Text Input', v_model='Some Text 1234!'),\n",
    "    input_number(v_model=100, label='A Numeric Input')\n",
    "]\n",
    "\n",
    "App(inputs=inputs, outputs=outputs, app_title=app_title).show()"
   ]
  },
  {
   "cell_type": "code",
   "execution_count": null,
   "metadata": {},
   "outputs": [
    {
     "name": "stdout",
     "output_type": "stream",
     "text": [
      "Converted 00_inputs.ipynb.\n",
      "Converted 01_outputs.ipynb.\n",
      "Converted 02_app_templates.ipynb.\n",
      "Converted index.ipynb.\n"
     ]
    }
   ],
   "source": [
    "#hide\n",
    "from nbdev.export import notebook2script \n",
    "notebook2script()"
   ]
  },
  {
   "cell_type": "code",
   "execution_count": null,
   "metadata": {},
   "outputs": [],
   "source": []
  }
 ],
 "metadata": {
  "kernelspec": {
   "display_name": "Python3 (vvapp)",
   "language": "python",
   "name": "vvapp"
  }
 },
 "nbformat": 4,
 "nbformat_minor": 4
}
