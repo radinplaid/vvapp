{
 "cells": [
  {
   "cell_type": "code",
   "execution_count": null,
   "metadata": {},
   "outputs": [],
   "source": [
    "# default_exp outputs"
   ]
  },
  {
   "cell_type": "code",
   "execution_count": null,
   "metadata": {},
   "outputs": [],
   "source": [
    "# export\n",
    "import ipyvuetify"
   ]
  },
  {
   "cell_type": "markdown",
   "metadata": {},
   "source": [
    "# vvapp.outputs\n",
    "\n",
    ">  Ipyvuetify Jupyter output widgets with a simplified API"
   ]
  },
  {
   "cell_type": "code",
   "execution_count": null,
   "metadata": {},
   "outputs": [],
   "source": [
    "#hide\n",
    "from nbdev.imports import *\n",
    "from nbdev.showdoc import *"
   ]
  },
  {
   "cell_type": "markdown",
   "metadata": {},
   "source": [
    "## Pandas DataFrame Output"
   ]
  },
  {
   "cell_type": "code",
   "execution_count": null,
   "metadata": {},
   "outputs": [],
   "source": [
    "#export\n",
    "\n",
    "import pandas as pd\n",
    "import traitlets\n",
    "import json\n",
    "\n",
    "class PandasTable(ipyvuetify.VuetifyTemplate):\n",
    "    \"\"\"\n",
    "    Vuetify DataTable rendering of a pandas DataFrame\n",
    "\n",
    "    Args:\n",
    "        data (pandas.DataFrame) - the data to render\n",
    "        title (str) - optional title\n",
    "\n",
    "    Modified from Source: https://jupyter-tutorial.readthedocs.io/de/latest/workspace/jupyter/ipywidgets/libs/ipyvuetify.html\n",
    "    \"\"\"\n",
    "\n",
    "    headers = traitlets.List([]).tag(sync=True, allow_null=True)\n",
    "    items = traitlets.List([]).tag(sync=True, allow_null=True)\n",
    "    search = traitlets.Unicode('').tag(sync=True)\n",
    "    title = traitlets.Unicode('DataFrame').tag(sync=True)\n",
    "    index_col = traitlets.Unicode('').tag(sync=True)\n",
    "    template = traitlets.Unicode('''\n",
    "        <template>\n",
    "          <v-card>\n",
    "            <v-card-title>\n",
    "              <span class=\"title font-weight-bold\">{{ title }}</span>\n",
    "              <v-spacer></v-spacer>\n",
    "                <v-text-field\n",
    "                    v-model=\"search\"\n",
    "                    append-icon=\"search\"\n",
    "                    label=\"Search ...\"\n",
    "                    single-line\n",
    "                    hide-details\n",
    "                ></v-text-field>\n",
    "            </v-card-title>\n",
    "            <v-data-table\n",
    "                :headers=\"headers\"\n",
    "                :items=\"items\"\n",
    "                :search=\"search\"\n",
    "                :item-key=\"index_col\"\n",
    "                :rows-per-page-items=\"[25, 50, 250, 500]\"\n",
    "            >\n",
    "                <template v-slot:no-data>\n",
    "                  <v-alert :value=\"true\" color=\"error\" icon=\"warning\">\n",
    "                    Sorry, nothing to display here :(\n",
    "                  </v-alert>\n",
    "                </template>\n",
    "                <template v-slot:no-results>\n",
    "                    <v-alert :value=\"true\" color=\"warning\" icon=\"warning\">\n",
    "                      Your search for \"{{ search }}\" found no results.\n",
    "                    </v-alert>\n",
    "                </template>\n",
    "                <template v-slot:items=\"rows\">\n",
    "                  <td v-for=\"(element, label, index) in rows.item\"\n",
    "                      @click=cell_click(element)\n",
    "                      >\n",
    "                    {{ element }}\n",
    "                  </td>\n",
    "                </template>\n",
    "            </v-data-table>\n",
    "          </v-card>\n",
    "        </template>\n",
    "        ''').tag(sync=True)\n",
    "\n",
    "    def __init__(self, *args,\n",
    "                 data=pd.DataFrame(),\n",
    "                 title=None,\n",
    "                 **kwargs):\n",
    "        super().__init__(*args, **kwargs)\n",
    "        data = data.reset_index()\n",
    "        self.index_col = data.columns[0]\n",
    "        headers = [{\n",
    "              \"text\": col,\n",
    "              \"value\": col\n",
    "            } for col in data.columns]\n",
    "        headers[0].update({'align': 'left', 'sortable': True})\n",
    "        self.headers = headers\n",
    "        self.items = json.loads(\n",
    "            data.to_json(orient='records'))\n",
    "        if title is not None:\n",
    "            self.title = title"
   ]
  },
  {
   "cell_type": "code",
   "execution_count": null,
   "metadata": {},
   "outputs": [
    {
     "data": {
      "application/vnd.jupyter.widget-view+json": {
       "model_id": "9f12786b82fa4d68b23bd82d4668794b",
       "version_major": 2,
       "version_minor": 0
      },
      "text/plain": [
       "PandasTable(headers=[{'text': 'index', 'value': 'index', 'align': 'left', 'sortable': True}, {'text': 'a', 'va…"
      ]
     },
     "metadata": {},
     "output_type": "display_data"
    }
   ],
   "source": [
    "df = pd.DataFrame({'a':[1,2,3],'b':[2,3,4]})\n",
    "PandasTable(data=df,title='My DataFrame')"
   ]
  },
  {
   "cell_type": "markdown",
   "metadata": {},
   "source": [
    "## Markdown Output"
   ]
  },
  {
   "cell_type": "code",
   "execution_count": null,
   "metadata": {},
   "outputs": [],
   "source": [
    "#export \n",
    "\n",
    "from markdown import markdown as md\n",
    "import ipywidgets\n",
    "def markdown(*args, **kwargs):\n",
    "    \"\"\"\n",
    "    Render input string(s) as markdown\n",
    "\n",
    "    Parameters\n",
    "    *args : str or list of strings\n",
    "        String(s) to render as markdown\n",
    "    **kwargs : any\n",
    "        arguments supported by the markdown class\n",
    "\n",
    "    \"\"\"\n",
    "    return ipywidgets.HTML(\n",
    "        md(\n",
    "            '\\n'.join(args),\n",
    "            **kwargs\n",
    "        )\n",
    "    )"
   ]
  },
  {
   "cell_type": "code",
   "execution_count": null,
   "metadata": {},
   "outputs": [
    {
     "data": {
      "application/vnd.jupyter.widget-view+json": {
       "model_id": "9b5a2d2f6b7f4521ba8f44b94f592c0f",
       "version_major": 2,
       "version_minor": 0
      },
      "text/plain": [
       "HTML(value='<h1>Markdown Title</h1>\\n<h2>Markdown Subtitle</h2>\\n<p>Some body text</p>\\n<ul>\\n<li>a list eleme…"
      ]
     },
     "metadata": {},
     "output_type": "display_data"
    }
   ],
   "source": [
    "markdown(\"\"\"\n",
    "# Markdown Title\n",
    "\n",
    "## Markdown Subtitle\n",
    "\n",
    "Some body text\n",
    "\n",
    "* a list element\n",
    "* another list element\n",
    "\"\"\")"
   ]
  },
  {
   "cell_type": "markdown",
   "metadata": {},
   "source": [
    "## Snackbar"
   ]
  },
  {
   "cell_type": "code",
   "execution_count": null,
   "metadata": {},
   "outputs": [],
   "source": [
    "# export\n",
    "\n",
    "class _InfoSnackbar(ipyvuetify.VuetifyTemplate):\n",
    "    color = traitlets.Unicode(\"primary\").tag(sync=True, allow_null=True)\n",
    "    message = traitlets.Unicode(\"\").tag(sync=True, allow_null=False)\n",
    "    timeout = traitlets.Integer(5000).tag(sync=True, allow_null=True)\n",
    "    active = traitlets.Bool(True).tag(sync=True, allow_null=True)\n",
    "    multi_line = traitlets.Bool(True).tag(sync=True, allow_null=True)\n",
    "\n",
    "    template = traitlets.Unicode(\n",
    "        \"\"\"\n",
    "        <template>\n",
    "            <v-snackbar\n",
    "                v-model=\"active\"\n",
    "                centered=true\n",
    "                :color=\"color\"\n",
    "                elevation=0\n",
    "                :multi-line=\"multi_line\"\n",
    "                :timeout=\"timeout\"\n",
    "            >\n",
    "              {{message}}\n",
    "\n",
    "            <v-btn\n",
    "              color=\"white\"\n",
    "              text\n",
    "              @click=\"active = false\"\n",
    "            >\n",
    "              Close\n",
    "            </v-btn>\n",
    "\n",
    "            </v-snackbar>\n",
    "          </template>\n",
    "\n",
    "        \"\"\"\n",
    "    ).tag(sync=True)\n",
    "\n",
    "    def __init__(\n",
    "        self,\n",
    "        snackbar=False,\n",
    "        message=None,\n",
    "        multi_line=True,\n",
    "        color=\"primary\",\n",
    "        timeout=6000,\n",
    "        active=True,\n",
    "        *args,\n",
    "        **kwargs\n",
    "    ):\n",
    "        super().__init__(*args, **kwargs)\n",
    "        self.color = color\n",
    "        self.timeout = timeout\n",
    "        self.active = active\n",
    "        self.message = message\n",
    "        self.multi_line = multi_line\n",
    "\n",
    "def info_snackbar(snackbar=False,\n",
    "        message=None,\n",
    "        multi_line=True,\n",
    "        color=\"primary\",\n",
    "        timeout=6000,\n",
    "        active=True):\n",
    "    \"\"\"\n",
    "    snackbar widget\n",
    "\n",
    "    Useful for displaying information/messages\n",
    "\n",
    "    message : str\n",
    "        Status message to display\n",
    "    timeout : int, optional default 6000\n",
    "        How long to display the message (in milliseconds)\n",
    "    multi_line : bool, optional default True\n",
    "        Whether the snackbar should be multi-line (or not)\n",
    "    color : str, optional default 'primary'\n",
    "        ipyvuetify color of snackbar\n",
    "        Typical options include ['primary','error','warning','success']\n",
    "    active : bool, optional, default True\n",
    "        Whether to display snackbar\n",
    "        \"\"\"\n",
    "    return _InfoSnackbar(snackbar=snackbar,\n",
    "                        message=message,\n",
    "                        multi_line=multi_line,\n",
    "                        color=color,\n",
    "                        timeout=timeout,\n",
    "                        active=active)"
   ]
  },
  {
   "cell_type": "code",
   "execution_count": null,
   "metadata": {},
   "outputs": [
    {
     "data": {
      "application/vnd.jupyter.widget-view+json": {
       "model_id": "22b90a84ad6447159f88c856a2c82884",
       "version_major": 2,
       "version_minor": 0
      },
      "text/plain": [
       "_InfoSnackbar(color='warning', message='Message text', timeout=4000)"
      ]
     },
     "metadata": {},
     "output_type": "display_data"
    }
   ],
   "source": [
    "info_snackbar(message='Message text', color='warning',timeout=4000, multi_line=True)"
   ]
  },
  {
   "cell_type": "markdown",
   "metadata": {},
   "source": [
    "## Dialog Button"
   ]
  },
  {
   "cell_type": "code",
   "execution_count": null,
   "metadata": {},
   "outputs": [],
   "source": [
    "# export\n",
    "\n",
    "\n",
    "def dialog_button(label='',\n",
    "                  icon='mdi-help',\n",
    "                  _class=\"icon ma-2\",\n",
    "                  _style=\"\",\n",
    "                  color=\"primary\",\n",
    "                  dark=False,\n",
    "                  dialog_width=600,\n",
    "                  dialog_title=\"Dialog Title\",\n",
    "                  dialog_content=\"Dialog Content\",\n",
    "                ):\n",
    "    \"\"\"\n",
    "    Creates a button and activates a dialog on click\n",
    "\n",
    "    Useful to display application documentation/help\n",
    "\n",
    "    Parameters\n",
    "    ----------\n",
    "    icon : str (optional, default None)\n",
    "        Icon to display on button\n",
    "    label : str (optoinal, default None)\n",
    "        Text to display on button\n",
    "    dialog_width : int (optional, default 600)\n",
    "        Width of the dialog in pixels\n",
    "    dialog_title : str (optional, default 'Help Title')\n",
    "        Dialog title\n",
    "    dialog_content : str (optional, default '')\n",
    "        Dialog content in markdown format\n",
    "    color : str (optional, default 'primary')\n",
    "        Color of button\n",
    "    dark : bool\n",
    "        Use dark style\n",
    "    _class : str (optional, default 'icon ma-2')\n",
    "        CSS classes of button\n",
    "    _style: str\n",
    "        CSS style of button\n",
    "    \"\"\"\n",
    "\n",
    "    if icon is None:\n",
    "        icon=''\n",
    "\n",
    "    if label is None:\n",
    "        label=''\n",
    "\n",
    "    dialog_button = ipyvuetify.Btn(\n",
    "        _class_=\"icon ma-2\",\n",
    "        _style='',\n",
    "        color=color,\n",
    "        depressed=True,\n",
    "        dark=dark,\n",
    "        children=[label, ipyvuetify.Icon(children=[icon])],\n",
    "    )\n",
    "\n",
    "    close_dialog_btn = ipyvuetify.Btn(children=[\"Close\"])\n",
    "\n",
    "    dialog_dialog = ipyvuetify.Dialog(\n",
    "        v_model=False,\n",
    "        scrollable=True,\n",
    "        width=dialog_width,\n",
    "        children=[\n",
    "            ipyvuetify.Card(children=[\n",
    "                ipyvuetify.CardTitle(class_=\"headline pa-4\",\n",
    "                                     children=[dialog_title]),\n",
    "                ipyvuetify.Divider(),\n",
    "                ipyvuetify.CardText(\n",
    "                    class_=\"pa-4 text--primary\",\n",
    "                    primary_title=True,\n",
    "                    children=[dialog_content],\n",
    "                ),\n",
    "                ipyvuetify.Divider(),\n",
    "                close_dialog_btn,\n",
    "            ])\n",
    "        ],\n",
    "    )\n",
    "\n",
    "    def open_dialog_dialog(widget, event, data):\n",
    "        dialog_dialog.v_model = True\n",
    "\n",
    "    def close_dialog_dialog(widget, event, data):\n",
    "        dialog_dialog.v_model = False\n",
    "\n",
    "    display(ipyvuetify.Layout(children=[dialog_dialog]))\n",
    "    close_dialog_btn.on_event(\"click\", close_dialog_dialog)\n",
    "    dialog_button.on_event(\"click\", open_dialog_dialog)\n",
    "    return dialog_button"
   ]
  },
  {
   "cell_type": "code",
   "execution_count": null,
   "metadata": {},
   "outputs": [
    {
     "data": {
      "application/vnd.jupyter.widget-view+json": {
       "model_id": "99a48e10ef0348b0840468e25d6f23c7",
       "version_major": 2,
       "version_minor": 0
      },
      "text/plain": [
       "Layout(children=[Dialog(children=[Card(children=[CardTitle(children=['Dialog Title'], class_='headline pa-4'),…"
      ]
     },
     "metadata": {},
     "output_type": "display_data"
    },
    {
     "data": {
      "application/vnd.jupyter.widget-view+json": {
       "model_id": "f96a8cee25224b40b5dfccc3e5276a88",
       "version_major": 2,
       "version_minor": 0
      },
      "text/plain": [
       "Btn(children=['My Button', Icon(children=[''])], color='primary', dark=False, depressed=True)"
      ]
     },
     "metadata": {},
     "output_type": "display_data"
    }
   ],
   "source": [
    "dialog_button(label='My Button',icon=None)"
   ]
  },
  {
   "cell_type": "markdown",
   "metadata": {},
   "source": [
    "## Container"
   ]
  },
  {
   "cell_type": "code",
   "execution_count": null,
   "metadata": {},
   "outputs": [],
   "source": [
    "# export\n",
    "\n",
    "\n",
    "def container(\n",
    "    children=[],\n",
    "    fluid=False,\n",
    "    _class=\"icon ma-2\",\n",
    "    _style=\"\",\n",
    "):\n",
    "    \"\"\"\n",
    "    Creates a button and activates a dialog on click\n",
    "\n",
    "    Useful to display application documentation/help\n",
    "\n",
    "    Parameters\n",
    "    ----------\n",
    "    children : list\n",
    "        List of elements to display in container\n",
    "    fluid : bool (default False)\n",
    "        Removes viewport maximum-width size breakpoints\n",
    "    _class : str (optional, default 'icon ma-2')\n",
    "        CSS classes of button\n",
    "    _style: str\n",
    "        CSS style of button\n",
    "    \"\"\"\n",
    "\n",
    "    ret = ipyvuetify.Container(\n",
    "        _class_=_class,\n",
    "        _style=_style,\n",
    "        children=children,\n",
    "        fluid=fluid,\n",
    "    )\n",
    "\n",
    "    return ret"
   ]
  },
  {
   "cell_type": "code",
   "execution_count": null,
   "metadata": {},
   "outputs": [
    {
     "data": {
      "application/vnd.jupyter.widget-view+json": {
       "model_id": "028b2b0e0e3842e7a895f184376eb98d",
       "version_major": 2,
       "version_minor": 0
      },
      "text/plain": [
       "Container(children=[Btn(children=['Red'], color='red', dark=False, fab=False, large=False, outlined=False, rou…"
      ]
     },
     "metadata": {},
     "output_type": "display_data"
    }
   ],
   "source": [
    "from vvapp.inputs import button\n",
    "container(fluid=False,\n",
    "          children=[\n",
    "              button(color='red', label='Red'),\n",
    "              button(color='blue', label='Blue'),\n",
    "              button(color='green', label='Green')\n",
    "          ])"
   ]
  },
  {
   "cell_type": "markdown",
   "metadata": {},
   "source": [
    "## Row"
   ]
  },
  {
   "cell_type": "code",
   "execution_count": null,
   "metadata": {},
   "outputs": [],
   "source": [
    "# export\n",
    "\n",
    "\n",
    "def row(\n",
    "    children=[],\n",
    "    align=None,\n",
    "    align_content=None,\n",
    "    justify=None,\n",
    "    dense=False,\n",
    "    no_gutters=False,\n",
    "    _class=\"\",\n",
    "    _style=\"\",\n",
    "):\n",
    "    \"\"\"\n",
    "    Create a row output container\n",
    "\n",
    "    For details see: https://vuetifyjs.com/en/components/grids/\n",
    "\n",
    "    Parameters\n",
    "    ----------\n",
    "    children : list (default [])\n",
    "        List of elements to display in container\n",
    "    align : str (default None)\n",
    "        Applies the align-items css property. Available options are start, center, end, baseline and stretch.\n",
    "    align_content : str (default None)\n",
    "        Applies the align-content css property. Available options are start, center, end, space-between, space-around and stretch.\n",
    "    justify : str (default None)\n",
    "        Applies the justify-content css property. Available options are start, center, end, space-between and space-around.\n",
    "    dense : bool (default False)\n",
    "        Reduces the gutter between v-cols.\n",
    "    no_gutters : bool (default False)\n",
    "        Removes the gutter between v-cols.\n",
    "    _class : str (optional, default 'icon ma-2')\n",
    "        CSS classes of button\n",
    "    _style: str\n",
    "        CSS style of button\n",
    "    \"\"\"\n",
    "\n",
    "    ret = ipyvuetify.Row(\n",
    "        children=children,\n",
    "        align=align,\n",
    "        align_content=align_content,\n",
    "        justify=justify,\n",
    "        dense=dense,\n",
    "        no_gutters=no_gutters,\n",
    "        _class_=_class,\n",
    "        _style=_style,\n",
    "    )\n",
    "\n",
    "    return ret"
   ]
  },
  {
   "cell_type": "code",
   "execution_count": null,
   "metadata": {},
   "outputs": [
    {
     "data": {
      "application/vnd.jupyter.widget-view+json": {
       "model_id": "d9c7d431d45b414d8b3e6d6021d5c688",
       "version_major": 2,
       "version_minor": 0
      },
      "text/plain": [
       "Container(children=[Row(children=[Btn(children=['Red'], color='red', dark=False, fab=False, large=False, outli…"
      ]
     },
     "metadata": {},
     "output_type": "display_data"
    }
   ],
   "source": [
    "from vvapp.inputs import button\n",
    "container(children=[\n",
    "    row(children=[button(color='red', label='Red')]),\n",
    "    row(children=[button(color='blue', label='Blue')]),\n",
    "    row(children=[button(color='green', label='Green')])\n",
    "])"
   ]
  },
  {
   "cell_type": "markdown",
   "metadata": {},
   "source": [
    "## Column"
   ]
  },
  {
   "cell_type": "code",
   "execution_count": null,
   "metadata": {},
   "outputs": [],
   "source": [
    "# export\n",
    "\n",
    "\n",
    "def column(\n",
    "    children=[],\n",
    "    cols=None,\n",
    "    offset=None,\n",
    "    order=None,\n",
    "    align_self=None,\n",
    "    class_=\"\",\n",
    "    style_=\"\",\n",
    "):\n",
    "    \"\"\"\n",
    "    Create a column output container\n",
    "\n",
    "    For details see: https://vuetifyjs.com/en/components/grids/\n",
    "\n",
    "    Parameters\n",
    "    ----------\n",
    "    children : list (default [])\n",
    "        List of elements to display in container\n",
    "    cols : None, str, int\n",
    "        Sets the default number of columns the component extends. Available options are 1 -> 12 and auto.\n",
    "    offset : None, str, int\n",
    "        Sets the default offset for the column.\n",
    "    order: None\n",
    "        Sets the default order for the column.\n",
    "    align_self : None, str, int\n",
    "        Applies the align-items css property. Available options are start, center, end, auto, baseline and stretch. See https://developer.mozilla.org/en-US/docs/Web/CSS/align-items\n",
    "    class_ : str (optional, default 'icon ma-2')\n",
    "        CSS classes of button\n",
    "    style_: str\n",
    "        CSS style of button\n",
    "    \"\"\"\n",
    "\n",
    "    ret = ipyvuetify.Col(\n",
    "        children=children,\n",
    "        cols=cols,\n",
    "        offset=offset,\n",
    "        order=order,\n",
    "        align_self=align_self,\n",
    "        class_=class_,\n",
    "        style_=style_,\n",
    "        justify_space_between=True,\n",
    "    )\n",
    "\n",
    "    return ret"
   ]
  },
  {
   "cell_type": "code",
   "execution_count": null,
   "metadata": {},
   "outputs": [
    {
     "data": {
      "application/vnd.jupyter.widget-view+json": {
       "model_id": "6cf1a0c8e9d54d9d8b96c4aa196a3b41",
       "version_major": 2,
       "version_minor": 0
      },
      "text/plain": [
       "Row(children=[Col(children=[Btn(children=['Red'], color='red', dark=False, fab=False, large=False, outlined=Fa…"
      ]
     },
     "metadata": {},
     "output_type": "display_data"
    }
   ],
   "source": [
    "from vvapp.inputs import button\n",
    "row(children=[\n",
    "    column(order=1, cols=4, children=[button(color='red', label='Red')]),\n",
    "    column(order=0, cols=4, children=[button(color='blue', label='Blue')]),\n",
    "    column(order=2, cols=4, children=[button(color='green', label='Green')])\n",
    "])"
   ]
  },
  {
   "cell_type": "code",
   "execution_count": null,
   "metadata": {},
   "outputs": [
    {
     "name": "stdout",
     "output_type": "stream",
     "text": [
      "Converted 00_inputs.ipynb.\n",
      "Converted 01_outputs.ipynb.\n",
      "Converted index.ipynb.\n"
     ]
    }
   ],
   "source": [
    "#hide\n",
    "from nbdev.export import notebook2script \n",
    "notebook2script()"
   ]
  }
 ],
 "metadata": {
  "kernelspec": {
   "display_name": "Python 3",
   "language": "python",
   "name": "python3"
  }
 },
 "nbformat": 4,
 "nbformat_minor": 2
}
