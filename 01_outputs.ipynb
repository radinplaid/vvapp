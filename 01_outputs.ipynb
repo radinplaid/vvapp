{
 "cells": [
  {
   "cell_type": "code",
   "execution_count": null,
   "metadata": {},
   "outputs": [],
   "source": [
    "# export\n",
    "import ipyvuetify\n",
    "from nbdev.imports import *"
   ]
  },
  {
   "cell_type": "code",
   "execution_count": null,
   "metadata": {},
   "outputs": [],
   "source": [
    "# default_exp outputs"
   ]
  },
  {
   "cell_type": "code",
   "execution_count": null,
   "metadata": {},
   "outputs": [],
   "source": [
    "#hide\n",
    "from nbdev.showdoc import *"
   ]
  },
  {
   "cell_type": "markdown",
   "metadata": {},
   "source": [
    "# vvapp.outputs\n",
    "\n",
    ">  Ipyvuetify Jupyter output widgets with a simplified API"
   ]
  },
  {
   "cell_type": "markdown",
   "metadata": {},
   "source": [
    "## Pandas DataFrame Output"
   ]
  },
  {
   "cell_type": "code",
   "execution_count": null,
   "metadata": {},
   "outputs": [],
   "source": [
    "#export\n",
    "\n",
    "import pandas as pd\n",
    "import traitlets\n",
    "import ipyvuetify as v\n",
    "import json\n",
    "\n",
    "class PandasTable(v.VuetifyTemplate):\n",
    "    \"\"\"\n",
    "    Vuetify DataTable rendering of a pandas DataFrame\n",
    "\n",
    "    Args:\n",
    "        data (pandas.DataFrame) - the data to render\n",
    "        title (str) - optional title\n",
    "        \n",
    "    Modified from Source: https://jupyter-tutorial.readthedocs.io/de/latest/workspace/jupyter/ipywidgets/libs/ipyvuetify.html\n",
    "    \"\"\"\n",
    "\n",
    "    headers = traitlets.List([]).tag(sync=True, allow_null=True)\n",
    "    items = traitlets.List([]).tag(sync=True, allow_null=True)\n",
    "    search = traitlets.Unicode('').tag(sync=True)\n",
    "    title = traitlets.Unicode('DataFrame').tag(sync=True)\n",
    "    index_col = traitlets.Unicode('').tag(sync=True)\n",
    "    template = traitlets.Unicode('''\n",
    "        <template>\n",
    "          <v-card>\n",
    "            <v-card-title>\n",
    "              <span class=\"title font-weight-bold\">{{ title }}</span>\n",
    "              <v-spacer></v-spacer>\n",
    "                <v-text-field\n",
    "                    v-model=\"search\"\n",
    "                    append-icon=\"search\"\n",
    "                    label=\"Search ...\"\n",
    "                    single-line\n",
    "                    hide-details\n",
    "                ></v-text-field>\n",
    "            </v-card-title>\n",
    "            <v-data-table\n",
    "                :headers=\"headers\"\n",
    "                :items=\"items\"\n",
    "                :search=\"search\"\n",
    "                :item-key=\"index_col\"\n",
    "                :rows-per-page-items=\"[25, 50, 250, 500]\"\n",
    "            >\n",
    "                <template v-slot:no-data>\n",
    "                  <v-alert :value=\"true\" color=\"error\" icon=\"warning\">\n",
    "                    Sorry, nothing to display here :(\n",
    "                  </v-alert>\n",
    "                </template>\n",
    "                <template v-slot:no-results>\n",
    "                    <v-alert :value=\"true\" color=\"warning\" icon=\"warning\">\n",
    "                      Your search for \"{{ search }}\" found no results.\n",
    "                    </v-alert>\n",
    "                </template>\n",
    "                <template v-slot:items=\"rows\">\n",
    "                  <td v-for=\"(element, label, index) in rows.item\"\n",
    "                      @click=cell_click(element)\n",
    "                      >\n",
    "                    {{ element }}\n",
    "                  </td>\n",
    "                </template>\n",
    "            </v-data-table>\n",
    "          </v-card>\n",
    "        </template>\n",
    "        ''').tag(sync=True)\n",
    "\n",
    "    def __init__(self, *args,\n",
    "                 data=pd.DataFrame(),\n",
    "                 title=None,\n",
    "                 **kwargs):\n",
    "        super().__init__(*args, **kwargs)\n",
    "        data = data.reset_index()\n",
    "        self.index_col = data.columns[0]\n",
    "        headers = [{\n",
    "              \"text\": col,\n",
    "              \"value\": col\n",
    "            } for col in data.columns]\n",
    "        headers[0].update({'align': 'left', 'sortable': True})\n",
    "        self.headers = headers\n",
    "        self.items = json.loads(\n",
    "            data.to_json(orient='records'))\n",
    "        if title is not None:\n",
    "            self.title = title\n"
   ]
  },
  {
   "cell_type": "code",
   "execution_count": null,
   "metadata": {},
   "outputs": [
    {
     "data": {
      "application/vnd.jupyter.widget-view+json": {
       "model_id": "5aace68e1e15422490326f535dcad88a",
       "version_major": 2,
       "version_minor": 0
      },
      "text/plain": [
       "PandasTable(headers=[{'text': 'index', 'value': 'index', 'align': 'left', 'sortable': True}, {'text': 'a', 'va…"
      ]
     },
     "metadata": {},
     "output_type": "display_data"
    }
   ],
   "source": [
    "df = pd.DataFrame({'a':[1,2,3],'b':[2,3,4]})\n",
    "PandasTable(data=df,title='My DataFrame')"
   ]
  },
  {
   "cell_type": "markdown",
   "metadata": {},
   "source": [
    "## Markdown Output"
   ]
  },
  {
   "cell_type": "code",
   "execution_count": null,
   "metadata": {},
   "outputs": [],
   "source": [
    "#export \n",
    "\n",
    "from markdown import markdown as md\n",
    "import ipywidgets\n",
    "def markdown(*args, **kwargs):\n",
    "    \"\"\"\n",
    "    Render input string(s) as markdown\n",
    "    \n",
    "    Parameters\n",
    "    *args : str or list of strings\n",
    "        String(s) to render as markdown\n",
    "    **kwargs : any\n",
    "        arguments supported by the markdown class\n",
    "    \n",
    "    \"\"\"\n",
    "    return ipywidgets.HTML(\n",
    "        md(\n",
    "            '\\n'.join(args),\n",
    "            **kwargs\n",
    "        )\n",
    "    )"
   ]
  },
  {
   "cell_type": "code",
   "execution_count": null,
   "metadata": {},
   "outputs": [
    {
     "data": {
      "application/vnd.jupyter.widget-view+json": {
       "model_id": "1eff357b73ca4a409fe81e5effd5f21c",
       "version_major": 2,
       "version_minor": 0
      },
      "text/plain": [
       "HTML(value='<h1>Markdown Title</h1>\\n<h2>Markdown Subtitle</h2>\\n<p>Some body text</p>\\n<ul>\\n<li>a list eleme…"
      ]
     },
     "metadata": {},
     "output_type": "display_data"
    }
   ],
   "source": [
    "markdown(\"\"\"\n",
    "# Markdown Title\n",
    "\n",
    "## Markdown Subtitle\n",
    "\n",
    "Some body text\n",
    "\n",
    "* a list element\n",
    "* another list element\n",
    "\"\"\")"
   ]
  },
  {
   "cell_type": "markdown",
   "metadata": {},
   "source": [
    "## Snackbar"
   ]
  },
  {
   "cell_type": "code",
   "execution_count": null,
   "metadata": {},
   "outputs": [],
   "source": [
    "# export\n",
    "\n",
    "class _InfoSnackbar(v.VuetifyTemplate):\n",
    "    color = traitlets.Unicode(\"primary\").tag(sync=True, allow_null=True)\n",
    "    message = traitlets.Unicode(\"\").tag(sync=True, allow_null=False)\n",
    "    timeout = traitlets.Integer(5000).tag(sync=True, allow_null=True)\n",
    "    active = traitlets.Bool(True).tag(sync=True, allow_null=True)\n",
    "    multi_line = traitlets.Bool(True).tag(sync=True, allow_null=True)\n",
    "\n",
    "    template = traitlets.Unicode(\n",
    "        \"\"\"\n",
    "        <template>\n",
    "          <div class=\"text-center\">\n",
    "            <v-snackbar\n",
    "                v-model=\"active\"\n",
    "                :color=\"color\"\n",
    "                :multi-line=\"multi_line\"\n",
    "                :timeout=\"timeout\"\n",
    "            >\n",
    "              {{message}}\n",
    "              \n",
    "            <v-btn\n",
    "              color=\"white\"\n",
    "              text\n",
    "              @click=\"active = false\"\n",
    "            >\n",
    "              Close\n",
    "            </v-btn>\n",
    "        \n",
    "            </v-snackbar>\n",
    "          </div>\n",
    "          </template>\n",
    "\n",
    "        \"\"\"\n",
    "    ).tag(sync=True)\n",
    "\n",
    "    def __init__(\n",
    "        self,\n",
    "        snackbar=False,\n",
    "        message=None,\n",
    "        multi_line=True,\n",
    "        color=\"primary\",\n",
    "        timeout=6000,\n",
    "        active=True,\n",
    "        *args,\n",
    "        **kwargs\n",
    "    ):\n",
    "        super().__init__(*args, **kwargs)\n",
    "        self.color = color\n",
    "        self.timeout = timeout\n",
    "        self.active = active\n",
    "        self.message = message\n",
    "        self.multi_line = multi_line\n",
    "\n",
    "def info_snackbar(snackbar=False,\n",
    "        message=None,\n",
    "        multi_line=True,\n",
    "        color=\"primary\",\n",
    "        timeout=6000,\n",
    "        active=True):\n",
    "    \"\"\"\n",
    "    snackbar widget\n",
    "    \n",
    "    Useful for displaying information/messages\n",
    "\n",
    "    message : str\n",
    "        Status message to display\n",
    "    timeout : int, optional default 6000\n",
    "        How long to display the message (in milliseconds)\n",
    "    multi_line : bool, optional default True\n",
    "        Whether the snackbar should be multi-line (or not)\n",
    "    color : str, optional default 'primary'\n",
    "        ipyvuetify color of snackbar\n",
    "        Typical options include ['primary','error','warning','success']\n",
    "    active : bool, optional, default True\n",
    "        Whether to display snackbar\n",
    "        \"\"\"\n",
    "    return _InfoSnackbar(snackbar=snackbar, \n",
    "                        message=message,\n",
    "                        multi_line=multi_line,\n",
    "                        color=color,\n",
    "                        timeout=timeout,\n",
    "                        active=active)"
   ]
  },
  {
   "cell_type": "code",
   "execution_count": null,
   "metadata": {},
   "outputs": [
    {
     "data": {
      "application/vnd.jupyter.widget-view+json": {
       "model_id": "95cfce822c394090bb394b11af05708e",
       "version_major": 2,
       "version_minor": 0
      },
      "text/plain": [
       "_InfoSnackbar(color='warning', message='Message text', timeout=4000)"
      ]
     },
     "metadata": {},
     "output_type": "display_data"
    }
   ],
   "source": [
    "info_snackbar(message='Message text', color='warning',timeout=4000)\n"
   ]
  },
  {
   "cell_type": "code",
   "execution_count": null,
   "metadata": {},
   "outputs": [
    {
     "name": "stdout",
     "output_type": "stream",
     "text": [
      "Converted 00_inputs.ipynb.\n",
      "Converted 01_outputs.ipynb.\n",
      "Converted index.ipynb.\n"
     ]
    }
   ],
   "source": [
    "#hide\n",
    "from nbdev.export import notebook2script \n",
    "notebook2script()"
   ]
  },
  {
   "cell_type": "code",
   "execution_count": null,
   "metadata": {},
   "outputs": [],
   "source": []
  }
 ],
 "metadata": {
  "kernelspec": {
   "display_name": "Python 3",
   "language": "python",
   "name": "python3"
  }
 },
 "nbformat": 4,
 "nbformat_minor": 2
}
