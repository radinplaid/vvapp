{
 "cells": [
  {
   "cell_type": "code",
   "execution_count": null,
   "metadata": {},
   "outputs": [],
   "source": [
    "# export\n",
    "import traitlets\n",
    "import json\n",
    "import base64\n",
    "import ipyvuetify\n",
    "import ipywidgets\n",
    "from nbdev.imports import *\n",
    "import pandas as pd\n",
    "from markdown import markdown\n",
    "from vvapp.inputs import *"
   ]
  },
  {
   "cell_type": "code",
   "execution_count": null,
   "metadata": {},
   "outputs": [],
   "source": [
    "# default_exp outputs"
   ]
  },
  {
   "cell_type": "code",
   "execution_count": null,
   "metadata": {},
   "outputs": [],
   "source": [
    "# export\n",
    "import ipyvuetify"
   ]
  },
  {
   "cell_type": "markdown",
   "metadata": {},
   "source": [
    "# vvapp.outputs\n",
    "\n",
    ">  Ipyvuetify Jupyter output widgets with a simplified API"
   ]
  },
  {
   "cell_type": "code",
   "execution_count": null,
   "metadata": {},
   "outputs": [],
   "source": [
    "#hide\n",
    "from nbdev.imports import *\n",
    "from nbdev.showdoc import *"
   ]
  },
  {
   "cell_type": "markdown",
   "metadata": {},
   "source": [
    "## Pandas DataFrame Output"
   ]
  },
  {
   "cell_type": "code",
   "execution_count": null,
   "metadata": {},
   "outputs": [
    {
     "data": {
      "application/vnd.jupyter.widget-view+json": {
       "model_id": "602952959fb94b58bef9a3f349b46289",
       "version_major": 2,
       "version_minor": 0
      },
      "text/plain": [
       "Card(children=[VBox(children=(VuetifyTable_pandas_df(dense=True, headers=[{'text': 'index', 'value': 'index', …"
      ]
     },
     "metadata": {},
     "output_type": "display_data"
    }
   ],
   "source": [
    "\n",
    "\n",
    "def df2download(htmlWidget, filename, df):\n",
    "    \"\"\"  Convert a pandas dataframe to a downloadaable link\n",
    "\n",
    "\n",
    "    htmlWidget:  html ipywidget\n",
    "    filename:  str,  Name of csv file\n",
    "    df: pandas dataframe\n",
    "\n",
    "    For example:\n",
    "        htmlWidget = widgets.HTML(value = '')\n",
    "        htmlWidget\n",
    "\n",
    "        df2download(htmlWidget, 'selectedRows.csv', test.get_selected_df())\n",
    "\n",
    "    \"\"\"\n",
    "    if isinstance(df, pd.DataFrame):\n",
    "        payload = base64.b64encode(df.to_csv().encode()).decode()\n",
    "\n",
    "        # Create and assign html to widget\n",
    "        html = '<a download=\"{filename}\" href=\"data:text/csv;base64,{payload}\" target=\"_blank\">{title}</a>'\n",
    "        #     html = '<button type=\"button\">Click Me!</button><download=\"{filename}\" href=\"data:text/csv;base64,{payload}\" target=\"_blank\">{title}</a>'\n",
    "        htmlWidget.value = html.format(payload=payload,\n",
    "                                       title=filename,\n",
    "                                       filename=filename)\n",
    "    else:\n",
    "        htmlWidget.value = ''\n",
    "\n",
    "\n",
    "class VuetifyTable_pandas_df(ipyvuetify.VuetifyTemplate):\n",
    "    \"\"\"\n",
    "    Vuetify DataTable rendering of a pandas DataFrame with similar methods to QGrid\n",
    "    \n",
    "    Args:\n",
    "        data (DataFrame) - the data to render\n",
    "        title (str) - optional title\n",
    "        multiple (Bool) - True (default) enables multiple line selection\n",
    "        dense (Bool) - True (default) enables dense rendering of table\n",
    "\n",
    "\n",
    "\n",
    "    Example:\n",
    "\n",
    "        import pandas as pd\n",
    "\n",
    "        iris = pd.read_csv('https://raw.githubusercontent.com/mwaskom/seaborn-data/master/iris.csv')\n",
    "        test = VuetifyTable_pandas_df(df = iris)\n",
    "\n",
    "        test.title = 'sdvsd'\n",
    "        test.multiple = True\n",
    "        test.dense = True\n",
    "\n",
    "        def onChange_table(change,widget):\n",
    "        #     print(change['new'])\n",
    "            print(widget.value)\n",
    "\n",
    "        test.observe(onChange_table,'value',test)\n",
    "\n",
    "        test.get_selected_df()\n",
    "\n",
    "        test.get_selected_rows()\n",
    "\n",
    "    \"\"\"\n",
    "\n",
    "    headers = traitlets.List([]).tag(sync=True, allow_null=True)\n",
    "    items = traitlets.List([]).tag(sync=True, allow_null=True)\n",
    "    value = traitlets.List([]).tag(sync=True, allow_null=True)\n",
    "    search = traitlets.Unicode('').tag(sync=True)\n",
    "    title = traitlets.Unicode('').tag(sync=True)\n",
    "    index_col = traitlets.Unicode('').tag(sync=True)\n",
    "    base64_data = traitlets.Unicode('').tag(sync=True)\n",
    "    multiple = traitlets.Bool(False).tag(sync=True)\n",
    "    show_select = traitlets.Bool(False).tag(sync=True)\n",
    "    dense = traitlets.Bool(False).tag(sync=True)\n",
    "    template = traitlets.Unicode('''\n",
    "        <template>\n",
    "          <v-card>\n",
    "            <v-card-title>\n",
    "              <span class=\"title font-weight-bold\">{{ title }}</span>\n",
    "              <v-spacer></v-spacer>\n",
    "                    <v-text-field\n",
    "                    v-model=\"search\"\n",
    "                    append-icon=\"mdi-magnify\"\n",
    "                    label=\"Search ...\"\n",
    "                    single-line\n",
    "                    hide-details\n",
    "                ></v-text-field>\n",
    "                    \n",
    "            </v-card-title>\n",
    "            <v-data-table\n",
    "                :headers=\"headers\"\n",
    "                :items=\"items\"\n",
    "                :search=\"search\"\n",
    "                :item-key=\"index_col\"\n",
    "                :single-select=\"multiple\"\n",
    "                :dense =\"dense\"\n",
    "                :show-select=\"show_select\"\n",
    "                v-model=\"value\"\n",
    "                \n",
    "                \n",
    "    :footer-props=\"{\n",
    "      showFirstLastPage: true,\n",
    "      firstIcon: 'mdi-arrow-collapse-left',\n",
    "      lastIcon: 'mdi-arrow-collapse-right',\n",
    "      prevIcon: 'mdi-minus',\n",
    "      nextIcon: 'mdi-plus',\n",
    "      \n",
    "    }\"            >\n",
    "                <template v-slot:no-data>\n",
    "                  <v-alert :value=\"true\" color=\"error\" icon=\"mdi-alert\">\n",
    "                    Sorry, nothing to display here :(\n",
    "                  </v-alert>\n",
    "                </template>\n",
    "                <template v-slot:no-results>\n",
    "                    <v-alert :value=\"true\" color=\"error\" icon=\"mdi-alert\">\n",
    "                      Your search for \"{{ search }}\" found no results.\n",
    "                    </v-alert>\n",
    "                </template>\n",
    "                <template v-slot:items=\"rows\">\n",
    "                  <td v-for=\"(element, label, index) in rows.item\"\n",
    "                      @click=cell_click(element)\n",
    "                      >\n",
    "                    {{ element }}\n",
    "                  </td>\n",
    "                </template>\n",
    "            </v-data-table>\n",
    "          </v-card>\n",
    "        </template>\n",
    "        ''').tag(sync=True)\n",
    "\n",
    "    def __init__(self,\n",
    "                 *args,\n",
    "                 df=pd.DataFrame(),\n",
    "                 title=None,\n",
    "                 multiple=True,\n",
    "                 dense=False,\n",
    "                 **kwargs):\n",
    "        super().__init__(*args, **kwargs)\n",
    "        df = df.reset_index()\n",
    "        self.index_col = df.columns[0]\n",
    "        headers = [{\"text\": col, \"value\": col} for col in df.columns]\n",
    "        headers[0].update({'align': 'left', 'sortable': True})\n",
    "        self.headers = headers\n",
    "        self.items = json.loads(df.to_json(orient='records'))\n",
    "        if title is not None:\n",
    "            self.title = title\n",
    "\n",
    "        self.dense = dense\n",
    "        self.multiple = multiple\n",
    "\n",
    "        self.htmlWidget = ipywidgets.HTML(value='')\n",
    "        self.observe(self.onChange_table)\n",
    "        self.base64_data=\"\"\n",
    "\n",
    "        # Combine table and widgets\n",
    "        self.widgets = ipyvuetify.Card(children=[\n",
    "            ipywidgets.VBox([\n",
    "                self,\n",
    "                ipyvuetify.Row(children=[\n",
    "                    ipyvuetify.Tooltip(\n",
    "                        bottom=True,\n",
    "                        v_slots=[{\n",
    "                            'name':'activator',\n",
    "                            'variable':'tooltip',\n",
    "                            'children':\n",
    "                            ipyvuetify.Btn(v_on='tooltip.on',\n",
    "                                           color='primary',\n",
    "                                           class_='ma-3',\n",
    "                                           icon=True,\n",
    "                                           children=[\n",
    "                                               ipyvuetify.Icon(\n",
    "                                                   centre=True,\n",
    "                                                   medium=True,\n",
    "                                                   children=['mdi-information'])\n",
    "                                           ])\n",
    "                        }],\n",
    "                        children=[\n",
    "                            'Click the link to the right to download table as CSV'\n",
    "                        ]), self.htmlWidget\n",
    "                ],\n",
    "                               align=\"center\",\n",
    "                               justify=\"left\")\n",
    "            ])\n",
    "        ])\n",
    "\n",
    "    def get_selected_df(self):\n",
    "        df = pd.DataFrame.from_dict(self.items)\n",
    "        df = df.set_index('index')\n",
    "        df.base64_data = base64.b64encode(df.to_csv().encode()).decode()\n",
    "        return df\n",
    "\n",
    "    def get_selected_rows(self):\n",
    "        return [dictionary['index'] for dictionary in self.value]\n",
    "\n",
    "    def onChange_table(self, change):\n",
    "        df2download(self.htmlWidget, 'download_data.csv',\n",
    "                    self.get_selected_df())\n",
    "\n",
    "\n",
    "#penguins = pd.read_csv(\n",
    "#    'https://raw.githubusercontent.com/mwaskom/seaborn-data/master/penguins.csv')\n",
    "penguins = pd.DataFrame({'a':[1,2,3],'b':[2,3,4]})\n",
    "test = VuetifyTable_pandas_df(df=penguins)\n",
    "test.title = 'Penguins Data'\n",
    "test.multiple = False\n",
    "test.dense = True\n",
    "\n",
    "\n",
    "# example function when table changes\n",
    "#def onChange_table(change, widget):\n",
    "#    print(widget.value)\n",
    "\n",
    "#test.observe(\n",
    "#    onChange_table,\n",
    "##    'value',\n",
    "#   test,\n",
    "#)\n",
    "\n",
    "test.widgets"
   ]
  },
  {
   "cell_type": "code",
   "execution_count": null,
   "metadata": {},
   "outputs": [],
   "source": [
    "#export\n",
    "\n",
    "class output_pandas_table(ipyvuetify.VuetifyTemplate):\n",
    "    \"\"\"\n",
    "    Vuetify DataTable rendering of a pandas DataFrame\n",
    "\n",
    "    Args:\n",
    "        data (pandas.DataFrame) - the data to render\n",
    "        title (str) - optional title\n",
    "\n",
    "    Modified from Source: https://jupyter-tutorial.readthedocs.io/de/latest/workspace/jupyter/ipywidgets/libs/ipyvuetify.html\n",
    "    \"\"\"\n",
    "\n",
    "    headers = traitlets.List([]).tag(sync=True, allow_null=True)\n",
    "    items = traitlets.List([]).tag(sync=True, allow_null=True)\n",
    "    search = traitlets.Unicode('').tag(sync=True)\n",
    "    title = traitlets.Unicode('DataFrame').tag(sync=True)\n",
    "    index_col = traitlets.Unicode('').tag(sync=True)\n",
    "    template = traitlets.Unicode('''\n",
    "        <template>\n",
    "          <v-card>\n",
    "            <v-card-title>\n",
    "              <span class=\"title font-weight-bold\">{{ title }}</span>\n",
    "              <v-spacer></v-spacer>\n",
    "                <v-text-field\n",
    "                    v-model=\"search\"\n",
    "                    append-icon=\"search\"\n",
    "                    label=\"Search ...\"\n",
    "                    single-line\n",
    "                    hide-details\n",
    "                ></v-text-field>\n",
    "            </v-card-title>\n",
    "            <v-data-table\n",
    "                :headers=\"headers\"\n",
    "                :items=\"items\"\n",
    "                :search=\"search\"\n",
    "                :item-key=\"index_col\"\n",
    "                :rows-per-page-items=\"[25, 50, 250, 500]\"\n",
    "                multiple\n",
    "            >\n",
    "                <template v-slot:no-data>\n",
    "                  <v-alert :value=\"true\" color=\"error\" icon=\"warning\">\n",
    "                    Sorry, nothing to display here :(\n",
    "                  </v-alert>\n",
    "                </template>\n",
    "                <template v-slot:no-results>\n",
    "                    <v-alert :value=\"true\" color=\"warning\" icon=\"warning\">\n",
    "                      Your search for \"{{ search }}\" found no results.\n",
    "                    </v-alert>\n",
    "                </template>\n",
    "                <template v-slot:items=\"rows\">\n",
    "                  <td v-for=\"(element, label, index) in rows.item\"\n",
    "                      @click=cell_click(element)\n",
    "                      >\n",
    "                    {{ element }}\n",
    "                  </td>\n",
    "                </template>\n",
    "            </v-data-table>\n",
    "          </v-card>\n",
    "        </template>\n",
    "        ''').tag(sync=True)\n",
    "\n",
    "    def __init__(self, *args,\n",
    "                 data=pd.DataFrame(),\n",
    "                 title=None,\n",
    "                 **kwargs):\n",
    "        super().__init__(*args, **kwargs)\n",
    "        data = data.reset_index()\n",
    "        self.index_col = data.columns[0]\n",
    "        headers = [{\n",
    "              \"text\": col,\n",
    "              \"value\": col\n",
    "            } for col in data.columns]\n",
    "        headers[0].update({'align': 'left', 'sortable': True})\n",
    "        self.headers = headers\n",
    "        self.items = json.loads(\n",
    "            data.to_json(orient='records'))\n",
    "        if title is not None:\n",
    "            self.title = title"
   ]
  },
  {
   "cell_type": "code",
   "execution_count": null,
   "metadata": {},
   "outputs": [
    {
     "data": {
      "application/vnd.jupyter.widget-view+json": {
       "model_id": "e0f19b5efb354030a0b3b4a7ef8a563f",
       "version_major": 2,
       "version_minor": 0
      },
      "text/plain": [
       "output_pandas_table(headers=[{'text': 'index', 'value': 'index', 'align': 'left', 'sortable': True}, {'text': …"
      ]
     },
     "metadata": {},
     "output_type": "display_data"
    }
   ],
   "source": [
    "df = pd.DataFrame({'a':[1,2,3],'b':[2,3,4]})\n",
    "output_pandas_table(data=df,title='My DataFrame')"
   ]
  },
  {
   "cell_type": "markdown",
   "metadata": {},
   "source": [
    "## Markdown Output"
   ]
  },
  {
   "cell_type": "code",
   "execution_count": null,
   "metadata": {},
   "outputs": [],
   "source": [
    "#export \n",
    "\n",
    "def output_markdown(*args, **kwargs):\n",
    "    \"\"\"\n",
    "    Render input string(s) as markdown\n",
    "\n",
    "    Parameters\n",
    "    *args : str or list of strings\n",
    "        String(s) to render as markdown\n",
    "    **kwargs : any\n",
    "        arguments supported by the markdown class\n",
    "\n",
    "    \"\"\"\n",
    "    return ipywidgets.HTML(\n",
    "        markdown(\n",
    "            '\\n'.join(args),\n",
    "            **kwargs\n",
    "        )\n",
    "    )"
   ]
  },
  {
   "cell_type": "code",
   "execution_count": null,
   "metadata": {},
   "outputs": [
    {
     "data": {
      "application/vnd.jupyter.widget-view+json": {
       "model_id": "edab604302294f45b815c7fe7fae95cf",
       "version_major": 2,
       "version_minor": 0
      },
      "text/plain": [
       "HTML(value='<h1>Markdown Title</h1>\\n<h2>Markdown Subtitle</h2>\\n<p>Some body text</p>\\n<ul>\\n<li>a list eleme…"
      ]
     },
     "metadata": {},
     "output_type": "display_data"
    }
   ],
   "source": [
    "output_markdown(\"\"\"\n",
    "# Markdown Title\n",
    "\n",
    "## Markdown Subtitle\n",
    "\n",
    "Some body text\n",
    "\n",
    "* a list element\n",
    "* another list element\n",
    "\"\"\")"
   ]
  },
  {
   "cell_type": "markdown",
   "metadata": {},
   "source": [
    "## Snackbar"
   ]
  },
  {
   "cell_type": "code",
   "execution_count": null,
   "metadata": {},
   "outputs": [],
   "source": [
    "# export\n",
    "\n",
    "class _InfoSnackbar(ipyvuetify.VuetifyTemplate):\n",
    "    color = traitlets.Unicode(\"primary\").tag(sync=True, allow_null=True)\n",
    "    message = traitlets.Unicode(\"\").tag(sync=True, allow_null=False)\n",
    "    timeout = traitlets.Integer(5000).tag(sync=True, allow_null=True)\n",
    "    active = traitlets.Bool(True).tag(sync=True, allow_null=True)\n",
    "    multi_line = traitlets.Bool(True).tag(sync=True, allow_null=True)\n",
    "\n",
    "    template = traitlets.Unicode(\n",
    "        \"\"\"\n",
    "        <template>\n",
    "            <v-snackbar\n",
    "                v-model=\"active\"\n",
    "                centered=true\n",
    "                :color=\"color\"\n",
    "                elevation=0\n",
    "                :multi-line=\"multi_line\"\n",
    "                :timeout=\"timeout\"\n",
    "            >\n",
    "              {{message}}\n",
    "\n",
    "            <v-btn\n",
    "              color=\"white\"\n",
    "              text\n",
    "              @click=\"active = false\"\n",
    "            >\n",
    "              Close\n",
    "            </v-btn>\n",
    "\n",
    "            </v-snackbar>\n",
    "          </template>\n",
    "\n",
    "        \"\"\"\n",
    "    ).tag(sync=True)\n",
    "\n",
    "    def __init__(\n",
    "        self,\n",
    "        snackbar=False,\n",
    "        message=None,\n",
    "        multi_line=True,\n",
    "        color=\"primary\",\n",
    "        timeout=6000,\n",
    "        active=True,\n",
    "        *args,\n",
    "        **kwargs\n",
    "    ):\n",
    "        super().__init__(*args, **kwargs)\n",
    "        self.color = color\n",
    "        self.timeout = timeout\n",
    "        self.active = active\n",
    "        self.message = message\n",
    "        self.multi_line = multi_line\n",
    "\n",
    "def output_info_snackbar(snackbar=False,\n",
    "        message=None,\n",
    "        multi_line=True,\n",
    "        color=\"primary\",\n",
    "        timeout=6000,\n",
    "        active=True):\n",
    "    \"\"\"\n",
    "    snackbar widget\n",
    "\n",
    "    Useful for displaying information/messages\n",
    "\n",
    "    message : str\n",
    "        Status message to display\n",
    "    timeout : int, optional default 6000\n",
    "        How long to display the message (in milliseconds)\n",
    "    multi_line : bool, optional default True\n",
    "        Whether the snackbar should be multi-line (or not)\n",
    "    color : str, optional default 'primary'\n",
    "        ipyvuetify color of snackbar\n",
    "        Typical options include ['primary','error','warning','success']\n",
    "    active : bool, optional, default True\n",
    "        Whether to display snackbar\n",
    "        \"\"\"\n",
    "    return _InfoSnackbar(snackbar=snackbar,\n",
    "                        message=message,\n",
    "                        multi_line=multi_line,\n",
    "                        color=color,\n",
    "                        timeout=timeout,\n",
    "                        active=active)"
   ]
  },
  {
   "cell_type": "code",
   "execution_count": null,
   "metadata": {},
   "outputs": [
    {
     "data": {
      "application/vnd.jupyter.widget-view+json": {
       "model_id": "e59ee7a669714f65b4a1cd73409ef052",
       "version_major": 2,
       "version_minor": 0
      },
      "text/plain": [
       "_InfoSnackbar(color='warning', message='Message text', timeout=4000)"
      ]
     },
     "metadata": {},
     "output_type": "display_data"
    }
   ],
   "source": [
    "output_info_snackbar(message='Message text', color='warning',timeout=4000, multi_line=True)"
   ]
  },
  {
   "cell_type": "markdown",
   "metadata": {},
   "source": [
    "## Dialog Button"
   ]
  },
  {
   "cell_type": "code",
   "execution_count": null,
   "metadata": {},
   "outputs": [],
   "source": [
    "# export\n",
    "\n",
    "\n",
    "def output_dialog_button(label='',\n",
    "                  icon='mdi-help',\n",
    "                  _class=\"icon ma-2\",\n",
    "                  _style=\"\",\n",
    "                  color=\"primary\",\n",
    "                  dark=False,\n",
    "                  dialog_width=600,\n",
    "                  dialog_title=\"Dialog Title\",\n",
    "                  dialog_content=\"Dialog Content\",\n",
    "                  **args\n",
    "                ):\n",
    "    \"\"\"\n",
    "    Creates a button and activates a dialog on click\n",
    "\n",
    "    Useful to display application documentation/help\n",
    "\n",
    "    Parameters\n",
    "    ----------\n",
    "    icon : str (optional, default None)\n",
    "        Icon to display on button\n",
    "    label : str (optoinal, default None)\n",
    "        Text to display on button\n",
    "    dialog_width : int (optional, default 600)\n",
    "        Width of the dialog in pixels\n",
    "    dialog_title : str (optional, default 'Help Title')\n",
    "        Dialog title\n",
    "    dialog_content : str (optional, default '')\n",
    "        Dialog content in markdown format\n",
    "    color : str (optional, default 'primary')\n",
    "        Color of button\n",
    "    dark : bool\n",
    "        Use dark style\n",
    "    _class : str (optional, default 'icon ma-2')\n",
    "        CSS classes of button\n",
    "    _style: str\n",
    "        CSS style of button\n",
    "    **args\n",
    "        Other arguments will be passed on to ipyvuetify.Dialog\n",
    "    \"\"\"\n",
    "\n",
    "    if icon is None:\n",
    "        icon=''\n",
    "\n",
    "    if label is None:\n",
    "        label=''\n",
    "\n",
    "    dialog_button = ipyvuetify.Btn(\n",
    "        _class_=\"icon ma-2\",\n",
    "        _style='',\n",
    "        color=color,\n",
    "        depressed=True,\n",
    "        dark=dark,\n",
    "        children=[label, ipyvuetify.Icon(children=[icon])],\n",
    "    )\n",
    "\n",
    "    close_dialog_btn = ipyvuetify.Btn(children=[\"Close\"])\n",
    "\n",
    "    dialog_dialog = ipyvuetify.Dialog(\n",
    "        v_model=False,\n",
    "        scrollable=True,\n",
    "        width=dialog_width,\n",
    "        children=[\n",
    "            ipyvuetify.Card(children=[\n",
    "                ipyvuetify.CardTitle(class_=\"headline pa-4\",\n",
    "                                     children=[dialog_title]),\n",
    "                ipyvuetify.Divider(),\n",
    "                ipyvuetify.CardText(\n",
    "                    class_=\"pa-4 text--primary\",\n",
    "                    primary_title=True,\n",
    "                    children=[dialog_content],\n",
    "                ),\n",
    "                ipyvuetify.Divider(),\n",
    "                close_dialog_btn,\n",
    "            ])\n",
    "        ],\n",
    "        **args\n",
    "    )\n",
    "\n",
    "    def open_dialog_dialog(widget, event, data):\n",
    "        dialog_dialog.v_model = True\n",
    "\n",
    "    def close_dialog_dialog(widget, event, data):\n",
    "        dialog_dialog.v_model = False\n",
    "\n",
    "    display(ipyvuetify.Layout(children=[dialog_dialog]))\n",
    "    close_dialog_btn.on_event(\"click\", close_dialog_dialog)\n",
    "    dialog_button.on_event(\"click\", open_dialog_dialog)\n",
    "    return dialog_button"
   ]
  },
  {
   "cell_type": "code",
   "execution_count": null,
   "metadata": {},
   "outputs": [
    {
     "data": {
      "application/vnd.jupyter.widget-view+json": {
       "model_id": "5d44df80dccd430293f1dbe4da47d9dd",
       "version_major": 2,
       "version_minor": 0
      },
      "text/plain": [
       "Layout(children=[Dialog(children=[Card(children=[CardTitle(children=['Dialog Title'], class_='headline pa-4'),…"
      ]
     },
     "metadata": {},
     "output_type": "display_data"
    },
    {
     "data": {
      "application/vnd.jupyter.widget-view+json": {
       "model_id": "4b3d66002edb47adbc117d9a58105343",
       "version_major": 2,
       "version_minor": 0
      },
      "text/plain": [
       "Btn(children=['My Button', Icon(children=[''])], color='primary', dark=False, depressed=True)"
      ]
     },
     "metadata": {},
     "output_type": "display_data"
    }
   ],
   "source": [
    "output_dialog_button(label='My Button',icon=None)"
   ]
  },
  {
   "cell_type": "markdown",
   "metadata": {},
   "source": [
    "## Container"
   ]
  },
  {
   "cell_type": "code",
   "execution_count": null,
   "metadata": {},
   "outputs": [],
   "source": [
    "# export\n",
    "\n",
    "\n",
    "def output_container(\n",
    "    children=[],\n",
    "    fluid=False,\n",
    "    _class=\"icon ma-2\",\n",
    "    _style=\"\",\n",
    "    **args\n",
    "):\n",
    "    \"\"\"\n",
    "    Creates a button and activates a dialog on click\n",
    "\n",
    "    Useful to display application documentation/help\n",
    "\n",
    "    Parameters\n",
    "    ----------\n",
    "    children : list\n",
    "        List of elements to display in container\n",
    "    fluid : bool (default False)\n",
    "        Removes viewport maximum-width size breakpoints\n",
    "    _class : str (optional, default 'icon ma-2')\n",
    "        CSS classes of button\n",
    "    _style: str\n",
    "        CSS style of button\n",
    "    **args\n",
    "        Other arguments will be passed on to ipyvuetify.Container\n",
    "    \"\"\"\n",
    "\n",
    "    ret = ipyvuetify.Container(\n",
    "        _class_=_class,\n",
    "        _style=_style,\n",
    "        children=children,\n",
    "        fluid=fluid,\n",
    "        **args\n",
    "    )\n",
    "\n",
    "    return ret"
   ]
  },
  {
   "cell_type": "code",
   "execution_count": null,
   "metadata": {},
   "outputs": [
    {
     "data": {
      "application/vnd.jupyter.widget-view+json": {
       "model_id": "cda2639d711d43ebb6009a105f3a8baf",
       "version_major": 2,
       "version_minor": 0
      },
      "text/plain": [
       "Container(children=[Btn(children=['Red'], color='red', dark=False, fab=False, large=False, outlined=False, rou…"
      ]
     },
     "metadata": {},
     "output_type": "display_data"
    }
   ],
   "source": [
    "output_container(fluid=False,\n",
    "          children=[\n",
    "              input_button(color='red', label='Red'),\n",
    "              input_button(color='blue', label='Blue'),\n",
    "              input_button(color='green', label='Green')\n",
    "          ])"
   ]
  },
  {
   "cell_type": "markdown",
   "metadata": {},
   "source": [
    "## Row"
   ]
  },
  {
   "cell_type": "code",
   "execution_count": null,
   "metadata": {},
   "outputs": [],
   "source": [
    "# export\n",
    "\n",
    "\n",
    "def output_row(\n",
    "    children=[],\n",
    "    align=None,\n",
    "    align_content=None,\n",
    "    justify=None,\n",
    "    dense=False,\n",
    "    no_gutters=False,\n",
    "    _class=\"\",\n",
    "    _style=\"\",\n",
    "    **args\n",
    "):\n",
    "    \"\"\"\n",
    "    Create a row output container\n",
    "\n",
    "    For details see: https://vuetifyjs.com/en/components/grids/\n",
    "\n",
    "    Parameters\n",
    "    ----------\n",
    "    children : list (default [])\n",
    "        List of elements to display in container\n",
    "    align : str (default None)\n",
    "        Applies the align-items css property. Available options are start, center, end, baseline and stretch.\n",
    "    align_content : str (default None)\n",
    "        Applies the align-content css property. Available options are start, center, end, space-between, space-around and stretch.\n",
    "    justify : str (default None)\n",
    "        Applies the justify-content css property. Available options are start, center, end, space-between and space-around.\n",
    "    dense : bool (default False)\n",
    "        Reduces the gutter between v-cols.\n",
    "    no_gutters : bool (default False)\n",
    "        Removes the gutter between v-cols.\n",
    "    _class : str (optional, default 'icon ma-2')\n",
    "        CSS classes of button\n",
    "    _style: str\n",
    "        CSS style of button\n",
    "    **args\n",
    "        Other arguments will be passed on to ipyvuetify.Row\n",
    "    \"\"\"\n",
    "\n",
    "    ret = ipyvuetify.Row(\n",
    "        children=children,\n",
    "        align=align,\n",
    "        align_content=align_content,\n",
    "        justify=justify,\n",
    "        dense=dense,\n",
    "        no_gutters=no_gutters,\n",
    "        _class_=_class,\n",
    "        _style=_style,\n",
    "        **args\n",
    "    )\n",
    "\n",
    "    return ret"
   ]
  },
  {
   "cell_type": "code",
   "execution_count": null,
   "metadata": {},
   "outputs": [
    {
     "data": {
      "application/vnd.jupyter.widget-view+json": {
       "model_id": "522677805117446d9efc1b842920d530",
       "version_major": 2,
       "version_minor": 0
      },
      "text/plain": [
       "Container(children=[Row(children=[Btn(children=['Red'], color='red', dark=False, fab=False, large=False, outli…"
      ]
     },
     "metadata": {},
     "output_type": "display_data"
    }
   ],
   "source": [
    "output_container(children=[\n",
    "    output_row(children=[input_button(color='red', label='Red')]),\n",
    "    output_row(children=[input_button(color='blue', label='Blue')]),\n",
    "    output_row(children=[input_button(color='green', label='Green')])\n",
    "])"
   ]
  },
  {
   "cell_type": "markdown",
   "metadata": {},
   "source": [
    "## Column"
   ]
  },
  {
   "cell_type": "code",
   "execution_count": null,
   "metadata": {},
   "outputs": [],
   "source": [
    "# export\n",
    "\n",
    "\n",
    "def output_column(\n",
    "    children=[],\n",
    "    cols=None,\n",
    "    offset=None,\n",
    "    order=None,\n",
    "    align_self=None,\n",
    "    class_=\"\",\n",
    "    style_=\"\",\n",
    "    **args\n",
    "):\n",
    "    \"\"\"\n",
    "    Create a column output container\n",
    "\n",
    "    For details see: https://vuetifyjs.com/en/components/grids/\n",
    "\n",
    "    Parameters\n",
    "    ----------\n",
    "    children : list (default [])\n",
    "        List of elements to display in container\n",
    "    cols : None, str, int\n",
    "        Sets the default number of columns the component extends. Available options are 1 -> 12 and auto.\n",
    "    offset : None, str, int\n",
    "        Sets the default offset for the column.\n",
    "    order: None\n",
    "        Sets the default order for the column.\n",
    "    align_self : None, str, int\n",
    "        Applies the align-items css property. Available options are start, center, end, auto, baseline and stretch. See https://developer.mozilla.org/en-US/docs/Web/CSS/align-items\n",
    "    class_ : str (optional, default 'icon ma-2')\n",
    "        CSS classes of button\n",
    "    style_: str\n",
    "        CSS style of button\n",
    "    **args\n",
    "        Other arguments will be passed on to ipyvuetify.Column\n",
    "    \"\"\"\n",
    "\n",
    "    ret = ipyvuetify.Col(\n",
    "        children=children,\n",
    "        cols=cols,\n",
    "        offset=offset,\n",
    "        order=order,\n",
    "        align_self=align_self,\n",
    "        class_=class_,\n",
    "        style_=style_,\n",
    "        justify_space_between=True,\n",
    "    )\n",
    "\n",
    "    return ret"
   ]
  },
  {
   "cell_type": "code",
   "execution_count": null,
   "metadata": {},
   "outputs": [
    {
     "data": {
      "application/vnd.jupyter.widget-view+json": {
       "model_id": "a84ce0c03cb54f5a9570cf0657eb612f",
       "version_major": 2,
       "version_minor": 0
      },
      "text/plain": [
       "Row(children=[Col(children=[Btn(children=['Red'], color='red', dark=False, fab=False, large=False, outlined=Fa…"
      ]
     },
     "metadata": {},
     "output_type": "display_data"
    }
   ],
   "source": [
    "output_row(children=[\n",
    "    output_column(order=1, cols=4, children=[input_button(color='red', label='Red')]),\n",
    "    output_column(order=0, cols=4, children=[input_button(color='blue', label='Blue')]),\n",
    "    output_column(order=2, cols=4, children=[input_button(color='green', label='Green')])\n",
    "])"
   ]
  },
  {
   "cell_type": "code",
   "execution_count": null,
   "metadata": {},
   "outputs": [
    {
     "name": "stdout",
     "output_type": "stream",
     "text": [
      "Converted 00_inputs.ipynb.\n",
      "Converted 01_outputs.ipynb.\n",
      "Converted 02_templates.ipynb.\n",
      "Converted index.ipynb.\n"
     ]
    }
   ],
   "source": [
    "#hide\n",
    "from nbdev.export import notebook2script \n",
    "notebook2script()"
   ]
  }
 ],
 "metadata": {
  "kernelspec": {
   "display_name": "Python (vvapp)",
   "language": "python",
   "name": "vvapp"
  }
 },
 "nbformat": 4,
 "nbformat_minor": 2
}
